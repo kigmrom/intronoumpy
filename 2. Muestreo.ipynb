{
 "cells": [
  {
   "cell_type": "markdown",
   "metadata": {
    "application/vnd.databricks.v1+cell": {
     "cellMetadata": {},
     "inputWidgets": {},
     "nuid": "8dca1e52-a666-4428-a3f2-f5147f54e47b",
     "showTitle": false,
     "title": ""
    }
   },
   "source": [
    "## 2. Muestreo Aleatorio"
   ]
  },
  {
   "cell_type": "markdown",
   "metadata": {},
   "source": [
    "import numpy as np\n",
    "\n",
    "import pandas as pd\n",
    "\n",
    "import scipy as stat"
   ]
  },
  {
   "cell_type": "code",
   "execution_count": 1,
   "metadata": {
    "application/vnd.databricks.v1+cell": {
     "cellMetadata": {
      "byteLimit": 2048000,
      "rowLimit": 10000
     },
     "inputWidgets": {},
     "nuid": "ebaf95d1-991a-439b-9664-9d191304859f",
     "showTitle": false,
     "title": ""
    }
   },
   "outputs": [],
   "source": [
    "import numpy as np\n",
    "import pandas as pd\n",
    "import scipy as stat"
   ]
  },
  {
   "cell_type": "markdown",
   "metadata": {},
   "source": [
    "personas = pd.read_csv(\"personas.csv\")"
   ]
  },
  {
   "cell_type": "code",
   "execution_count": 2,
   "metadata": {
    "application/vnd.databricks.v1+cell": {
     "cellMetadata": {
      "byteLimit": 2048000,
      "rowLimit": 10000
     },
     "inputWidgets": {},
     "nuid": "ddd5266d-397b-4d9c-9c60-a824fc2dfc58",
     "showTitle": false,
     "title": ""
    }
   },
   "outputs": [
    {
     "data": {
      "text/html": [
       "<div>\n",
       "<style scoped>\n",
       "    .dataframe tbody tr th:only-of-type {\n",
       "        vertical-align: middle;\n",
       "    }\n",
       "\n",
       "    .dataframe tbody tr th {\n",
       "        vertical-align: top;\n",
       "    }\n",
       "\n",
       "    .dataframe thead th {\n",
       "        text-align: right;\n",
       "    }\n",
       "</style>\n",
       "<table border=\"1\" class=\"dataframe\">\n",
       "  <thead>\n",
       "    <tr style=\"text-align: right;\">\n",
       "      <th></th>\n",
       "      <th>altura</th>\n",
       "      <th>peso</th>\n",
       "      <th>ingreso</th>\n",
       "      <th>horas_trabajadas</th>\n",
       "      <th>ausencias</th>\n",
       "    </tr>\n",
       "  </thead>\n",
       "  <tbody>\n",
       "    <tr>\n",
       "      <th>0</th>\n",
       "      <td>134.433878</td>\n",
       "      <td>70.617864</td>\n",
       "      <td>9973.577534</td>\n",
       "      <td>40.905476</td>\n",
       "      <td>4</td>\n",
       "    </tr>\n",
       "    <tr>\n",
       "      <th>1</th>\n",
       "      <td>167.158746</td>\n",
       "      <td>109.268295</td>\n",
       "      <td>8961.047249</td>\n",
       "      <td>41.576483</td>\n",
       "      <td>4</td>\n",
       "    </tr>\n",
       "    <tr>\n",
       "      <th>2</th>\n",
       "      <td>141.480812</td>\n",
       "      <td>81.034644</td>\n",
       "      <td>7437.977263</td>\n",
       "      <td>41.369239</td>\n",
       "      <td>5</td>\n",
       "    </tr>\n",
       "    <tr>\n",
       "      <th>3</th>\n",
       "      <td>123.227119</td>\n",
       "      <td>57.884172</td>\n",
       "      <td>12064.915290</td>\n",
       "      <td>41.537211</td>\n",
       "      <td>3</td>\n",
       "    </tr>\n",
       "    <tr>\n",
       "      <th>4</th>\n",
       "      <td>143.554951</td>\n",
       "      <td>93.581093</td>\n",
       "      <td>9296.396167</td>\n",
       "      <td>40.441203</td>\n",
       "      <td>4</td>\n",
       "    </tr>\n",
       "  </tbody>\n",
       "</table>\n",
       "</div>"
      ],
      "text/plain": [
       "       altura        peso       ingreso  horas_trabajadas  ausencias\n",
       "0  134.433878   70.617864   9973.577534         40.905476          4\n",
       "1  167.158746  109.268295   8961.047249         41.576483          4\n",
       "2  141.480812   81.034644   7437.977263         41.369239          5\n",
       "3  123.227119   57.884172  12064.915290         41.537211          3\n",
       "4  143.554951   93.581093   9296.396167         40.441203          4"
      ]
     },
     "execution_count": 2,
     "metadata": {},
     "output_type": "execute_result"
    }
   ],
   "source": [
    "df_personas = pd.read_excel('Dataset/personas.xlsx')\n",
    "df_personas.head()"
   ]
  },
  {
   "cell_type": "markdown",
   "metadata": {
    "application/vnd.databricks.v1+cell": {
     "cellMetadata": {
      "byteLimit": 2048000,
      "rowLimit": 10000
     },
     "inputWidgets": {},
     "nuid": "602f7622-730d-4066-8cb1-6ddfdd5411d9",
     "showTitle": false,
     "title": ""
    }
   },
   "source": [
    "df_personas\n"
   ]
  },
  {
   "cell_type": "markdown",
   "metadata": {},
   "source": []
  },
  {
   "cell_type": "markdown",
   "metadata": {
    "application/vnd.databricks.v1+cell": {
     "cellMetadata": {},
     "inputWidgets": {},
     "nuid": "7a514efc-4216-416e-b560-ac4cd72f3707",
     "showTitle": false,
     "title": ""
    }
   },
   "source": [
    "------\n",
    "### Muestreo de Rows"
   ]
  },
  {
   "cell_type": "markdown",
   "metadata": {},
   "source": [
    "muestra_personas = df_personas.sample(frac = 0.10)\n",
    "muestra_personas"
   ]
  },
  {
   "cell_type": "code",
   "execution_count": 10,
   "metadata": {},
   "outputs": [
    {
     "data": {
      "text/html": [
       "<div>\n",
       "<style scoped>\n",
       "    .dataframe tbody tr th:only-of-type {\n",
       "        vertical-align: middle;\n",
       "    }\n",
       "\n",
       "    .dataframe tbody tr th {\n",
       "        vertical-align: top;\n",
       "    }\n",
       "\n",
       "    .dataframe thead th {\n",
       "        text-align: right;\n",
       "    }\n",
       "</style>\n",
       "<table border=\"1\" class=\"dataframe\">\n",
       "  <thead>\n",
       "    <tr style=\"text-align: right;\">\n",
       "      <th></th>\n",
       "      <th>altura</th>\n",
       "      <th>peso</th>\n",
       "      <th>ingreso</th>\n",
       "      <th>horas_trabajadas</th>\n",
       "      <th>ausencias</th>\n",
       "    </tr>\n",
       "  </thead>\n",
       "  <tbody>\n",
       "    <tr>\n",
       "      <th>425</th>\n",
       "      <td>143.043913</td>\n",
       "      <td>82.922178</td>\n",
       "      <td>9329.543635</td>\n",
       "      <td>40.511352</td>\n",
       "      <td>4</td>\n",
       "    </tr>\n",
       "    <tr>\n",
       "      <th>988</th>\n",
       "      <td>160.773830</td>\n",
       "      <td>106.292834</td>\n",
       "      <td>13166.735550</td>\n",
       "      <td>41.602362</td>\n",
       "      <td>2</td>\n",
       "    </tr>\n",
       "    <tr>\n",
       "      <th>155</th>\n",
       "      <td>187.279235</td>\n",
       "      <td>126.549768</td>\n",
       "      <td>10646.478140</td>\n",
       "      <td>41.145275</td>\n",
       "      <td>3</td>\n",
       "    </tr>\n",
       "    <tr>\n",
       "      <th>673</th>\n",
       "      <td>122.837537</td>\n",
       "      <td>55.114137</td>\n",
       "      <td>8575.142792</td>\n",
       "      <td>41.806896</td>\n",
       "      <td>4</td>\n",
       "    </tr>\n",
       "    <tr>\n",
       "      <th>782</th>\n",
       "      <td>109.536839</td>\n",
       "      <td>43.470586</td>\n",
       "      <td>13063.643860</td>\n",
       "      <td>41.962587</td>\n",
       "      <td>2</td>\n",
       "    </tr>\n",
       "    <tr>\n",
       "      <th>...</th>\n",
       "      <td>...</td>\n",
       "      <td>...</td>\n",
       "      <td>...</td>\n",
       "      <td>...</td>\n",
       "      <td>...</td>\n",
       "    </tr>\n",
       "    <tr>\n",
       "      <th>8</th>\n",
       "      <td>178.229851</td>\n",
       "      <td>116.055520</td>\n",
       "      <td>11934.461470</td>\n",
       "      <td>41.163304</td>\n",
       "      <td>3</td>\n",
       "    </tr>\n",
       "    <tr>\n",
       "      <th>506</th>\n",
       "      <td>177.117368</td>\n",
       "      <td>100.855795</td>\n",
       "      <td>12725.639330</td>\n",
       "      <td>41.198430</td>\n",
       "      <td>2</td>\n",
       "    </tr>\n",
       "    <tr>\n",
       "      <th>189</th>\n",
       "      <td>133.976229</td>\n",
       "      <td>82.414895</td>\n",
       "      <td>10367.033370</td>\n",
       "      <td>40.796422</td>\n",
       "      <td>3</td>\n",
       "    </tr>\n",
       "    <tr>\n",
       "      <th>147</th>\n",
       "      <td>142.526930</td>\n",
       "      <td>74.744888</td>\n",
       "      <td>10688.979560</td>\n",
       "      <td>40.311096</td>\n",
       "      <td>3</td>\n",
       "    </tr>\n",
       "    <tr>\n",
       "      <th>317</th>\n",
       "      <td>169.810278</td>\n",
       "      <td>110.743899</td>\n",
       "      <td>9959.026626</td>\n",
       "      <td>41.141188</td>\n",
       "      <td>4</td>\n",
       "    </tr>\n",
       "  </tbody>\n",
       "</table>\n",
       "<p>10000 rows × 5 columns</p>\n",
       "</div>"
      ],
      "text/plain": [
       "         altura        peso       ingreso  horas_trabajadas  ausencias\n",
       "425  143.043913   82.922178   9329.543635         40.511352          4\n",
       "988  160.773830  106.292834  13166.735550         41.602362          2\n",
       "155  187.279235  126.549768  10646.478140         41.145275          3\n",
       "673  122.837537   55.114137   8575.142792         41.806896          4\n",
       "782  109.536839   43.470586  13063.643860         41.962587          2\n",
       "..          ...         ...           ...               ...        ...\n",
       "8    178.229851  116.055520  11934.461470         41.163304          3\n",
       "506  177.117368  100.855795  12725.639330         41.198430          2\n",
       "189  133.976229   82.414895  10367.033370         40.796422          3\n",
       "147  142.526930   74.744888  10688.979560         40.311096          3\n",
       "317  169.810278  110.743899   9959.026626         41.141188          4\n",
       "\n",
       "[10000 rows x 5 columns]"
      ]
     },
     "execution_count": 10,
     "metadata": {},
     "output_type": "execute_result"
    }
   ],
   "source": [
    "muestras_p = df_personas.sample(n = 10000, replace=True)\n",
    "muestras_p"
   ]
  },
  {
   "cell_type": "code",
   "execution_count": 11,
   "metadata": {
    "application/vnd.databricks.v1+cell": {
     "cellMetadata": {
      "byteLimit": 2048000,
      "rowLimit": 10000
     },
     "inputWidgets": {},
     "nuid": "7f48d9f8-52c2-4330-afed-db9c99c5fe35",
     "showTitle": false,
     "title": ""
    }
   },
   "outputs": [
    {
     "data": {
      "text/html": [
       "<div>\n",
       "<style scoped>\n",
       "    .dataframe tbody tr th:only-of-type {\n",
       "        vertical-align: middle;\n",
       "    }\n",
       "\n",
       "    .dataframe tbody tr th {\n",
       "        vertical-align: top;\n",
       "    }\n",
       "\n",
       "    .dataframe thead th {\n",
       "        text-align: right;\n",
       "    }\n",
       "</style>\n",
       "<table border=\"1\" class=\"dataframe\">\n",
       "  <thead>\n",
       "    <tr style=\"text-align: right;\">\n",
       "      <th></th>\n",
       "      <th>altura</th>\n",
       "      <th>peso</th>\n",
       "      <th>ingreso</th>\n",
       "      <th>horas_trabajadas</th>\n",
       "      <th>ausencias</th>\n",
       "    </tr>\n",
       "  </thead>\n",
       "  <tbody>\n",
       "    <tr>\n",
       "      <th>217</th>\n",
       "      <td>127.956959</td>\n",
       "      <td>48.429071</td>\n",
       "      <td>10178.039210</td>\n",
       "      <td>40.937751</td>\n",
       "      <td>4</td>\n",
       "    </tr>\n",
       "    <tr>\n",
       "      <th>768</th>\n",
       "      <td>116.659020</td>\n",
       "      <td>42.453811</td>\n",
       "      <td>12372.136970</td>\n",
       "      <td>42.174607</td>\n",
       "      <td>2</td>\n",
       "    </tr>\n",
       "    <tr>\n",
       "      <th>288</th>\n",
       "      <td>148.088831</td>\n",
       "      <td>77.823662</td>\n",
       "      <td>11265.492690</td>\n",
       "      <td>42.030289</td>\n",
       "      <td>3</td>\n",
       "    </tr>\n",
       "    <tr>\n",
       "      <th>280</th>\n",
       "      <td>123.204654</td>\n",
       "      <td>70.807415</td>\n",
       "      <td>10761.730740</td>\n",
       "      <td>41.260881</td>\n",
       "      <td>3</td>\n",
       "    </tr>\n",
       "    <tr>\n",
       "      <th>373</th>\n",
       "      <td>158.759479</td>\n",
       "      <td>101.939872</td>\n",
       "      <td>11422.597390</td>\n",
       "      <td>41.269245</td>\n",
       "      <td>3</td>\n",
       "    </tr>\n",
       "    <tr>\n",
       "      <th>926</th>\n",
       "      <td>148.522704</td>\n",
       "      <td>91.471818</td>\n",
       "      <td>9993.322490</td>\n",
       "      <td>40.785573</td>\n",
       "      <td>4</td>\n",
       "    </tr>\n",
       "    <tr>\n",
       "      <th>244</th>\n",
       "      <td>150.863863</td>\n",
       "      <td>95.074258</td>\n",
       "      <td>7067.791126</td>\n",
       "      <td>40.778464</td>\n",
       "      <td>5</td>\n",
       "    </tr>\n",
       "    <tr>\n",
       "      <th>323</th>\n",
       "      <td>181.198303</td>\n",
       "      <td>128.679401</td>\n",
       "      <td>9212.226723</td>\n",
       "      <td>40.890555</td>\n",
       "      <td>4</td>\n",
       "    </tr>\n",
       "    <tr>\n",
       "      <th>803</th>\n",
       "      <td>181.230782</td>\n",
       "      <td>104.540775</td>\n",
       "      <td>9743.275116</td>\n",
       "      <td>41.714100</td>\n",
       "      <td>4</td>\n",
       "    </tr>\n",
       "    <tr>\n",
       "      <th>341</th>\n",
       "      <td>120.039464</td>\n",
       "      <td>53.337692</td>\n",
       "      <td>9370.892018</td>\n",
       "      <td>40.909201</td>\n",
       "      <td>4</td>\n",
       "    </tr>\n",
       "  </tbody>\n",
       "</table>\n",
       "</div>"
      ],
      "text/plain": [
       "         altura        peso       ingreso  horas_trabajadas  ausencias\n",
       "217  127.956959   48.429071  10178.039210         40.937751          4\n",
       "768  116.659020   42.453811  12372.136970         42.174607          2\n",
       "288  148.088831   77.823662  11265.492690         42.030289          3\n",
       "280  123.204654   70.807415  10761.730740         41.260881          3\n",
       "373  158.759479  101.939872  11422.597390         41.269245          3\n",
       "926  148.522704   91.471818   9993.322490         40.785573          4\n",
       "244  150.863863   95.074258   7067.791126         40.778464          5\n",
       "323  181.198303  128.679401   9212.226723         40.890555          4\n",
       "803  181.230782  104.540775   9743.275116         41.714100          4\n",
       "341  120.039464   53.337692   9370.892018         40.909201          4"
      ]
     },
     "execution_count": 11,
     "metadata": {},
     "output_type": "execute_result"
    }
   ],
   "source": [
    "muestras_personas = df_personas.sample(frac = 0.01)\n",
    "muestras_personas"
   ]
  },
  {
   "cell_type": "markdown",
   "metadata": {
    "application/vnd.databricks.v1+cell": {
     "cellMetadata": {
      "byteLimit": 2048000,
      "rowLimit": 10000
     },
     "inputWidgets": {},
     "nuid": "1af181c8-f000-47d4-a23f-ad73d94bc41e",
     "showTitle": false,
     "title": ""
    }
   },
   "source": [
    "muestra_altura = np.random.choice(df_personas[\"altura\"], 10,replace=True)\n",
    "\n",
    "muestra_altura"
   ]
  },
  {
   "cell_type": "code",
   "execution_count": 13,
   "metadata": {},
   "outputs": [
    {
     "data": {
      "text/html": [
       "<div>\n",
       "<style scoped>\n",
       "    .dataframe tbody tr th:only-of-type {\n",
       "        vertical-align: middle;\n",
       "    }\n",
       "\n",
       "    .dataframe tbody tr th {\n",
       "        vertical-align: top;\n",
       "    }\n",
       "\n",
       "    .dataframe thead th {\n",
       "        text-align: right;\n",
       "    }\n",
       "</style>\n",
       "<table border=\"1\" class=\"dataframe\">\n",
       "  <thead>\n",
       "    <tr style=\"text-align: right;\">\n",
       "      <th></th>\n",
       "      <th>altura</th>\n",
       "      <th>peso</th>\n",
       "      <th>ingreso</th>\n",
       "      <th>horas_trabajadas</th>\n",
       "      <th>ausencias</th>\n",
       "    </tr>\n",
       "  </thead>\n",
       "  <tbody>\n",
       "    <tr>\n",
       "      <th>200</th>\n",
       "      <td>134.638020</td>\n",
       "      <td>79.033976</td>\n",
       "      <td>6178.455467</td>\n",
       "      <td>40.794684</td>\n",
       "      <td>5</td>\n",
       "    </tr>\n",
       "    <tr>\n",
       "      <th>873</th>\n",
       "      <td>125.315012</td>\n",
       "      <td>71.437726</td>\n",
       "      <td>10655.627960</td>\n",
       "      <td>40.363773</td>\n",
       "      <td>3</td>\n",
       "    </tr>\n",
       "    <tr>\n",
       "      <th>838</th>\n",
       "      <td>168.645246</td>\n",
       "      <td>108.886544</td>\n",
       "      <td>9899.402771</td>\n",
       "      <td>41.476258</td>\n",
       "      <td>4</td>\n",
       "    </tr>\n",
       "    <tr>\n",
       "      <th>632</th>\n",
       "      <td>163.431239</td>\n",
       "      <td>98.573324</td>\n",
       "      <td>7697.996185</td>\n",
       "      <td>40.253445</td>\n",
       "      <td>5</td>\n",
       "    </tr>\n",
       "    <tr>\n",
       "      <th>412</th>\n",
       "      <td>145.510628</td>\n",
       "      <td>74.550913</td>\n",
       "      <td>8685.258553</td>\n",
       "      <td>41.045363</td>\n",
       "      <td>4</td>\n",
       "    </tr>\n",
       "    <tr>\n",
       "      <th>114</th>\n",
       "      <td>158.474768</td>\n",
       "      <td>89.442860</td>\n",
       "      <td>12957.738760</td>\n",
       "      <td>41.755488</td>\n",
       "      <td>2</td>\n",
       "    </tr>\n",
       "    <tr>\n",
       "      <th>219</th>\n",
       "      <td>135.202738</td>\n",
       "      <td>69.211938</td>\n",
       "      <td>11881.246420</td>\n",
       "      <td>41.222369</td>\n",
       "      <td>3</td>\n",
       "    </tr>\n",
       "    <tr>\n",
       "      <th>990</th>\n",
       "      <td>169.245012</td>\n",
       "      <td>104.728251</td>\n",
       "      <td>8326.952663</td>\n",
       "      <td>41.909091</td>\n",
       "      <td>4</td>\n",
       "    </tr>\n",
       "    <tr>\n",
       "      <th>753</th>\n",
       "      <td>135.560896</td>\n",
       "      <td>78.345550</td>\n",
       "      <td>11509.433710</td>\n",
       "      <td>41.703491</td>\n",
       "      <td>3</td>\n",
       "    </tr>\n",
       "    <tr>\n",
       "      <th>87</th>\n",
       "      <td>162.414544</td>\n",
       "      <td>92.186679</td>\n",
       "      <td>7375.862502</td>\n",
       "      <td>41.115607</td>\n",
       "      <td>5</td>\n",
       "    </tr>\n",
       "  </tbody>\n",
       "</table>\n",
       "</div>"
      ],
      "text/plain": [
       "         altura        peso       ingreso  horas_trabajadas  ausencias\n",
       "200  134.638020   79.033976   6178.455467         40.794684          5\n",
       "873  125.315012   71.437726  10655.627960         40.363773          3\n",
       "838  168.645246  108.886544   9899.402771         41.476258          4\n",
       "632  163.431239   98.573324   7697.996185         40.253445          5\n",
       "412  145.510628   74.550913   8685.258553         41.045363          4\n",
       "114  158.474768   89.442860  12957.738760         41.755488          2\n",
       "219  135.202738   69.211938  11881.246420         41.222369          3\n",
       "990  169.245012  104.728251   8326.952663         41.909091          4\n",
       "753  135.560896   78.345550  11509.433710         41.703491          3\n",
       "87   162.414544   92.186679   7375.862502         41.115607          5"
      ]
     },
     "execution_count": 13,
     "metadata": {},
     "output_type": "execute_result"
    }
   ],
   "source": [
    "muestra_frac2 = df_personas.sample(frac= 0.01,  replace=True)\n",
    "muestra_frac2"
   ]
  },
  {
   "cell_type": "code",
   "execution_count": 14,
   "metadata": {},
   "outputs": [
    {
     "data": {
      "text/html": [
       "<div>\n",
       "<style scoped>\n",
       "    .dataframe tbody tr th:only-of-type {\n",
       "        vertical-align: middle;\n",
       "    }\n",
       "\n",
       "    .dataframe tbody tr th {\n",
       "        vertical-align: top;\n",
       "    }\n",
       "\n",
       "    .dataframe thead th {\n",
       "        text-align: right;\n",
       "    }\n",
       "</style>\n",
       "<table border=\"1\" class=\"dataframe\">\n",
       "  <thead>\n",
       "    <tr style=\"text-align: right;\">\n",
       "      <th></th>\n",
       "      <th>altura</th>\n",
       "      <th>peso</th>\n",
       "      <th>ingreso</th>\n",
       "      <th>horas_trabajadas</th>\n",
       "      <th>ausencias</th>\n",
       "    </tr>\n",
       "  </thead>\n",
       "  <tbody>\n",
       "    <tr>\n",
       "      <th>518</th>\n",
       "      <td>150.790008</td>\n",
       "      <td>94.205625</td>\n",
       "      <td>12486.205110</td>\n",
       "      <td>41.301266</td>\n",
       "      <td>2</td>\n",
       "    </tr>\n",
       "    <tr>\n",
       "      <th>281</th>\n",
       "      <td>137.354839</td>\n",
       "      <td>75.830813</td>\n",
       "      <td>10553.473740</td>\n",
       "      <td>40.794279</td>\n",
       "      <td>3</td>\n",
       "    </tr>\n",
       "    <tr>\n",
       "      <th>273</th>\n",
       "      <td>152.434815</td>\n",
       "      <td>91.791577</td>\n",
       "      <td>12947.296220</td>\n",
       "      <td>41.924367</td>\n",
       "      <td>2</td>\n",
       "    </tr>\n",
       "    <tr>\n",
       "      <th>740</th>\n",
       "      <td>149.806252</td>\n",
       "      <td>106.644449</td>\n",
       "      <td>9935.343327</td>\n",
       "      <td>40.986231</td>\n",
       "      <td>4</td>\n",
       "    </tr>\n",
       "    <tr>\n",
       "      <th>841</th>\n",
       "      <td>194.575166</td>\n",
       "      <td>123.001427</td>\n",
       "      <td>14779.753550</td>\n",
       "      <td>42.188158</td>\n",
       "      <td>1</td>\n",
       "    </tr>\n",
       "    <tr>\n",
       "      <th>...</th>\n",
       "      <td>...</td>\n",
       "      <td>...</td>\n",
       "      <td>...</td>\n",
       "      <td>...</td>\n",
       "      <td>...</td>\n",
       "    </tr>\n",
       "    <tr>\n",
       "      <th>712</th>\n",
       "      <td>140.371076</td>\n",
       "      <td>78.478965</td>\n",
       "      <td>6188.523777</td>\n",
       "      <td>40.884202</td>\n",
       "      <td>5</td>\n",
       "    </tr>\n",
       "    <tr>\n",
       "      <th>707</th>\n",
       "      <td>171.082474</td>\n",
       "      <td>117.885713</td>\n",
       "      <td>12516.985640</td>\n",
       "      <td>41.285385</td>\n",
       "      <td>2</td>\n",
       "    </tr>\n",
       "    <tr>\n",
       "      <th>3</th>\n",
       "      <td>123.227119</td>\n",
       "      <td>57.884172</td>\n",
       "      <td>12064.915290</td>\n",
       "      <td>41.537211</td>\n",
       "      <td>3</td>\n",
       "    </tr>\n",
       "    <tr>\n",
       "      <th>523</th>\n",
       "      <td>157.040371</td>\n",
       "      <td>94.950770</td>\n",
       "      <td>8175.929396</td>\n",
       "      <td>41.200580</td>\n",
       "      <td>5</td>\n",
       "    </tr>\n",
       "    <tr>\n",
       "      <th>936</th>\n",
       "      <td>140.452296</td>\n",
       "      <td>76.248330</td>\n",
       "      <td>8001.822469</td>\n",
       "      <td>41.098299</td>\n",
       "      <td>5</td>\n",
       "    </tr>\n",
       "  </tbody>\n",
       "</table>\n",
       "<p>1100 rows × 5 columns</p>\n",
       "</div>"
      ],
      "text/plain": [
       "         altura        peso       ingreso  horas_trabajadas  ausencias\n",
       "518  150.790008   94.205625  12486.205110         41.301266          2\n",
       "281  137.354839   75.830813  10553.473740         40.794279          3\n",
       "273  152.434815   91.791577  12947.296220         41.924367          2\n",
       "740  149.806252  106.644449   9935.343327         40.986231          4\n",
       "841  194.575166  123.001427  14779.753550         42.188158          1\n",
       "..          ...         ...           ...               ...        ...\n",
       "712  140.371076   78.478965   6188.523777         40.884202          5\n",
       "707  171.082474  117.885713  12516.985640         41.285385          2\n",
       "3    123.227119   57.884172  12064.915290         41.537211          3\n",
       "523  157.040371   94.950770   8175.929396         41.200580          5\n",
       "936  140.452296   76.248330   8001.822469         41.098299          5\n",
       "\n",
       "[1100 rows x 5 columns]"
      ]
     },
     "execution_count": 14,
     "metadata": {},
     "output_type": "execute_result"
    }
   ],
   "source": [
    "muestra_n2 = df_personas.sample(n = 1100, replace=True)\n",
    "muestra_n2"
   ]
  },
  {
   "cell_type": "markdown",
   "metadata": {},
   "source": []
  },
  {
   "cell_type": "markdown",
   "metadata": {
    "application/vnd.databricks.v1+cell": {
     "cellMetadata": {},
     "inputWidgets": {},
     "nuid": "a66f6b0f-bc62-44d7-9b90-58961af873f2",
     "showTitle": false,
     "title": ""
    }
   },
   "source": [
    "### Muestreo aleatorio con repeticion"
   ]
  },
  {
   "cell_type": "markdown",
   "metadata": {},
   "source": [
    "muestra_altura = np.random.choice(df_personas[\"altura\"], 100,replace=True)\n",
    "\n",
    "np.sort(muestra_altura)"
   ]
  },
  {
   "cell_type": "code",
   "execution_count": 15,
   "metadata": {
    "application/vnd.databricks.v1+cell": {
     "cellMetadata": {},
     "inputWidgets": {},
     "nuid": "82dcf03e-143a-45eb-8541-7a47e85120af",
     "showTitle": false,
     "title": ""
    }
   },
   "outputs": [
    {
     "data": {
      "text/plain": [
       "array([184.4462811, 166.2338815, 166.9931359, 168.2073247, 151.6784544,\n",
       "       166.6574635, 153.8773794, 134.0758643, 137.8160034, 159.230625 ])"
      ]
     },
     "execution_count": 15,
     "metadata": {},
     "output_type": "execute_result"
    }
   ],
   "source": [
    "muestra_np = np.random.choice(df_personas[\"altura\"], 10, replace=True)\n",
    "muestra_np"
   ]
  },
  {
   "cell_type": "markdown",
   "metadata": {
    "application/vnd.databricks.v1+cell": {
     "cellMetadata": {},
     "inputWidgets": {},
     "nuid": "1f57d8ae-a0df-43ce-9e22-23df39eb5708",
     "showTitle": false,
     "title": ""
    }
   },
   "source": [
    "### Muestreo de Elementos de una Columna"
   ]
  },
  {
   "cell_type": "markdown",
   "metadata": {
    "application/vnd.databricks.v1+cell": {
     "cellMetadata": {
      "byteLimit": 2048000,
      "rowLimit": 10000
     },
     "inputWidgets": {},
     "nuid": "26d93624-4993-4308-9ae2-601f88ff3a43",
     "showTitle": false,
     "title": ""
    }
   },
   "source": [
    "muestra_altura = np.random.choice(df_personas[\"altura\"], 100,replace=False)\n",
    "\n",
    "np.sort(muestra_altura)"
   ]
  },
  {
   "cell_type": "markdown",
   "metadata": {
    "application/vnd.databricks.v1+cell": {
     "cellMetadata": {},
     "inputWidgets": {},
     "nuid": "27e63cb0-edd0-41ae-8c81-e5424f965f4a",
     "showTitle": false,
     "title": ""
    }
   },
   "source": [
    "### sklearn\n",
    "\n",
    "https://scikit-learn.org/stable/modules/generated/sklearn.model_selection.train_test_split.html"
   ]
  },
  {
   "cell_type": "markdown",
   "metadata": {
    "application/vnd.databricks.v1+cell": {
     "cellMetadata": {
      "byteLimit": 2048000,
      "rowLimit": 10000
     },
     "inputWidgets": {},
     "nuid": "4e882214-3a1c-4771-b2d9-cb4916a01582",
     "showTitle": false,
     "title": ""
    }
   },
   "source": [
    "from sklearn.model_selection import train_test_split\n",
    "\n",
    "X_train, X_test, y_train, y_test = train_test_split(df_personas[[\"altura\",\"peso\",\"ausencias\",\"horas_trabajadas\"]], df_personas[\"ingreso\"], test_size=0.33)\n",
    "\n",
    "X_train"
   ]
  },
  {
   "cell_type": "code",
   "execution_count": 17,
   "metadata": {},
   "outputs": [
    {
     "ename": "NameError",
     "evalue": "name 'array' is not defined",
     "output_type": "error",
     "traceback": [
      "\u001b[0;31m---------------------------------------------------------------------------\u001b[0m",
      "\u001b[0;31mNameError\u001b[0m                                 Traceback (most recent call last)",
      "Cell \u001b[0;32mIn[17], line 4\u001b[0m\n\u001b[1;32m      2\u001b[0m X, y \u001b[38;5;241m=\u001b[39m np\u001b[38;5;241m.\u001b[39marange(\u001b[38;5;241m10\u001b[39m)\u001b[38;5;241m.\u001b[39mreshape((\u001b[38;5;241m5\u001b[39m, \u001b[38;5;241m2\u001b[39m)), \u001b[38;5;28mrange\u001b[39m(\u001b[38;5;241m5\u001b[39m)\n\u001b[1;32m      3\u001b[0m X\n\u001b[0;32m----> 4\u001b[0m \u001b[43marray\u001b[49m([[\u001b[38;5;241m0\u001b[39m, \u001b[38;5;241m1\u001b[39m],\n\u001b[1;32m      5\u001b[0m        [\u001b[38;5;241m2\u001b[39m, \u001b[38;5;241m3\u001b[39m],\n\u001b[1;32m      6\u001b[0m        [\u001b[38;5;241m4\u001b[39m, \u001b[38;5;241m5\u001b[39m],\n\u001b[1;32m      7\u001b[0m        [\u001b[38;5;241m6\u001b[39m, \u001b[38;5;241m7\u001b[39m],\n\u001b[1;32m      8\u001b[0m        [\u001b[38;5;241m8\u001b[39m, \u001b[38;5;241m9\u001b[39m]])\n\u001b[1;32m      9\u001b[0m \u001b[38;5;28mlist\u001b[39m(y)\n\u001b[1;32m     10\u001b[0m [\u001b[38;5;241m0\u001b[39m, \u001b[38;5;241m1\u001b[39m, \u001b[38;5;241m2\u001b[39m, \u001b[38;5;241m3\u001b[39m, \u001b[38;5;241m4\u001b[39m]\n",
      "\u001b[0;31mNameError\u001b[0m: name 'array' is not defined"
     ]
    }
   ],
   "source": [
    "from sklearn.model_selection import train_test_split\n",
    "X, y = np.arange(10).reshape((5, 2)), range(5)\n",
    "X\n",
    "array([[0, 1],\n",
    "       [2, 3],\n",
    "       [4, 5],\n",
    "       [6, 7],\n",
    "       [8, 9]])\n",
    "list(y)\n",
    "[0, 1, 2, 3, 4]"
   ]
  },
  {
   "cell_type": "code",
   "execution_count": null,
   "metadata": {
    "application/vnd.databricks.v1+cell": {
     "cellMetadata": {
      "byteLimit": 2048000,
      "rowLimit": 10000
     },
     "inputWidgets": {},
     "nuid": "4ceb6fbc-5ec2-4c0e-812d-6f1d0edd8698",
     "showTitle": false,
     "title": ""
    }
   },
   "outputs": [],
   "source": []
  }
 ],
 "metadata": {
  "application/vnd.databricks.v1+notebook": {
   "dashboards": [],
   "language": "python",
   "notebookMetadata": {
    "pythonIndentUnit": 4
   },
   "notebookName": "Muestreo",
   "widgets": {}
  },
  "kernelspec": {
   "display_name": "Python 3",
   "language": "python",
   "name": "python3"
  },
  "language_info": {
   "codemirror_mode": {
    "name": "ipython",
    "version": 3
   },
   "file_extension": ".py",
   "mimetype": "text/x-python",
   "name": "python",
   "nbconvert_exporter": "python",
   "pygments_lexer": "ipython3",
   "version": "3.10.13"
  }
 },
 "nbformat": 4,
 "nbformat_minor": 0
}
