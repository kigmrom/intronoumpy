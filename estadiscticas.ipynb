{
 "cells": [
  {
   "cell_type": "markdown",
   "metadata": {},
   "source": [
    "# Tarea 1\n",
    "### 1. diccionario de datos() -> de los 4 disponibles seleccionar solo 2 datasets\n",
    "### 2. Estadisticas descripcitivos ->\n",
    "### 3. boxPlot(de todos los campos) -> tiene outliers?\n",
    "### 4. Matriz de correlacion -> que campos/columnas/variable tiene relacion con quien?"
   ]
  },
  {
   "cell_type": "code",
   "execution_count": 1,
   "metadata": {},
   "outputs": [],
   "source": [
    "import matplotlib.pyplot as plt\n",
    "import numpy as np\n",
    "import pandas as pd\n",
    "import seaborn as sns\n",
    "import plotly.express as px\n",
    "import scipy.stats as stats\n"
   ]
  },
  {
   "cell_type": "markdown",
   "metadata": {},
   "source": [
    "<h1> 1. Diccionario de datos para Books</h1>"
   ]
  },
  {
   "cell_type": "markdown",
   "metadata": {},
   "source": [
    "Importar csv de books"
   ]
  },
  {
   "cell_type": "code",
   "execution_count": 2,
   "metadata": {},
   "outputs": [
    {
     "data": {
      "text/html": [
       "<div>\n",
       "<style scoped>\n",
       "    .dataframe tbody tr th:only-of-type {\n",
       "        vertical-align: middle;\n",
       "    }\n",
       "\n",
       "    .dataframe tbody tr th {\n",
       "        vertical-align: top;\n",
       "    }\n",
       "\n",
       "    .dataframe thead th {\n",
       "        text-align: right;\n",
       "    }\n",
       "</style>\n",
       "<table border=\"1\" class=\"dataframe\">\n",
       "  <thead>\n",
       "    <tr style=\"text-align: right;\">\n",
       "      <th></th>\n",
       "      <th>nombre</th>\n",
       "      <th>edad</th>\n",
       "      <th>ingreso</th>\n",
       "    </tr>\n",
       "  </thead>\n",
       "  <tbody>\n",
       "    <tr>\n",
       "      <th>0</th>\n",
       "      <td>Juan</td>\n",
       "      <td>35.0</td>\n",
       "      <td>15800.0</td>\n",
       "    </tr>\n",
       "    <tr>\n",
       "      <th>1</th>\n",
       "      <td>Luisa</td>\n",
       "      <td>25.0</td>\n",
       "      <td>17000.0</td>\n",
       "    </tr>\n",
       "    <tr>\n",
       "      <th>2</th>\n",
       "      <td>NaN</td>\n",
       "      <td>70.0</td>\n",
       "      <td>20000.0</td>\n",
       "    </tr>\n",
       "    <tr>\n",
       "      <th>3</th>\n",
       "      <td>Carmen</td>\n",
       "      <td>49.0</td>\n",
       "      <td>22000.0</td>\n",
       "    </tr>\n",
       "    <tr>\n",
       "      <th>4</th>\n",
       "      <td>NaN</td>\n",
       "      <td>NaN</td>\n",
       "      <td>NaN</td>\n",
       "    </tr>\n",
       "    <tr>\n",
       "      <th>5</th>\n",
       "      <td>Mario</td>\n",
       "      <td>30.0</td>\n",
       "      <td>15800.0</td>\n",
       "    </tr>\n",
       "    <tr>\n",
       "      <th>6</th>\n",
       "      <td>Pedro</td>\n",
       "      <td>NaN</td>\n",
       "      <td>17400.0</td>\n",
       "    </tr>\n",
       "    <tr>\n",
       "      <th>7</th>\n",
       "      <td>Gustavo</td>\n",
       "      <td>27.0</td>\n",
       "      <td>NaN</td>\n",
       "    </tr>\n",
       "    <tr>\n",
       "      <th>8</th>\n",
       "      <td>Carlos</td>\n",
       "      <td>NaN</td>\n",
       "      <td>NaN</td>\n",
       "    </tr>\n",
       "  </tbody>\n",
       "</table>\n",
       "</div>"
      ],
      "text/plain": [
       "    nombre  edad  ingreso\n",
       "0     Juan  35.0  15800.0\n",
       "1    Luisa  25.0  17000.0\n",
       "2      NaN  70.0  20000.0\n",
       "3   Carmen  49.0  22000.0\n",
       "4      NaN   NaN      NaN\n",
       "5    Mario  30.0  15800.0\n",
       "6    Pedro   NaN  17400.0\n",
       "7  Gustavo  27.0      NaN\n",
       "8   Carlos   NaN      NaN"
      ]
     },
     "execution_count": 2,
     "metadata": {},
     "output_type": "execute_result"
    }
   ],
   "source": [
    "clientes = pd.read_excel('Dataset/clientes.xlsx')\n",
    "clientes"
   ]
  },
  {
   "cell_type": "markdown",
   "metadata": {},
   "source": [
    "<h2> 2. Estadistica descriptiva de Clientes </h2>"
   ]
  },
  {
   "cell_type": "code",
   "execution_count": 3,
   "metadata": {},
   "outputs": [
    {
     "name": "stdout",
     "output_type": "stream",
     "text": [
      "<class 'pandas.core.frame.DataFrame'>\n",
      "RangeIndex: 9 entries, 0 to 8\n",
      "Data columns (total 3 columns):\n",
      " #   Column   Non-Null Count  Dtype  \n",
      "---  ------   --------------  -----  \n",
      " 0   nombre   7 non-null      object \n",
      " 1   edad     6 non-null      float64\n",
      " 2   ingreso  6 non-null      float64\n",
      "dtypes: float64(2), object(1)\n",
      "memory usage: 344.0+ bytes\n"
     ]
    }
   ],
   "source": [
    "clientes.info()"
   ]
  },
  {
   "cell_type": "markdown",
   "metadata": {},
   "source": [
    "<h3> BoxPlot </h3>"
   ]
  },
  {
   "cell_type": "code",
   "execution_count": 3,
   "metadata": {},
   "outputs": [
    {
     "data": {
      "image/png": "[encoded data removed]",
      "text/plain": [
       "<Figure size 640x480 with 1 Axes>"
      ]
     },
     "metadata": {},
     "output_type": "display_data"
    }
   ],
   "source": [
    "edad = clientes[\"edad\"]\n",
    "ingreso = clientes[\"ingreso\"]\n",
    "\n",
    "# Remover valores NaN e infinitos\n",
    "mask = ~np.isnan(edad) & ~np.isnan(ingreso) & ~np.isinf(edad) & ~np.isinf(ingreso)\n",
    "edad_clean = edad[mask]\n",
    "ingreso_clean = ingreso[mask]\n",
    "\n",
    "# Graficar el boxplot de las edades\n",
    "plt.grid(True)\n",
    "plt.yticks(np.arange(0, 110, 5))\n",
    "plt.boxplot(edad_clean)\n",
    "plt.xlabel(\"Edad\")\n",
    "plt.title(\"Boxplot de Edad\")\n",
    "plt.show()"
   ]
  },
  {
   "cell_type": "code",
   "execution_count": 8,
   "metadata": {},
   "outputs": [
    {
     "data": {
      "image/png": "[encoded data removed]",
      "text/plain": [
       "<Figure size 640x480 with 1 Axes>"
      ]
     },
     "metadata": {},
     "output_type": "display_data"
    }
   ],
   "source": [
    "edad = clientes[\"edad\"]\n",
    "ingreso = clientes[\"ingreso\"]\n",
    "\n",
    "# Remover valores NaN e infinitos\n",
    "mask = ~np.isnan(edad) & ~np.isnan(ingreso) & ~np.isinf(edad) & ~np.isinf(ingreso)\n",
    "edad_clean = edad[mask]\n",
    "ingreso_clean = ingreso[mask]\n",
    "\n",
    "# Graficar el boxplot de los ingresos\n",
    "plt.grid(True)\n",
    "plt.boxplot(ingreso_clean)\n",
    "plt.ylabel(\"Ingresos\")\n",
    "plt.title(\"Boxplot de Ingresos\")\n",
    "plt.show()"
   ]
  },
  {
   "cell_type": "markdown",
   "metadata": {},
   "source": [
    "<h3> Matriz de correlacion </h3>"
   ]
  },
  {
   "cell_type": "code",
   "execution_count": 5,
   "metadata": {},
   "outputs": [
    {
     "data": {
      "image/png": "[encoded data removed]",
      "text/plain": [
       "<Figure size 640x480 with 1 Axes>"
      ]
     },
     "metadata": {},
     "output_type": "display_data"
    },
    {
     "name": "stdout",
     "output_type": "stream",
     "text": [
      "Coeficiente de correlación (numpy): [[1.         0.71243572]\n",
      " [0.71243572 1.        ]]\n",
      "Coeficiente de correlación (scipy): 0.7124357159849023\n",
      "Valor p: 0.1769105566560278\n"
     ]
    }
   ],
   "source": [
    "edad = clientes[\"edad\"]\n",
    "ingreso = clientes[\"ingreso\"]\n",
    "\n",
    "# Remover valores NaN e infinitos\n",
    "mask = ~np.isnan(edad) & ~np.isnan(ingreso) & ~np.isinf(edad) & ~np.isinf(ingreso)\n",
    "edad_clean = edad[mask]\n",
    "ingreso_clean = ingreso[mask]\n",
    "\n",
    "# Graficar los datos limpios\n",
    "plt.scatter(edad_clean, ingreso_clean)\n",
    "plt.xlabel(\"Edad\")\n",
    "plt.ylabel(\"Ingresos\")\n",
    "plt.show()\n",
    "\n",
    "# Calcular coeficiente de correlación de Pearson con numpy\n",
    "corNP = np.corrcoef(edad_clean, ingreso_clean)\n",
    "print(\"Coeficiente de correlación (numpy):\", corNP)\n",
    "\n",
    "# Calcular coeficiente de correlación de Pearson con scipy\n",
    "corSci, p_value = stats.pearsonr(edad_clean, ingreso_clean)\n",
    "print(\"Coeficiente de correlación (scipy):\", corSci)\n",
    "print(\"Valor p:\", p_value)"
   ]
  },
  {
   "cell_type": "markdown",
   "metadata": {},
   "source": [
    "<h1> 1. Diccionario de datos para personas </h1>"
   ]
  },
  {
   "cell_type": "code",
   "execution_count": 9,
   "metadata": {},
   "outputs": [
    {
     "data": {
      "text/html": [
       "<div>\n",
       "<style scoped>\n",
       "    .dataframe tbody tr th:only-of-type {\n",
       "        vertical-align: middle;\n",
       "    }\n",
       "\n",
       "    .dataframe tbody tr th {\n",
       "        vertical-align: top;\n",
       "    }\n",
       "\n",
       "    .dataframe thead th {\n",
       "        text-align: right;\n",
       "    }\n",
       "</style>\n",
       "<table border=\"1\" class=\"dataframe\">\n",
       "  <thead>\n",
       "    <tr style=\"text-align: right;\">\n",
       "      <th></th>\n",
       "      <th>altura</th>\n",
       "      <th>peso</th>\n",
       "      <th>ingreso</th>\n",
       "      <th>horas_trabajadas</th>\n",
       "      <th>ausencias</th>\n",
       "    </tr>\n",
       "  </thead>\n",
       "  <tbody>\n",
       "    <tr>\n",
       "      <th>0</th>\n",
       "      <td>134.433878</td>\n",
       "      <td>70.617864</td>\n",
       "      <td>9973.577534</td>\n",
       "      <td>40.905476</td>\n",
       "      <td>4</td>\n",
       "    </tr>\n",
       "    <tr>\n",
       "      <th>1</th>\n",
       "      <td>167.158746</td>\n",
       "      <td>109.268295</td>\n",
       "      <td>8961.047249</td>\n",
       "      <td>41.576483</td>\n",
       "      <td>4</td>\n",
       "    </tr>\n",
       "    <tr>\n",
       "      <th>2</th>\n",
       "      <td>141.480812</td>\n",
       "      <td>81.034644</td>\n",
       "      <td>7437.977263</td>\n",
       "      <td>41.369239</td>\n",
       "      <td>5</td>\n",
       "    </tr>\n",
       "    <tr>\n",
       "      <th>3</th>\n",
       "      <td>123.227119</td>\n",
       "      <td>57.884172</td>\n",
       "      <td>12064.915290</td>\n",
       "      <td>41.537211</td>\n",
       "      <td>3</td>\n",
       "    </tr>\n",
       "    <tr>\n",
       "      <th>4</th>\n",
       "      <td>143.554951</td>\n",
       "      <td>93.581093</td>\n",
       "      <td>9296.396167</td>\n",
       "      <td>40.441203</td>\n",
       "      <td>4</td>\n",
       "    </tr>\n",
       "    <tr>\n",
       "      <th>...</th>\n",
       "      <td>...</td>\n",
       "      <td>...</td>\n",
       "      <td>...</td>\n",
       "      <td>...</td>\n",
       "      <td>...</td>\n",
       "    </tr>\n",
       "    <tr>\n",
       "      <th>995</th>\n",
       "      <td>169.059462</td>\n",
       "      <td>109.612155</td>\n",
       "      <td>9998.522402</td>\n",
       "      <td>41.110352</td>\n",
       "      <td>4</td>\n",
       "    </tr>\n",
       "    <tr>\n",
       "      <th>996</th>\n",
       "      <td>151.873081</td>\n",
       "      <td>91.697127</td>\n",
       "      <td>6867.097603</td>\n",
       "      <td>40.617061</td>\n",
       "      <td>5</td>\n",
       "    </tr>\n",
       "    <tr>\n",
       "      <th>997</th>\n",
       "      <td>131.156800</td>\n",
       "      <td>78.301155</td>\n",
       "      <td>9757.539280</td>\n",
       "      <td>40.798085</td>\n",
       "      <td>4</td>\n",
       "    </tr>\n",
       "    <tr>\n",
       "      <th>998</th>\n",
       "      <td>156.454396</td>\n",
       "      <td>94.163603</td>\n",
       "      <td>11044.031510</td>\n",
       "      <td>41.443604</td>\n",
       "      <td>3</td>\n",
       "    </tr>\n",
       "    <tr>\n",
       "      <th>999</th>\n",
       "      <td>149.558353</td>\n",
       "      <td>87.134622</td>\n",
       "      <td>13222.253800</td>\n",
       "      <td>41.402637</td>\n",
       "      <td>2</td>\n",
       "    </tr>\n",
       "  </tbody>\n",
       "</table>\n",
       "<p>1000 rows × 5 columns</p>\n",
       "</div>"
      ],
      "text/plain": [
       "         altura        peso       ingreso  horas_trabajadas  ausencias\n",
       "0    134.433878   70.617864   9973.577534         40.905476          4\n",
       "1    167.158746  109.268295   8961.047249         41.576483          4\n",
       "2    141.480812   81.034644   7437.977263         41.369239          5\n",
       "3    123.227119   57.884172  12064.915290         41.537211          3\n",
       "4    143.554951   93.581093   9296.396167         40.441203          4\n",
       "..          ...         ...           ...               ...        ...\n",
       "995  169.059462  109.612155   9998.522402         41.110352          4\n",
       "996  151.873081   91.697127   6867.097603         40.617061          5\n",
       "997  131.156800   78.301155   9757.539280         40.798085          4\n",
       "998  156.454396   94.163603  11044.031510         41.443604          3\n",
       "999  149.558353   87.134622  13222.253800         41.402637          2\n",
       "\n",
       "[1000 rows x 5 columns]"
      ]
     },
     "execution_count": 9,
     "metadata": {},
     "output_type": "execute_result"
    }
   ],
   "source": [
    "personas = pd.read_excel('Dataset/personas.xlsx')\n",
    "personas"
   ]
  }
 ],
 "metadata": {
  "kernelspec": {
   "display_name": "Python 3",
   "language": "python",
   "name": "python3"
  },
  "language_info": {
   "codemirror_mode": {
    "name": "ipython",
    "version": 3
   },
   "file_extension": ".py",
   "mimetype": "text/x-python",
   "name": "python",
   "nbconvert_exporter": "python",
   "pygments_lexer": "ipython3",
   "version": "3.10.13"
  }
 },
 "nbformat": 4,
 "nbformat_minor": 2
}
