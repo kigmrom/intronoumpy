{
 "cells": [
  {
   "cell_type": "markdown",
   "metadata": {},
   "source": [
    "# K-means (K-medias)\n",
    "## Segmentación de clientes"
   ]
  },
  {
   "cell_type": "markdown",
   "metadata": {},
   "source": [
    "import pandas as pd\n",
    "import matplotlib.pyplot as plt\n",
    "from sklearn.preprocessing import MinMaxScaler\n",
    "from sklearn.cluster import KMeans\n",
    "\n",
    "clientes = pd.DataFrame({\"saldo\" : [50000, 45000, 48000, 43500, 47000, 52000, \n",
    "                                    20000, 26000, 25000, 23000, 21400, 18000,\n",
    "                                    8000, 12000, 6000, 14500, 12600, 7000],\n",
    "                         \n",
    "                         \"transacciones\": [25, 20, 16, 23, 25, 18,\n",
    "                                           23, 22, 24, 21, 27, 18,\n",
    "                                           8, 3, 6, 4, 9, 3]})"
   ]
  },
  {
   "cell_type": "code",
   "execution_count": null,
   "metadata": {},
   "outputs": [],
   "source": []
  },
  {
   "cell_type": "markdown",
   "metadata": {},
   "source": [
    "escalador = MinMaxScaler().fit(clientes.values)\n",
    "\n",
    "clientes = pd.DataFrame(escalador.transform(clientes.values),\n",
    "                       columns=[\"saldo\", \"transacciones\"])"
   ]
  },
  {
   "cell_type": "code",
   "execution_count": null,
   "metadata": {},
   "outputs": [],
   "source": []
  },
  {
   "cell_type": "markdown",
   "metadata": {},
   "source": [
    "kmeans = KMeans(n_clusters=3).fit(clientes.values)\n",
    "\n",
    "clientes[\"cluster\"] = kmeans.labels_"
   ]
  },
  {
   "cell_type": "code",
   "execution_count": null,
   "metadata": {},
   "outputs": [],
   "source": []
  },
  {
   "cell_type": "markdown",
   "metadata": {},
   "source": [
    "\n",
    "\n",
    "Instrucciones para graficar los clusters \n",
    "\n",
    "plt.figure(figsize=(6, 5), dpi=100)\n",
    "\n",
    "colores = [\"red\", \"blue\", \"orange\", \"black\", \"purple\", \"pink\", \"brown\"]\n",
    "\n",
    "for cluster in range(kmeans.n_clusters):\n",
    "    plt.scatter(clientes[clientes[\"cluster\"] == cluster][\"saldo\"],\n",
    "                clientes[clientes[\"cluster\"] == cluster][\"transacciones\"],\n",
    "                marker=\"o\", s=180, color=colores[cluster], alpha=0.5)\n",
    "    \n",
    "    plt.scatter(kmeans.cluster_centers_[cluster][0], \n",
    "                kmeans.cluster_centers_[cluster][1], \n",
    "                marker=\"P\", s=280, color=colores[cluster])\n",
    "\n",
    "plt.title(\"Clientes\", fontsize=20)\n",
    "plt.xlabel(\"Saldo en cuenta de ahorros (pesos)\", fontsize=15)\n",
    "plt.ylabel(\"Veces que usó tarjeta de crédito\", fontsize=15)\n",
    "plt.text(1.15, 0.2, \"K = %i\" % kmeans.n_clusters, fontsize=25)\n",
    "plt.text(1.15, 0, \"Inercia = %0.2f\" % kmeans.inertia_, fontsize=25)\n",
    "plt.xlim(-0.1, 1.1)\n",
    "plt.ylim(-0.1, 1.1)    \n",
    "plt.show()\n",
    "\n",
    "del clientes[\"cluster\"] "
   ]
  },
  {
   "cell_type": "code",
   "execution_count": null,
   "metadata": {},
   "outputs": [],
   "source": []
  },
  {
   "cell_type": "markdown",
   "metadata": {},
   "source": [
    "## Método del Codo\n",
    "### Cálculo del número de Clusters (K)"
   ]
  },
  {
   "cell_type": "markdown",
   "metadata": {},
   "source": [
    "inercias = []\n",
    "for k in range(2, 10):\n",
    "    kmeans = KMeans(n_clusters=k).fit(clientes.values)    \n",
    "    inercias.append(kmeans.inertia_)\n",
    "\n",
    "plt.figure(figsize=(6, 5), dpi=100)\n",
    "plt.scatter(range(2, 10), inercias, marker=\"o\", s=180, color=\"purple\")\n",
    "plt.xlabel(\"Número de Clusters\", fontsize=25)\n",
    "plt.ylabel(\"Inercia\", fontsize=25)\n",
    "plt.show()"
   ]
  },
  {
   "cell_type": "markdown",
   "metadata": {},
   "source": [
    "<BR><BR><BR><BR><BR><BR><BR><BR><BR><BR><BR><BR><BR><BR><BR><BR><BR><BR><BR><BR><BR><BR><BR><BR><BR>"
   ]
  }
 ],
 "metadata": {
  "kernelspec": {
   "display_name": "Python 3",
   "language": "python",
   "name": "python3"
  },
  "language_info": {
   "codemirror_mode": {
    "name": "ipython",
    "version": 3
   },
   "file_extension": ".py",
   "mimetype": "text/x-python",
   "name": "python",
   "nbconvert_exporter": "python",
   "pygments_lexer": "ipython3",
   "version": "3.10.13"
  }
 },
 "nbformat": 4,
 "nbformat_minor": 4
}
