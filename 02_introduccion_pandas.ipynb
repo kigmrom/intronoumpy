{
 "cells": [
  {
   "cell_type": "markdown",
   "metadata": {},
   "source": [
    "# 02 PANDAS\n",
    "\n",
    "¿Por qué Pandas?\n",
    "Pandas está enfocada a la manipulación y análisis de datos.\n",
    "\n",
    "* Al estar construido sobre NumPy es veloz.\n",
    "* Requiere poco código para manipular los datos.\n",
    "* Soporta múltiples formatos de archivos.\n",
    "* Ordena los datos en una alienación inteligente.\n",
    "* Se pueden manejar grandes cantidades de datos, hacer analítica y generar dashboards.\n",
    "\n",
    "* Escrita por Wes McKinney\n",
    "* Creada en el 2008.\n",
    "* Construida sobre NumPy.\n",
    "* 100% Open Source.\n",
    "* También se encuentra en Github."
   ]
  },
  {
   "cell_type": "markdown",
   "metadata": {},
   "source": [
    "### Importar pandas\n",
    "\n",
    "> _import pandas as pd_\n",
    "\n",
    "> pd.\\_\\_version\\_\\_"
   ]
  },
  {
   "cell_type": "code",
   "execution_count": 2,
   "metadata": {},
   "outputs": [
    {
     "data": {
      "text/plain": [
       "'2.2.2'"
      ]
     },
     "execution_count": 2,
     "metadata": {},
     "output_type": "execute_result"
    }
   ],
   "source": [
    "import pandas as pd\n",
    "pd.__version__"
   ]
  },
  {
   "cell_type": "markdown",
   "metadata": {},
   "source": [
    "### Series\n",
    "\n",
    "Pandas Series Es muy parecido a un array de una dimensión (o vector) de NumPy.\n",
    "\n",
    "* Arreglo unidimensional indexado\n",
    "* Búsqueda por índice\n",
    "* Slicing\n",
    "* Operaciones aritméticas\n",
    "* Distintos tipos de datos"
   ]
  },
  {
   "cell_type": "markdown",
   "metadata": {},
   "source": [
    "definimos una lista con índices específicos\n",
    "\n",
    "> pd.Series(['Pedro','Joana','Angel','Paco'], index=[1,7,10,30])\n"
   ]
  },
  {
   "cell_type": "code",
   "execution_count": null,
   "metadata": {},
   "outputs": [],
   "source": []
  },
  {
   "cell_type": "markdown",
   "metadata": {},
   "source": [
    "guardamos en una variable la serie\n",
    "> names = pd.Series(['Pedro','Joana','Angel','Paco'], index=[1,7,10,30])\n",
    "\n",
    "> names"
   ]
  },
  {
   "cell_type": "code",
   "execution_count": null,
   "metadata": {},
   "outputs": [],
   "source": []
  },
  {
   "cell_type": "markdown",
   "metadata": {},
   "source": [
    "También si eliminamos la propiedad del index \n",
    "\n",
    "Nos generá un index por defaul comenzando en 0\n",
    "\n",
    "names = pd.Series(['Pedro','Joana','Angel','Paco'])\n",
    "\n",
    "names"
   ]
  },
  {
   "cell_type": "code",
   "execution_count": null,
   "metadata": {},
   "outputs": [],
   "source": []
  },
  {
   "cell_type": "markdown",
   "metadata": {},
   "source": [
    "Otra manera de definir una Series Pandas es:\n",
    "\n",
    "> dict = {1:'Pedro',10:'Manuel',4:'Pancho',80:'Martin'}\n",
    "\n",
    "> pd.Series(dict)"
   ]
  },
  {
   "cell_type": "code",
   "execution_count": null,
   "metadata": {},
   "outputs": [],
   "source": []
  },
  {
   "cell_type": "markdown",
   "metadata": {},
   "source": [
    "\n",
    "Como en Numpy podemos también acceder de forma indexada.\n",
    "\n",
    "> names[1]\n"
   ]
  },
  {
   "cell_type": "code",
   "execution_count": null,
   "metadata": {},
   "outputs": [],
   "source": []
  },
  {
   "cell_type": "markdown",
   "metadata": {},
   "source": [
    "También podemos hacer Slicing\n",
    "\n",
    "> names[0:3]\n"
   ]
  },
  {
   "cell_type": "code",
   "execution_count": null,
   "metadata": {},
   "outputs": [],
   "source": []
  },
  {
   "cell_type": "markdown",
   "metadata": {},
   "source": [
    "---"
   ]
  },
  {
   "cell_type": "markdown",
   "metadata": {},
   "source": [
    "### Pandas DataFrame\n",
    "\n",
    "Muy parecido a las estructuras matriciales trabajadas con NumPy.\n",
    "\n",
    "* Estructura principal\n",
    "* Arreglo de dos dimensiones\n",
    "* Búsqueda por índice (columnas o filas)\n",
    "* Slicing\n",
    "* Operaciones aritméticas\n",
    "* Distintos tipos de datos\n",
    "* Tamaño variable"
   ]
  },
  {
   "cell_type": "markdown",
   "metadata": {},
   "source": [
    "Crear un dataframe"
   ]
  },
  {
   "cell_type": "markdown",
   "metadata": {},
   "source": [
    "\n",
    "Podemos hacer un diccionario que contenga listas.\n",
    "\n",
    "> dict = {'Jugador':['Alex','Katy','Ana','Jorch'], <br>\n",
    "         'Altura':[182.0,156.23,162.0,188.0], <br>\n",
    "         'Puntos':[100,200,50,300]}\\n"
   ]
  },
  {
   "cell_type": "code",
   "execution_count": null,
   "metadata": {},
   "outputs": [],
   "source": []
  },
  {
   "cell_type": "markdown",
   "metadata": {},
   "source": [
    "Guardamos en una variable, Agregamos nuestra propia indexación.\n",
    "\n",
    "> players = pd.DataFrame(dict, index=[1,2,3,4])\n",
    "\n",
    "> players\n"
   ]
  },
  {
   "cell_type": "code",
   "execution_count": null,
   "metadata": {},
   "outputs": [],
   "source": []
  },
  {
   "cell_type": "markdown",
   "metadata": {},
   "source": [
    "Podemos visualizar sólo las columnas.\n",
    "\n",
    "> players.columns"
   ]
  },
  {
   "cell_type": "code",
   "execution_count": null,
   "metadata": {},
   "outputs": [],
   "source": []
  },
  {
   "cell_type": "markdown",
   "metadata": {},
   "source": [
    "Podemos visualizar los índices.\n",
    "\n",
    "> players.index"
   ]
  },
  {
   "cell_type": "code",
   "execution_count": null,
   "metadata": {},
   "outputs": [],
   "source": []
  },
  {
   "cell_type": "markdown",
   "metadata": {},
   "source": [
    "---"
   ]
  },
  {
   "cell_type": "markdown",
   "metadata": {},
   "source": [
    "### Leer un arcivo csv\n",
    "_titulos = pd.read_csv('data/titles.csv' )_\n",
    "\n",
    "_titulos.head()_"
   ]
  },
  {
   "cell_type": "code",
   "execution_count": null,
   "metadata": {},
   "outputs": [],
   "source": []
  },
  {
   "cell_type": "markdown",
   "metadata": {},
   "source": [
    "_elenco = pd.read_csv('data/cast.csv', encoding='utf-8')_\n",
    "\n",
    "_elenco.head()_\n",
    "\n",
    "> titulos= pd.read_csv('data/titles.csv',encoding='utf-8')\n",
    "\n",
    "> titulos.head()"
   ]
  },
  {
   "cell_type": "code",
   "execution_count": null,
   "metadata": {},
   "outputs": [],
   "source": []
  },
  {
   "cell_type": "markdown",
   "metadata": {},
   "source": [
    "### Leer Hojas Excel\n",
    "\n",
    "> Pip install openpyxl\n",
    "\n",
    "> df = pd.read_excel('data/titles.xlsx') \n",
    "\n",
    "> print(df.head())"
   ]
  },
  {
   "cell_type": "code",
   "execution_count": null,
   "metadata": {},
   "outputs": [],
   "source": []
  },
  {
   "cell_type": "markdown",
   "metadata": {},
   "source": [
    "leer archivos .xlx\n",
    "> pip install xlrd\n",
    "\n",
    "> df = pd.read_excel('data/titles.xls') \n",
    "\n",
    "> print(df.head())"
   ]
  },
  {
   "cell_type": "code",
   "execution_count": null,
   "metadata": {},
   "outputs": [],
   "source": []
  },
  {
   "cell_type": "markdown",
   "metadata": {},
   "source": [
    "Leer PDF\n",
    "> pip install pypdf\n",
    "\n",
    "> from pypdf import PdfReader\n",
    "\n",
    "> reader = PdfReader('data/titles.pdf')\n",
    "> number_of_pages = len(reader.pages)\n",
    "> page = reader.pages[0]\n",
    "> text = page.extract_text()\n",
    "> print(text)"
   ]
  },
  {
   "cell_type": "code",
   "execution_count": null,
   "metadata": {},
   "outputs": [],
   "source": []
  },
  {
   "cell_type": "markdown",
   "metadata": {},
   "source": [
    "---"
   ]
  },
  {
   "cell_type": "markdown",
   "metadata": {},
   "source": [
    "### Filtrado con loc y iloc\n",
    "\n",
    "Cuando queremos navegar por un dataFrame estas funciones permiten filtrar datos de manera más específica\n",
    "\n",
    "* loc\n",
    "* iloc"
   ]
  },
  {
   "cell_type": "markdown",
   "metadata": {},
   "source": [
    "Podemos acceder a nuestro DataFrame a traves de slicing e indexación.\n",
    "> df_books[0:4]\n",
    "\n",
    "acceder por columnas, muestra todo el contenido de esa columna.\n",
    "> df_books['Name']\n",
    "\n",
    "Si quisieramos hacer nuestra busqueda de más parametros debemos usar doble [[]]\n",
    "> df_books[['Name','Author','Year']]"
   ]
  },
  {
   "cell_type": "code",
   "execution_count": null,
   "metadata": {},
   "outputs": [],
   "source": []
  },
  {
   "cell_type": "markdown",
   "metadata": {},
   "source": [
    "#### .loc\n",
    "Filtra según un label"
   ]
  },
  {
   "cell_type": "markdown",
   "metadata": {},
   "source": [
    "Para poder visualizar todo\n",
    "> df_books.loc[:]\n"
   ]
  },
  {
   "cell_type": "code",
   "execution_count": null,
   "metadata": {},
   "outputs": [],
   "source": []
  },
  {
   "cell_type": "markdown",
   "metadata": {},
   "source": [
    "Podemos filtrar por medio de indices.\n",
    "> df_books.loc[0:4]\n"
   ]
  },
  {
   "cell_type": "code",
   "execution_count": null,
   "metadata": {},
   "outputs": [],
   "source": []
  },
  {
   "cell_type": "markdown",
   "metadata": {},
   "source": [
    "Podemos filtrar a traves de etiquetas. Y de manera indexada.\n",
    "> df_books.loc[0:4, ['Name', 'Author']]\n"
   ]
  },
  {
   "cell_type": "code",
   "execution_count": null,
   "metadata": {},
   "outputs": [],
   "source": []
  },
  {
   "cell_type": "markdown",
   "metadata": {},
   "source": [
    "También podemos hacer operación con los valores.\n",
    "> df_books.loc[:,['Reviews']] * 2"
   ]
  },
  {
   "cell_type": "code",
   "execution_count": null,
   "metadata": {},
   "outputs": [],
   "source": []
  },
  {
   "cell_type": "markdown",
   "metadata": {},
   "source": [
    "También podemos filtrar con operaciones lógicas.\n",
    "> df_books.loc[:,['Author']] == 'JJ Smith'"
   ]
  },
  {
   "cell_type": "code",
   "execution_count": null,
   "metadata": {},
   "outputs": [],
   "source": []
  },
  {
   "cell_type": "markdown",
   "metadata": {},
   "source": [
    "#### .iloc\n",
    "Filtra mediante índices."
   ]
  },
  {
   "cell_type": "markdown",
   "metadata": {},
   "source": [
    "Le decimos que queremos todo.\n",
    "> df_books.iloc[:]\n"
   ]
  },
  {
   "cell_type": "code",
   "execution_count": null,
   "metadata": {},
   "outputs": [],
   "source": []
  },
  {
   "cell_type": "markdown",
   "metadata": {},
   "source": [
    "Ahora nuestras busuqedas van a ser por indice. Y no por etiquetas.\n",
    "\n",
    "> df_books.iloc[:,0:3]\n"
   ]
  },
  {
   "cell_type": "code",
   "execution_count": null,
   "metadata": {},
   "outputs": [],
   "source": []
  },
  {
   "cell_type": "markdown",
   "metadata": {},
   "source": [
    "Es algo similar pero ahora estamos accediente a traves de los indices.\n",
    "\n",
    "> df_books.iloc[1,3]\n"
   ]
  },
  {
   "cell_type": "code",
   "execution_count": null,
   "metadata": {},
   "outputs": [],
   "source": []
  },
  {
   "cell_type": "markdown",
   "metadata": {},
   "source": [
    "Podemos operar con los liltros. \n",
    "\n",
    "> df_books.iloc[1,3] /2\n"
   ]
  },
  {
   "cell_type": "code",
   "execution_count": null,
   "metadata": {},
   "outputs": [],
   "source": []
  },
  {
   "cell_type": "markdown",
   "metadata": {},
   "source": [
    "Aquí le pedimos que nos muestre desde el primer valor hasta el tercero. A nivel de Filas\n",
    "Con el segundo parametro, fenimos a partir del tercer valor hasta el último a nivel de columnas.\n",
    "\n",
    "> df_books.iloc[:2,2:]\n"
   ]
  },
  {
   "cell_type": "code",
   "execution_count": null,
   "metadata": {},
   "outputs": [],
   "source": []
  },
  {
   "cell_type": "markdown",
   "metadata": {},
   "source": [
    "---"
   ]
  },
  {
   "cell_type": "markdown",
   "metadata": {},
   "source": [
    "#### Funciones principales de Pandas\n",
    "\n",
    ".head()\n",
    "Mostrar las primeras 5 líneas de registro\n",
    "\n",
    "Por defaul nos muestra las primeras 5 líneas\n",
    "> df_books.head()\n",
    "\n",
    "Pero podemos elegir las que queramos\n",
    "> df_books.head(2)\n"
   ]
  },
  {
   "cell_type": "code",
   "execution_count": null,
   "metadata": {},
   "outputs": [],
   "source": []
  },
  {
   "cell_type": "markdown",
   "metadata": {},
   "source": [
    ".info()\n",
    "\n",
    "Mostrar los diferentes datos que contiene el DataFrame\n",
    "\n",
    "Nos muestra toda la información de nuestro Dataframe\n",
    "> df_books.info()\n"
   ]
  },
  {
   "cell_type": "code",
   "execution_count": null,
   "metadata": {},
   "outputs": [],
   "source": []
  },
  {
   "cell_type": "markdown",
   "metadata": {},
   "source": [
    ".describe()\n",
    "\n",
    "Obtener diferentes datos estadísticos de las columnas numéricas.\n",
    "\n",
    "Sólo de las columnas numéricas\n",
    "> df_books.describe()\n"
   ]
  },
  {
   "cell_type": "code",
   "execution_count": null,
   "metadata": {},
   "outputs": [],
   "source": []
  },
  {
   "cell_type": "markdown",
   "metadata": {},
   "source": [
    ".tail()¶\n",
    "\n",
    "Mostrar los últimos 5 registros del DataFrame\n",
    "\n",
    "De igual manera como funciona .head() podemos usar .tail()\n",
    "> df_books.tail()\n",
    "\n",
    "> df_books.tail(2)\n",
    "\n",
    "> df_books.tail(10)"
   ]
  },
  {
   "cell_type": "code",
   "execution_count": null,
   "metadata": {},
   "outputs": [],
   "source": []
  },
  {
   "cell_type": "markdown",
   "metadata": {},
   "source": [
    " Conocer el tamaño del dataframe\n",
    "\n",
    "_len(titulos)_\n",
    "\n",
    "_len(elenco)_"
   ]
  },
  {
   "cell_type": "code",
   "execution_count": null,
   "metadata": {},
   "outputs": [],
   "source": []
  },
  {
   "cell_type": "markdown",
   "metadata": {},
   "source": [
    ".memory_usage()\n",
    "\n",
    "Obtener el uso de la memoria de cada columna\n",
    "\n",
    "Dónde con deep=True le indicamos que queremos una busqueda profunda\n",
    "> df_books.memory_usage(deep=True)\n"
   ]
  },
  {
   "cell_type": "code",
   "execution_count": null,
   "metadata": {},
   "outputs": [],
   "source": []
  },
  {
   "cell_type": "markdown",
   "metadata": {},
   "source": [
    ".value_counts()\n",
    "\n",
    "Obtener cuantos datos tenemos de algo en específico\n",
    "\n",
    "Me va a contar cuantos valores tengo en mi dataframe de una busqueda específica.\n",
    "> df_books['Author'].value_counts()\n"
   ]
  },
  {
   "cell_type": "code",
   "execution_count": null,
   "metadata": {},
   "outputs": [],
   "source": []
  },
  {
   "cell_type": "markdown",
   "metadata": {},
   "source": [
    ".drop_duplicates()\n",
    "\n",
    "Eliminar registros duplicados.\n",
    "\n",
    "Vamos a entrar al registro del posición 0\n",
    "> df_books.iloc[0]\n",
    "\n",
    "Duplicamos nuestro ejemplo\n",
    "> df_books = df_books.append(df_books.iloc[0])\n",
    "\n",
    "Vemos que ahora se encuentra al principio y al final los mismos valores.\n",
    "> df_books\n",
    "\n",
    "Simplemente llamando a la función podemos eliminar todos los duplicados.\n",
    "> df_books.drop_duplicates()\n",
    "\n",
    "También podemos agregar parámetros\n",
    "Con este le decimos que sólo borré el último\n",
    "> df_books.drop_duplicates(keep='last')\n"
   ]
  },
  {
   "cell_type": "code",
   "execution_count": null,
   "metadata": {},
   "outputs": [],
   "source": []
  },
  {
   "cell_type": "markdown",
   "metadata": {},
   "source": [
    "---"
   ]
  },
  {
   "cell_type": "markdown",
   "metadata": {},
   "source": [
    "#### Agregar o eliminar datos con Pandas¶\n",
    "Muchas ocasiones necesitamos agregar, eliminar o separar datos y pandas nos ofrece varias funciones para que este proceso se vuelva mucho más sencillo.\n",
    "\n",
    "Esto lo logramos con:\n",
    "\n",
    "* pd.drop Para eliminar\n",
    "* pd.append Para Agregar"
   ]
  },
  {
   "cell_type": "markdown",
   "metadata": {},
   "source": [
    "Cargamos nuestro archivo csv\n",
    "> df_books = pd.read_csv(('/content/example.csv'))\n",
    "\n",
    "Retornar las primeras 5 filas\n",
    "> df_books.head()\n",
    "\n"
   ]
  },
  {
   "cell_type": "markdown",
   "metadata": {},
   "source": [
    "##### Drop columns\n",
    "\n",
    "Eliminar columnas de la salida pero no del DataFrame\n",
    "\n",
    "Recordemos que axis=0 es para las filas y axis=1 para las columnas.\n",
    "> df_books.drop('Genre', axis=1).head(2)\n",
    "\n",
    "Para eliminar de manera definitiva. Usamos inplace=True\n",
    "> df_books = df_books.drop('Year', axis=1, inplace=True)\n"
   ]
  },
  {
   "cell_type": "code",
   "execution_count": null,
   "metadata": {},
   "outputs": [],
   "source": []
  },
  {
   "cell_type": "markdown",
   "metadata": {},
   "source": [
    "\n",
    "Eliminar Columnas Con Del\n",
    "\n",
    "> del df_books['Price']\n",
    "\n",
    "> df_books"
   ]
  },
  {
   "cell_type": "code",
   "execution_count": null,
   "metadata": {},
   "outputs": [],
   "source": []
  },
  {
   "cell_type": "markdown",
   "metadata": {},
   "source": [
    "Eliminar Filas\n",
    "\n",
    "Elimina la fila 0 del DataFrame\n",
    "> df_books.drop(0, axis=0)\n"
   ]
  },
  {
   "cell_type": "code",
   "execution_count": null,
   "metadata": {},
   "outputs": [],
   "source": []
  },
  {
   "cell_type": "markdown",
   "metadata": {},
   "source": [
    "elimina las filas 0, 1 y 2 del dataFrame\n",
    "> df_books.drop([0,1,2], axis=0)\n"
   ]
  },
  {
   "cell_type": "code",
   "execution_count": null,
   "metadata": {},
   "outputs": [],
   "source": []
  },
  {
   "cell_type": "markdown",
   "metadata": {},
   "source": [
    "elimina las primeras 10 filas del dataFrame\n",
    "> df_books.drop(range(0,10), axis=0)\n"
   ]
  },
  {
   "cell_type": "code",
   "execution_count": null,
   "metadata": {},
   "outputs": [],
   "source": []
  },
  {
   "cell_type": "markdown",
   "metadata": {},
   "source": [
    "---"
   ]
  },
  {
   "cell_type": "markdown",
   "metadata": {},
   "source": [
    "#### Add Columns\n",
    "\n",
    "Agregar una nueva columna con valores Nan\n",
    "\n",
    "> df_books['Nueva_Columna'] = np.nan\n",
    "\n",
    "Con esto lo que indicamos es que no es un valor númerico.\n",
    "\n",
    "> df_books"
   ]
  },
  {
   "cell_type": "code",
   "execution_count": null,
   "metadata": {},
   "outputs": [],
   "source": []
  },
  {
   "cell_type": "markdown",
   "metadata": {},
   "source": [
    "Muestra el numero de filas que posee el dataFrame\n",
    "> df_books.shape[0]\n"
   ]
  },
  {
   "cell_type": "code",
   "execution_count": null,
   "metadata": {},
   "outputs": [],
   "source": []
  },
  {
   "cell_type": "markdown",
   "metadata": {},
   "source": [
    "Estamos agregando valores con un rango de numpy\n",
    "> data = np.arange(0,df_books.shape[0])\n",
    "\n",
    "> data\n",
    "\n",
    "Agregamos una nueva columna con la información que ya hicimos.\n",
    "> df_books['Rango'] = data\n",
    "\n",
    "> df_books"
   ]
  },
  {
   "cell_type": "code",
   "execution_count": null,
   "metadata": {},
   "outputs": [],
   "source": []
  },
  {
   "cell_type": "markdown",
   "metadata": {},
   "source": [
    "Duplica las filas del dataFrame porque se agrega a si mismo\n",
    "\n",
    "> df_books.append(df_books)\n"
   ]
  },
  {
   "cell_type": "code",
   "execution_count": null,
   "metadata": {},
   "outputs": [],
   "source": []
  },
  {
   "cell_type": "markdown",
   "metadata": {},
   "source": [
    "####  Manejo de datos nulos.\n",
    "\n",
    "Los datos nulos son dolores de cabeza para este mundo de la ciencia de datos y se van a encontrar mucho en nuestros DataFrames\n",
    "\n",
    "Comenzamos creando un DataFrame con algunos valores nulos\n",
    "\n",
    "> import pandas as pd\n",
    "> import numpy as np\n",
    "\n",
    "> dict = {\n",
    "    'Col1':[1,2,3,np.nan],\n",
    "    'Col2':[4,np.nan,6,7],\n",
    "    'Col3':['a','b','c',None]\n",
    "}\n",
    "\n",
    "> df = pd.DataFrame(dict)"
   ]
  },
  {
   "cell_type": "code",
   "execution_count": null,
   "metadata": {},
   "outputs": [],
   "source": []
  },
  {
   "cell_type": "markdown",
   "metadata": {},
   "source": [
    "Aquí nos entrega una lista con datos booleanos\n",
    "True hay valor, False no lo hay.\n",
    "> df.isnull()\n"
   ]
  },
  {
   "cell_type": "code",
   "execution_count": null,
   "metadata": {},
   "outputs": [],
   "source": []
  },
  {
   "cell_type": "markdown",
   "metadata": {},
   "source": [
    "Identificar valores nulos con un valor numérico\n",
    "Esa misma visualización a manera binaria.\n",
    "> df.isnull()*1\n"
   ]
  },
  {
   "cell_type": "code",
   "execution_count": null,
   "metadata": {},
   "outputs": [],
   "source": []
  },
  {
   "cell_type": "markdown",
   "metadata": {},
   "source": [
    "Podemos sustituir los valores nulos con un valor que deseemos.\n",
    "también pudiera son con un valor numérico\n",
    "> df.fillna('Es nulo')\n"
   ]
  },
  {
   "cell_type": "code",
   "execution_count": null,
   "metadata": {},
   "outputs": [],
   "source": []
  },
  {
   "cell_type": "markdown",
   "metadata": {},
   "source": [
    "También con .fillna podemos realizar multiples operaciones\n",
    "Aquí pedimos que nos aplique la media.\n",
    "\n",
    "> df.fillna(df.mean())\n"
   ]
  },
  {
   "cell_type": "code",
   "execution_count": null,
   "metadata": {},
   "outputs": [],
   "source": []
  },
  {
   "cell_type": "markdown",
   "metadata": {},
   "source": [
    ".dropna()\n",
    "\n",
    "Eliminar valores nulos Así de sencillo podemos eliminar todos los datos nulos de nuestro DataFrame.\n",
    "\n",
    "> df.dropna()"
   ]
  },
  {
   "cell_type": "code",
   "execution_count": null,
   "metadata": {},
   "outputs": [],
   "source": []
  },
  {
   "cell_type": "markdown",
   "metadata": {},
   "source": [
    "---"
   ]
  },
  {
   "cell_type": "markdown",
   "metadata": {},
   "source": [
    "#### Filtrado por condiciones con Pandas\n",
    "\n",
    "Funciona por lógica booleana y retorna los valores que están en “True”. \n",
    "Es muy útil porque en ocasiones queremos filtrar o separar datos.\n",
    "\n",
    "Create a sample dataframe\n",
    "\n",
    "> Biodata = {'Name': ['John', 'Emily', 'Mike', 'Lisa'],\n",
    "        'Age': [28, 23, 35, 31],\n",
    "        'Gender': ['M', 'F', 'M', 'F']\n",
    "        }\n",
    "        \n",
    "> df = pd.DataFrame(Biodata)\n",
    "\n",
    "Save the dataframe to a CSV file\n",
    "\n",
    "> df.to_csv('data/Biodata.csv', index=False)"
   ]
  },
  {
   "cell_type": "code",
   "execution_count": 14,
   "metadata": {},
   "outputs": [],
   "source": [
    "\n"
   ]
  },
  {
   "cell_type": "markdown",
   "metadata": {},
   "source": [
    "Recorrer Filas\n",
    "\n",
    "> data = {'name': ['Mike', 'Doe', 'James'], 'age': [18, 19, 29]}\n",
    "> df = pd.DataFrame(data)\n",
    "\n",
    "loop through the rows using iterrows()\n",
    "> for index, row in df.iterrows():\n",
    "\n",
    ">    print(row['name'], row['age'])"
   ]
  },
  {
   "cell_type": "code",
   "execution_count": null,
   "metadata": {},
   "outputs": [],
   "source": []
  },
  {
   "cell_type": "markdown",
   "metadata": {},
   "source": [
    "Recorrer columnas\n",
    "\n",
    "> df = pd.DataFrame({\n",
    "    'A': [1, 2, 3],\n",
    "    'B': [4, 5, 6],\n",
    "    'C': [7, 8, 9]\n",
    "})\n",
    "\n",
    "Loop through columns using a for loop\n",
    "> for col in df.columns:\n",
    ">    print(col)\n"
   ]
  },
  {
   "cell_type": "code",
   "execution_count": null,
   "metadata": {},
   "outputs": [],
   "source": []
  },
  {
   "cell_type": "markdown",
   "metadata": {},
   "source": [
    "Eliminar Columnas\n",
    "\n",
    "create a sample dataframe\n",
    "data = {'name': ['Alice', 'Bob', 'Charlie'],\n",
    "        'age': [25, 30, 35],\n",
    "        'gender': ['F', 'M', 'M']\n",
    "        }\n",
    "df = pd.DataFrame(data)\n",
    "\n",
    "display the original dataframe\n",
    "print('Original DataFrame:\\n', df)\n",
    "\n",
    "drop the 'gender' column\n",
    "df = df.drop(columns=['gender'])\n",
    "\n",
    "display the modified dataframe\n",
    "print('Modified DataFrame:\\n', df)"
   ]
  },
  {
   "cell_type": "code",
   "execution_count": null,
   "metadata": {},
   "outputs": [],
   "source": []
  },
  {
   "cell_type": "markdown",
   "metadata": {},
   "source": [
    "Eliminar multiples columnas\n"
   ]
  },
  {
   "cell_type": "code",
   "execution_count": null,
   "metadata": {},
   "outputs": [],
   "source": [
    "# create a sample dataframe\n",
    "data = {'name': ['John', 'Mary', 'Peter'],\n",
    "        'age': [30, 25, 35],\n",
    "        'gender': ['Male', 'Female', 'Male'],\n",
    "        'city': ['New York', 'London', 'Paris']}\n",
    "df = pd.DataFrame(data)\n",
    "\n",
    "# remove the 'gender' and 'city' columns\n",
    "df.drop(columns=['gender', 'city'], inplace=True)\n",
    "\n",
    "# print the modified dataframe\n",
    "print(df)"
   ]
  },
  {
   "cell_type": "markdown",
   "metadata": {},
   "source": [
    "--- \n",
    "### Group By\n",
    "\n",
    "\n",
    "> df.groupby('Payment')['Quantity'].sum()\n",
    "\n",
    "> df.groupby('Payment')['Quantity'].count()\n",
    "\n",
    "> df.groupby(['Payment', 'Customer type'])['Quantity'].sum()\n",
    "\n",
    "> df.groupby('Payment')['Quantity'].agg([np.sum, np.mean])"
   ]
  },
  {
   "cell_type": "code",
   "execution_count": null,
   "metadata": {},
   "outputs": [],
   "source": []
  },
  {
   "cell_type": "markdown",
   "metadata": {},
   "source": [
    "### Sort\n",
    "\n",
    "data = {'item': ['laptop', 'monitor', 'HDMI', 'speaker'],\n",
    "        'cost': [500, 300, 700, 600]\n",
    "       }\n",
    "\n",
    "df = pd.DataFrame(data)\n",
    "\n",
    "sorted_data = df.sort_values(by='cost', ascending=True)\n",
    "\n",
    "sorted_data"
   ]
  },
  {
   "cell_type": "code",
   "execution_count": null,
   "metadata": {},
   "outputs": [],
   "source": []
  },
  {
   "cell_type": "markdown",
   "metadata": {},
   "source": [
    "### Rename\n",
    "\n",
    "students = {\n",
    "    \"firstname\": [\"John\", \"Jane\", \"Jade\"], \n",
    "    \"lastname\": [\"Doe\", \"Done\", \"Do\"]\n",
    "}\n",
    "\n",
    "convert student names into a Dataframe\n",
    "\n",
    "df = pd.DataFrame(students)\n",
    "\n",
    "df.rename(columns={\"firstname\": \"FIRSTNAME\", \"lastname\": \"LASTNAME\"}, inplace=True)\n",
    "\n",
    "print(df)"
   ]
  },
  {
   "cell_type": "code",
   "execution_count": null,
   "metadata": {},
   "outputs": [],
   "source": []
  },
  {
   "cell_type": "markdown",
   "metadata": {},
   "source": [
    "import pandas as pd\n",
    "\n",
    "students = {\n",
    "    \"firstname\": [\"John\", \"Jane\", \"Jade\"], \n",
    "    \"lastname\": [\"Doe\", \"Done\", \"Do\"]\n",
    "}\n",
    "\n",
    "convert student names into a Dataframe\n",
    "\n",
    "df = pd.DataFrame(students)\n",
    "df.columns = [\"FIRSTNAME\", \"SURNAME\"]\n",
    "\n",
    "print(df)"
   ]
  },
  {
   "cell_type": "code",
   "execution_count": null,
   "metadata": {},
   "outputs": [],
   "source": []
  },
  {
   "cell_type": "markdown",
   "metadata": {},
   "source": []
  }
 ],
 "metadata": {
  "kernelspec": {
   "display_name": "Python 3",
   "language": "python",
   "name": "python3"
  },
  "language_info": {
   "codemirror_mode": {
    "name": "ipython",
    "version": 3
   },
   "file_extension": ".py",
   "mimetype": "text/x-python",
   "name": "python",
   "nbconvert_exporter": "python",
   "pygments_lexer": "ipython3",
   "version": "3.10.13"
  }
 },
 "nbformat": 4,
 "nbformat_minor": 2
}
