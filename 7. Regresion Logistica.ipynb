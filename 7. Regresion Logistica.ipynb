{
 "cells": [
  {
   "cell_type": "markdown",
   "metadata": {},
   "source": [
    "# Regresion Logistica\n",
    "\n",
    "### Función Logística Estándar\n",
    "\n",
    "<img src=\"https://d1.awsstatic.com/sigmoid.bfc853980146c5868a496eafea4fb79907675f44.png\" title=\"formula regresion logistica\" />"
   ]
  },
  {
   "cell_type": "code",
   "execution_count": null,
   "metadata": {},
   "outputs": [],
   "source": []
  },
  {
   "cell_type": "markdown",
   "metadata": {},
   "source": [
    "import numpy as np\n",
    "\n",
    "import matplotlib.pyplot as plt\n",
    "\n",
    "import math\n",
    "\n",
    "#### Creamos una función logística vectorial (ufuncs)\n",
    "logistica = np.frompyfunc(lambda b0, b1, x:\n",
    "                         1 / (1 + math.exp(-(b0 + b1*x))),\n",
    "                         3, 1)\n",
    "\n",
    "#### Graficamos la función logística\n",
    "plt.figure(figsize=(8, 4))\n",
    "\n",
    "#### Diferentes pendientes\n",
    "plt.scatter(np.arange(-5, 5, 0.1),\n",
    "           logistica(0, 1, np.arange(-5, 5, 0.1)),\n",
    "           color=\"green\")\n",
    "\n",
    "plt.scatter(np.arange(-5, 5, 0.1),\n",
    "           logistica(0, 2, np.arange(-5, 5, 0.1)),\n",
    "           color=\"gold\")\n",
    "\n",
    "plt.scatter(np.arange(-5, 5, 0.1),\n",
    "           logistica(0, 3, np.arange(-5, 5, 0.1)),\n",
    "           color=\"red\")\n",
    "\n",
    "plt.title(\"Función Logística Estándar - Diferentes 'Pendientes'\", fontsize=14.0)\n",
    "\n",
    "plt.ylabel(\"Probabilidad\", fontsize=13.0)\n",
    "\n",
    "plt.xlabel(\"Valores\", fontsize=13.0)\n",
    "\n",
    "plt.show()"
   ]
  },
  {
   "cell_type": "code",
   "execution_count": null,
   "metadata": {},
   "outputs": [],
   "source": []
  },
  {
   "cell_type": "markdown",
   "metadata": {},
   "source": [
    "----\n",
    "## Taquicardia: Probabilidad y Clase"
   ]
  },
  {
   "cell_type": "markdown",
   "metadata": {},
   "source": [
    "#### Persona Normal de 60 a 100 latidos por minuto.\n",
    "#### Persona con Taquicardia de hasta 220 latidos por minuto.\n",
    "personas_normal = [65, 70, 80, 80, 80,\n",
    "                   90, 95, 100, 105, 110]\n",
    "\n",
    "personas_taquicardia = [105, 110, 110, 120, 120,\n",
    "                        130, 140, 180, 185, 190]\n",
    "\n",
    "#### Graficamos una función logística\n",
    "plt.figure(figsize=(6, 4))\n",
    "\n",
    "##### y = b0 + b1x    \n",
    "#####\n",
    "##### y = -46.68057196 + 0.42460226x\n",
    "\n",
    "plt.scatter(np.arange(60, 200, 0.1), \n",
    "            logistica(-46.68057196, 0.42460226,\n",
    "                      np.arange(60, 200, 0.1)))  \n",
    "\n",
    "#### Graficamos la frecuencia cardíaca de las personas \n",
    "plt.scatter(personas_normal, [0]*10, \n",
    "            marker=\"o\", c=\"green\", s=250, label=\"Normal\")\n",
    "                \n",
    "plt.scatter(personas_taquicardia, [1]*10, \n",
    "            marker=\"o\", c=\"red\", s=250, label=\"Taquicardia\")    \n",
    "\n",
    "#### Graficamos las probabilidades para tres (3) individuos\n",
    "individuos = [80, 110, 180]\n",
    "\n",
    "probalidades = logistica(-46.68057196, 0.42460226, individuos)\n",
    "\n",
    "plt.scatter(individuos, probalidades,\n",
    "            marker=\"*\", c=\"darkorange\", s=500)\n",
    "\n",
    "plt.text(individuos[0]+7, 0.05, \"%0.2f\" % probalidades[0],\n",
    "         size=12, color=\"black\")\n",
    "plt.text(individuos[1]+7, 0.48, \"%0.2f\" % probalidades[1],\n",
    "         size=12, color=\"black\")\n",
    "plt.text(individuos[2]+7, 0.90, \"%0.2f\" % probalidades[2],\n",
    "         size=12, color=\"black\")\n",
    "plt.text(0, 1, \"TAQUICARDIA\", size=12, color=\"red\")\n",
    "\n",
    "plt.text(0, 0, \"NORMAL\", size=12, color=\"red\")\n",
    "\n",
    "plt.ylabel(\"Probabilidad de Taquicardia\", fontsize=13.0)\n",
    "\n",
    "plt.xlabel(\"Frecuencia cardíaca (latidos por minuto)\", fontsize=13.0)\n",
    "\n",
    "plt.legend(bbox_to_anchor=(1, 0.2))\n",
    "\n",
    "plt.show()"
   ]
  },
  {
   "cell_type": "code",
   "execution_count": null,
   "metadata": {},
   "outputs": [],
   "source": []
  },
  {
   "cell_type": "markdown",
   "metadata": {},
   "source": [
    "----\n",
    "## Máxima Verosimilitud\n",
    "\n",
    "En estadística, la estimación por máxima verosimilitud (conocida también como EMV y, en ocasiones, MLE por sus siglas en inglés) es un método habitual para ajustar un modelo y estimar sus parámetros."
   ]
  },
  {
   "cell_type": "markdown",
   "metadata": {},
   "source": [
    "#### Diferentes funciones logísticas con diferentes \"pendientes\"\n",
    "\n",
    "plt.figure(figsize=(6, 4))\n",
    "\n",
    "for b1 in np.arange(0.35, 0.49, 0.025):\n",
    "    plt.scatter(np.arange(60, 200, 0.1), \n",
    "                logistica(-46.68057196,\n",
    "                          b1,\n",
    "                          np.arange(60, 200, 0.1)),\n",
    "                label=\"b_1=%0.2f\" % b1)  \n",
    "   \n",
    "#### Graficamos la frecuencia cardíaca de las personas \n",
    "plt.scatter(personas_normal, [0]*10, \n",
    "            marker=\"o\", c=\"green\", s=250, label=\"Normal\") \n",
    "\n",
    "plt.scatter(personas_taquicardia, [1]*10, \n",
    "            marker=\"o\", c=\"red\", s=250, label=\"Taquicardia\")  \n",
    "\n",
    "\n",
    "plt.title(\"Máxima Verosimilitud\", fontsize=18.0)\n",
    "\n",
    "plt.text(0, 1, \"TAQUICARDIA\", size=12, color=\"red\")\n",
    "\n",
    "plt.text(0, 0, \"NORMAL\", size=12, color=\"red\")\n",
    "\n",
    "plt.ylabel(\"Probabilidad de Taquicardia\", fontsize=13.0)\n",
    "\n",
    "plt.xlabel(\"Frecuencia cardíaca (latidos por minuto)\", fontsize=13.0)\n",
    "\n",
    "plt.legend(bbox_to_anchor=(1, 1))\n",
    "\n",
    "plt.show()"
   ]
  },
  {
   "cell_type": "code",
   "execution_count": null,
   "metadata": {},
   "outputs": [],
   "source": []
  },
  {
   "cell_type": "markdown",
   "metadata": {},
   "source": [
    "----\n",
    "## Modelo de Regresión Logística"
   ]
  },
  {
   "cell_type": "markdown",
   "metadata": {},
   "source": [
    "from sklearn.linear_model import LogisticRegression\n",
    "\n",
    "from sklearn.model_selection import train_test_split\n",
    "\n",
    "frecuencias_cardiacas = [[65], [70], [80], [80], [80],\n",
    "                         [90], [95], [100], [105], [110],\n",
    "                         [105], [110], [110], [120], [120],\n",
    "                         [130], [140], [180], [185], [190]]\n",
    "\n",
    "clase = [0, 0, 0, 0, 0, 0, 0, 0, 0, 0,\n",
    "         1, 1, 1, 1, 1, 1, 1, 1, 1, 1]\n",
    "\n",
    "#### Creamos conjuntos de entrenamiento y de prueba del modelo\n",
    "datos_entrena, datos_prueba, clase_entrena, clase_prueba = \\\n",
    "    train_test_split(frecuencias_cardiacas,\n",
    "                     clase, \n",
    "                     test_size=0.30)\n",
    "\n",
    "#### Creamos el modelo de Regresión Logística\n",
    "modelo = LogisticRegression().fit(datos_entrena, clase_entrena)\n",
    "\n",
    "np.set_printoptions(suppress=True)\n",
    "\n",
    "print(modelo.predict(datos_prueba))\n",
    "\n",
    "print(modelo.predict_proba(datos_prueba))\n",
    "\n",
    "print(modelo.score(datos_prueba, clase_prueba))\n",
    "\n",
    "print(modelo.intercept_, modelo.coef_)"
   ]
  },
  {
   "cell_type": "code",
   "execution_count": null,
   "metadata": {},
   "outputs": [],
   "source": []
  }
 ],
 "metadata": {
  "kernelspec": {
   "display_name": "Python 3",
   "language": "python",
   "name": "python3"
  },
  "language_info": {
   "codemirror_mode": {
    "name": "ipython",
    "version": 3
   },
   "file_extension": ".py",
   "mimetype": "text/x-python",
   "name": "python",
   "nbconvert_exporter": "python",
   "pygments_lexer": "ipython3",
   "version": "3.10.13"
  }
 },
 "nbformat": 4,
 "nbformat_minor": 2
}
