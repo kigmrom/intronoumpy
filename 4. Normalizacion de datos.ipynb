{
 "cells": [
  {
   "cell_type": "markdown",
   "metadata": {},
   "source": [
    "# Normalizacion de datos"
   ]
  },
  {
   "cell_type": "markdown",
   "metadata": {},
   "source": [
    "import  matplotlib.pyplot as plt\n",
    "\n",
    "import numpy as np\n",
    "\n",
    "import pandas as pd\n",
    "\n",
    "import seaborn as sns\n",
    "\n",
    "import plotly.express as px\n"
   ]
  },
  {
   "cell_type": "code",
   "execution_count": 1,
   "metadata": {
    "application/vnd.databricks.v1+cell": {
     "cellMetadata": {
      "byteLimit": 2048000,
      "rowLimit": 10000
     },
     "inputWidgets": {},
     "nuid": "868f147c-bff1-4b30-9608-56d1e32dd836",
     "showTitle": false,
     "title": ""
    }
   },
   "outputs": [],
   "source": [
    "import  matplotlib.pyplot as plt\n",
    "\n",
    "import numpy as np\n",
    "\n",
    "import pandas as pd\n",
    "\n",
    "import seaborn as sns\n",
    "\n",
    "import plotly.express as px"
   ]
  },
  {
   "cell_type": "markdown",
   "metadata": {
    "application/vnd.databricks.v1+cell": {
     "cellMetadata": {
      "byteLimit": 2048000,
      "rowLimit": 10000
     },
     "inputWidgets": {},
     "nuid": "a8d3f9de-0505-4fb5-9b99-8570a3d05d33",
     "showTitle": false,
     "title": ""
    }
   },
   "source": [
    "\n",
    "personas = pd.read_csv(\"personas.csv\")\n",
    "\n",
    "df_personas"
   ]
  },
  {
   "cell_type": "code",
   "execution_count": 2,
   "metadata": {
    "application/vnd.databricks.v1+cell": {
     "cellMetadata": {
      "byteLimit": 2048000,
      "rowLimit": 10000
     },
     "inputWidgets": {},
     "nuid": "1989b2f3-cbbe-4213-b10b-5a161df237be",
     "showTitle": false,
     "title": ""
    }
   },
   "outputs": [
    {
     "data": {
      "text/html": [
       "<div>\n",
       "<style scoped>\n",
       "    .dataframe tbody tr th:only-of-type {\n",
       "        vertical-align: middle;\n",
       "    }\n",
       "\n",
       "    .dataframe tbody tr th {\n",
       "        vertical-align: top;\n",
       "    }\n",
       "\n",
       "    .dataframe thead th {\n",
       "        text-align: right;\n",
       "    }\n",
       "</style>\n",
       "<table border=\"1\" class=\"dataframe\">\n",
       "  <thead>\n",
       "    <tr style=\"text-align: right;\">\n",
       "      <th></th>\n",
       "      <th>altura</th>\n",
       "      <th>peso</th>\n",
       "      <th>ingreso</th>\n",
       "      <th>horas_trabajadas</th>\n",
       "      <th>ausencias</th>\n",
       "    </tr>\n",
       "  </thead>\n",
       "  <tbody>\n",
       "    <tr>\n",
       "      <th>0</th>\n",
       "      <td>134.433878</td>\n",
       "      <td>70.617864</td>\n",
       "      <td>9973.577534</td>\n",
       "      <td>40.905476</td>\n",
       "      <td>4</td>\n",
       "    </tr>\n",
       "    <tr>\n",
       "      <th>1</th>\n",
       "      <td>167.158746</td>\n",
       "      <td>109.268295</td>\n",
       "      <td>8961.047249</td>\n",
       "      <td>41.576483</td>\n",
       "      <td>4</td>\n",
       "    </tr>\n",
       "    <tr>\n",
       "      <th>2</th>\n",
       "      <td>141.480812</td>\n",
       "      <td>81.034644</td>\n",
       "      <td>7437.977263</td>\n",
       "      <td>41.369239</td>\n",
       "      <td>5</td>\n",
       "    </tr>\n",
       "    <tr>\n",
       "      <th>3</th>\n",
       "      <td>123.227119</td>\n",
       "      <td>57.884172</td>\n",
       "      <td>12064.915290</td>\n",
       "      <td>41.537211</td>\n",
       "      <td>3</td>\n",
       "    </tr>\n",
       "    <tr>\n",
       "      <th>4</th>\n",
       "      <td>143.554951</td>\n",
       "      <td>93.581093</td>\n",
       "      <td>9296.396167</td>\n",
       "      <td>40.441203</td>\n",
       "      <td>4</td>\n",
       "    </tr>\n",
       "    <tr>\n",
       "      <th>...</th>\n",
       "      <td>...</td>\n",
       "      <td>...</td>\n",
       "      <td>...</td>\n",
       "      <td>...</td>\n",
       "      <td>...</td>\n",
       "    </tr>\n",
       "    <tr>\n",
       "      <th>995</th>\n",
       "      <td>169.059462</td>\n",
       "      <td>109.612155</td>\n",
       "      <td>9998.522402</td>\n",
       "      <td>41.110352</td>\n",
       "      <td>4</td>\n",
       "    </tr>\n",
       "    <tr>\n",
       "      <th>996</th>\n",
       "      <td>151.873081</td>\n",
       "      <td>91.697127</td>\n",
       "      <td>6867.097603</td>\n",
       "      <td>40.617061</td>\n",
       "      <td>5</td>\n",
       "    </tr>\n",
       "    <tr>\n",
       "      <th>997</th>\n",
       "      <td>131.156800</td>\n",
       "      <td>78.301155</td>\n",
       "      <td>9757.539280</td>\n",
       "      <td>40.798085</td>\n",
       "      <td>4</td>\n",
       "    </tr>\n",
       "    <tr>\n",
       "      <th>998</th>\n",
       "      <td>156.454396</td>\n",
       "      <td>94.163603</td>\n",
       "      <td>11044.031510</td>\n",
       "      <td>41.443604</td>\n",
       "      <td>3</td>\n",
       "    </tr>\n",
       "    <tr>\n",
       "      <th>999</th>\n",
       "      <td>149.558353</td>\n",
       "      <td>87.134622</td>\n",
       "      <td>13222.253800</td>\n",
       "      <td>41.402637</td>\n",
       "      <td>2</td>\n",
       "    </tr>\n",
       "  </tbody>\n",
       "</table>\n",
       "<p>1000 rows × 5 columns</p>\n",
       "</div>"
      ],
      "text/plain": [
       "         altura        peso       ingreso  horas_trabajadas  ausencias\n",
       "0    134.433878   70.617864   9973.577534         40.905476          4\n",
       "1    167.158746  109.268295   8961.047249         41.576483          4\n",
       "2    141.480812   81.034644   7437.977263         41.369239          5\n",
       "3    123.227119   57.884172  12064.915290         41.537211          3\n",
       "4    143.554951   93.581093   9296.396167         40.441203          4\n",
       "..          ...         ...           ...               ...        ...\n",
       "995  169.059462  109.612155   9998.522402         41.110352          4\n",
       "996  151.873081   91.697127   6867.097603         40.617061          5\n",
       "997  131.156800   78.301155   9757.539280         40.798085          4\n",
       "998  156.454396   94.163603  11044.031510         41.443604          3\n",
       "999  149.558353   87.134622  13222.253800         41.402637          2\n",
       "\n",
       "[1000 rows x 5 columns]"
      ]
     },
     "execution_count": 2,
     "metadata": {},
     "output_type": "execute_result"
    }
   ],
   "source": [
    "personas_df = pd.read_excel('Dataset/personas.xlsx')\n",
    "personas_df"
   ]
  },
  {
   "cell_type": "markdown",
   "metadata": {
    "application/vnd.databricks.v1+cell": {
     "cellMetadata": {
      "byteLimit": 2048000,
      "rowLimit": 10000
     },
     "inputWidgets": {},
     "nuid": "9784c794-57cb-4cd9-8c48-dc3faa3d2288",
     "showTitle": false,
     "title": ""
    }
   },
   "source": [
    "### Normalizacion y estandarizacion\n",
    "\n",
    "https://scikit-learn.org/stable/modules/preprocessing.html"
   ]
  },
  {
   "cell_type": "markdown",
   "metadata": {
    "application/vnd.databricks.v1+cell": {
     "cellMetadata": {
      "byteLimit": 2048000,
      "rowLimit": 10000
     },
     "inputWidgets": {},
     "nuid": "38cff2d4-fa86-4fab-ab27-0f62e46d3995",
     "showTitle": false,
     "title": ""
    }
   },
   "source": [
    "#### Metodos 1 sklearn"
   ]
  },
  {
   "cell_type": "markdown",
   "metadata": {
    "application/vnd.databricks.v1+cell": {
     "cellMetadata": {
      "byteLimit": 2048000,
      "rowLimit": 10000
     },
     "inputWidgets": {},
     "nuid": "8423c46b-7b43-44ac-8bb1-c3eda6bc8e81",
     "showTitle": false,
     "title": ""
    }
   },
   "source": [
    "from sklearn import preprocessing\n",
    "\n",
    "z_scaler = preprocessing.StandardScaler()\n",
    "\n",
    "personas_z=z_scaler.fit_transform(df_personas)\n",
    "\n",
    "personas_z\n",
    "\n",
    "type(personas_z)\n",
    "\n",
    "#personas_z=pd.DataFrame(personas_z,columns=[\"altura\",\"peso\",\"ingreso\",\"horas_trabajadas\",\"ausencias\"])\n",
    "\n",
    "personas_z=pd.DataFrame(personas_z,columns=df_personas.columns)\n",
    "\n",
    "type(personas_z)"
   ]
  },
  {
   "cell_type": "code",
   "execution_count": null,
   "metadata": {},
   "outputs": [],
   "source": []
  },
  {
   "cell_type": "markdown",
   "metadata": {
    "application/vnd.databricks.v1+cell": {
     "cellMetadata": {
      "byteLimit": 2048000,
      "rowLimit": 10000
     },
     "inputWidgets": {},
     "nuid": "8a2c89cd-d858-4451-9c6e-b492cfee8a70",
     "showTitle": false,
     "title": ""
    }
   },
   "source": [
    "fig=px.box(df_personas)\n",
    "\n",
    "fig.show()\n",
    "\n",
    "fig=px.box(personas_z)\n",
    "\n",
    "fig.show()"
   ]
  },
  {
   "cell_type": "code",
   "execution_count": null,
   "metadata": {},
   "outputs": [],
   "source": []
  },
  {
   "cell_type": "markdown",
   "metadata": {
    "application/vnd.databricks.v1+cell": {
     "cellMetadata": {
      "byteLimit": 2048000,
      "rowLimit": 10000
     },
     "inputWidgets": {},
     "nuid": "efcfd5f1-03b1-4595-a9b7-bcd63a4332f3",
     "showTitle": false,
     "title": ""
    }
   },
   "source": [
    "### Min-MAX: Normalización\n",
    "\n",
    "El método de estandarización MIN-MAX transformará linealmente los datos originales.\n",
    "A cada dato se le resta el mínimo, y esa diferencia se divide entre maximo menos minimo.\n",
    "Obviamente, cuando X es el valor máximo, se convertirá a 1; cuando X es un valor mínimo, el nuevo valor correspondiente es 0; El conjunto completo de datos se distribuye dentro del intervalo de 0 a 1, y la distribución de datos. y no cambiará."
   ]
  },
  {
   "cell_type": "markdown",
   "metadata": {
    "application/vnd.databricks.v1+cell": {
     "cellMetadata": {
      "byteLimit": 2048000,
      "rowLimit": 10000
     },
     "inputWidgets": {},
     "nuid": "392a0b08-b12e-47c0-bbcb-95a4598606c3",
     "showTitle": false,
     "title": ""
    }
   },
   "source": [
    "mm_scaler=preprocessing.MinMaxScaler()\n",
    "\n",
    "personas_mm=mm_scaler.fit_transform(df_personas)\n",
    "\n",
    "personas_mm=pd.DataFrame(personas_mm,columns=df_personas.columns)"
   ]
  },
  {
   "cell_type": "code",
   "execution_count": null,
   "metadata": {},
   "outputs": [],
   "source": []
  },
  {
   "cell_type": "markdown",
   "metadata": {
    "application/vnd.databricks.v1+cell": {
     "cellMetadata": {
      "byteLimit": 2048000,
      "rowLimit": 10000
     },
     "inputWidgets": {},
     "nuid": "ff084453-ba1c-41c7-85e7-bb560b3604f7",
     "showTitle": false,
     "title": ""
    }
   },
   "source": [
    "sns.jointplot(data=personas_mm,color='m',x=\"altura\",y=\"peso\")"
   ]
  },
  {
   "cell_type": "code",
   "execution_count": null,
   "metadata": {},
   "outputs": [],
   "source": []
  },
  {
   "cell_type": "markdown",
   "metadata": {
    "application/vnd.databricks.v1+cell": {
     "cellMetadata": {
      "byteLimit": 2048000,
      "rowLimit": 10000
     },
     "inputWidgets": {},
     "nuid": "d52a1633-e985-4be1-8a51-89e832aaa4a9",
     "showTitle": false,
     "title": ""
    }
   },
   "source": [
    "### Maxabs: Normalización máxima de valor absoluto\n",
    "\n",
    "En la ciencia de los datos, a menudo necesitamos responder a los datos dispersos, y el método Maxabs tiene un buen soporte para los datos dispersos. El método de estandarización MAXABS es similar al método MIN-MAX,\n",
    "\n",
    "Es decir, el valor máximo del valor absoluto en todo el conjunto de datos se elimina, de modo que las propiedades positivas y negativas de los datos originales se conservan, y los datos han caído dentro de intervalos cerrados [-1, 1]. Cabe señalar que la operación de excelente valor es primero, luego se selecciona el valor máximo, no el valor máximo, y luego solicita valores absolutos. He visto muchos artículos mal. Por ejemplo, hay un conjunto de datos [-0.01, -1, -2], si buscamos primero el valor máximo y luego buscar valores absolutos, no lo digamos, los datos son simplemente al suelo."
   ]
  },
  {
   "cell_type": "markdown",
   "metadata": {
    "application/vnd.databricks.v1+cell": {
     "cellMetadata": {
      "byteLimit": 2048000,
      "rowLimit": 10000
     },
     "inputWidgets": {},
     "nuid": "d509d4aa-e4c7-4941-a8c9-f1c8ab838663",
     "showTitle": false,
     "title": ""
    }
   },
   "source": [
    "ma_scaler=preprocessing.MaxAbsScaler()\n",
    "\n",
    "personas_ma=ma_scaler.fit_transform(df_personas)\n",
    "\n",
    "personas_ma=pd.DataFrame(personas_ma,columns=df_personas.columns)"
   ]
  },
  {
   "cell_type": "code",
   "execution_count": null,
   "metadata": {},
   "outputs": [],
   "source": []
  },
  {
   "cell_type": "markdown",
   "metadata": {
    "application/vnd.databricks.v1+cell": {
     "cellMetadata": {
      "byteLimit": 2048000,
      "rowLimit": 10000
     },
     "inputWidgets": {},
     "nuid": "0766250d-e19e-47d8-96e0-8d86bc23b40b",
     "showTitle": false,
     "title": ""
    }
   },
   "source": [
    "sns.jointplot(data=personas_ma,color='m',x=\"altura\",y=\"peso\")"
   ]
  },
  {
   "cell_type": "code",
   "execution_count": null,
   "metadata": {},
   "outputs": [],
   "source": []
  },
  {
   "cell_type": "markdown",
   "metadata": {
    "application/vnd.databricks.v1+cell": {
     "cellMetadata": {
      "byteLimit": 2048000,
      "rowLimit": 10000
     },
     "inputWidgets": {},
     "nuid": "dc61b052-7567-4efe-9458-5cbede8c210d",
     "showTitle": false,
     "title": ""
    }
   },
   "source": [
    "fig=px.box(df_personas)\n",
    "\n",
    "fig.show()\n",
    "\n",
    "fig=px.box(personas_z)\n",
    "\n",
    "fig.show()\n",
    "\n",
    "fig=px.box(personas_mm)\n",
    "\n",
    "fig.show()\n",
    "\n",
    "fig=px.box(personas_ma)\n",
    "\n",
    "fig.show()"
   ]
  },
  {
   "cell_type": "code",
   "execution_count": null,
   "metadata": {},
   "outputs": [],
   "source": []
  }
 ],
 "metadata": {
  "application/vnd.databricks.v1+notebook": {
   "dashboards": [],
   "language": "python",
   "notebookMetadata": {
    "pythonIndentUnit": 4
   },
   "notebookName": "Normalizacion de datos (1)",
   "widgets": {}
  },
  "kernelspec": {
   "display_name": "Python 3",
   "language": "python",
   "name": "python3"
  },
  "language_info": {
   "codemirror_mode": {
    "name": "ipython",
    "version": 3
   },
   "file_extension": ".py",
   "mimetype": "text/x-python",
   "name": "python",
   "nbconvert_exporter": "python",
   "pygments_lexer": "ipython3",
   "version": "3.10.13"
  }
 },
 "nbformat": 4,
 "nbformat_minor": 0
}
