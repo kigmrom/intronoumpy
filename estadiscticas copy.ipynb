{
 "cells": [
  {
   "cell_type": "markdown",
   "metadata": {},
   "source": [
    "# Tarea 1\n",
    "### 1. diccionario de datos() -> de los 4 disponibles seleccionar solo 2 datasets\n",
    "### 2. Estadisticas descripcitivos ->\n",
    "### 3. boxPlot(de todos los campos) -> tiene outliers?\n",
    "### 4. Matriz de correlacion -> que campos/columnas/variable tiene relacion con quien?"
   ]
  },
  {
   "cell_type": "code",
   "execution_count": 1,
   "metadata": {},
   "outputs": [],
   "source": [
    "import matplotlib.pyplot as plt\n",
    "import numpy as np\n",
    "import pandas as pd\n",
    "import seaborn as sns\n",
    "import plotly.express as px\n",
    "import scipy.stats as stats\n"
   ]
  },
  {
   "cell_type": "markdown",
   "metadata": {},
   "source": [
    "<h1> 1. Diccionario de datos para Books</h1>"
   ]
  },
  {
   "cell_type": "markdown",
   "metadata": {},
   "source": [
    "Importar csv de books"
   ]
  },
  {
   "cell_type": "code",
   "execution_count": 2,
   "metadata": {},
   "outputs": [
    {
     "data": {
      "text/html": [
       "<div>\n",
       "<style scoped>\n",
       "    .dataframe tbody tr th:only-of-type {\n",
       "        vertical-align: middle;\n",
       "    }\n",
       "\n",
       "    .dataframe tbody tr th {\n",
       "        vertical-align: top;\n",
       "    }\n",
       "\n",
       "    .dataframe thead th {\n",
       "        text-align: right;\n",
       "    }\n",
       "</style>\n",
       "<table border=\"1\" class=\"dataframe\">\n",
       "  <thead>\n",
       "    <tr style=\"text-align: right;\">\n",
       "      <th></th>\n",
       "      <th>Day</th>\n",
       "      <th>Conversion_A</th>\n",
       "      <th>Conversion_B</th>\n",
       "    </tr>\n",
       "  </thead>\n",
       "  <tbody>\n",
       "    <tr>\n",
       "      <th>0</th>\n",
       "      <td>1</td>\n",
       "      <td>0.15</td>\n",
       "      <td>0.19</td>\n",
       "    </tr>\n",
       "    <tr>\n",
       "      <th>1</th>\n",
       "      <td>2</td>\n",
       "      <td>0.12</td>\n",
       "      <td>0.20</td>\n",
       "    </tr>\n",
       "    <tr>\n",
       "      <th>2</th>\n",
       "      <td>3</td>\n",
       "      <td>0.18</td>\n",
       "      <td>0.18</td>\n",
       "    </tr>\n",
       "    <tr>\n",
       "      <th>3</th>\n",
       "      <td>4</td>\n",
       "      <td>0.19</td>\n",
       "      <td>0.22</td>\n",
       "    </tr>\n",
       "    <tr>\n",
       "      <th>4</th>\n",
       "      <td>5</td>\n",
       "      <td>0.17</td>\n",
       "      <td>0.19</td>\n",
       "    </tr>\n",
       "    <tr>\n",
       "      <th>5</th>\n",
       "      <td>6</td>\n",
       "      <td>0.13</td>\n",
       "      <td>0.17</td>\n",
       "    </tr>\n",
       "    <tr>\n",
       "      <th>6</th>\n",
       "      <td>7</td>\n",
       "      <td>0.14</td>\n",
       "      <td>0.18</td>\n",
       "    </tr>\n",
       "    <tr>\n",
       "      <th>7</th>\n",
       "      <td>8</td>\n",
       "      <td>0.23</td>\n",
       "      <td>0.20</td>\n",
       "    </tr>\n",
       "    <tr>\n",
       "      <th>8</th>\n",
       "      <td>9</td>\n",
       "      <td>0.11</td>\n",
       "      <td>0.17</td>\n",
       "    </tr>\n",
       "    <tr>\n",
       "      <th>9</th>\n",
       "      <td>10</td>\n",
       "      <td>0.15</td>\n",
       "      <td>0.22</td>\n",
       "    </tr>\n",
       "    <tr>\n",
       "      <th>10</th>\n",
       "      <td>11</td>\n",
       "      <td>0.18</td>\n",
       "      <td>0.17</td>\n",
       "    </tr>\n",
       "    <tr>\n",
       "      <th>11</th>\n",
       "      <td>12</td>\n",
       "      <td>0.19</td>\n",
       "      <td>0.25</td>\n",
       "    </tr>\n",
       "    <tr>\n",
       "      <th>12</th>\n",
       "      <td>13</td>\n",
       "      <td>0.16</td>\n",
       "      <td>0.15</td>\n",
       "    </tr>\n",
       "    <tr>\n",
       "      <th>13</th>\n",
       "      <td>14</td>\n",
       "      <td>0.12</td>\n",
       "      <td>0.27</td>\n",
       "    </tr>\n",
       "    <tr>\n",
       "      <th>14</th>\n",
       "      <td>15</td>\n",
       "      <td>0.18</td>\n",
       "      <td>0.19</td>\n",
       "    </tr>\n",
       "    <tr>\n",
       "      <th>15</th>\n",
       "      <td>16</td>\n",
       "      <td>0.21</td>\n",
       "      <td>0.20</td>\n",
       "    </tr>\n",
       "    <tr>\n",
       "      <th>16</th>\n",
       "      <td>17</td>\n",
       "      <td>0.10</td>\n",
       "      <td>0.17</td>\n",
       "    </tr>\n",
       "    <tr>\n",
       "      <th>17</th>\n",
       "      <td>18</td>\n",
       "      <td>0.18</td>\n",
       "      <td>0.22</td>\n",
       "    </tr>\n",
       "    <tr>\n",
       "      <th>18</th>\n",
       "      <td>19</td>\n",
       "      <td>0.15</td>\n",
       "      <td>0.18</td>\n",
       "    </tr>\n",
       "    <tr>\n",
       "      <th>19</th>\n",
       "      <td>20</td>\n",
       "      <td>0.12</td>\n",
       "      <td>0.19</td>\n",
       "    </tr>\n",
       "    <tr>\n",
       "      <th>20</th>\n",
       "      <td>21</td>\n",
       "      <td>0.12</td>\n",
       "      <td>0.18</td>\n",
       "    </tr>\n",
       "    <tr>\n",
       "      <th>21</th>\n",
       "      <td>22</td>\n",
       "      <td>0.18</td>\n",
       "      <td>0.19</td>\n",
       "    </tr>\n",
       "    <tr>\n",
       "      <th>22</th>\n",
       "      <td>23</td>\n",
       "      <td>0.21</td>\n",
       "      <td>0.23</td>\n",
       "    </tr>\n",
       "    <tr>\n",
       "      <th>23</th>\n",
       "      <td>24</td>\n",
       "      <td>0.11</td>\n",
       "      <td>0.15</td>\n",
       "    </tr>\n",
       "    <tr>\n",
       "      <th>24</th>\n",
       "      <td>25</td>\n",
       "      <td>0.14</td>\n",
       "      <td>0.19</td>\n",
       "    </tr>\n",
       "    <tr>\n",
       "      <th>25</th>\n",
       "      <td>26</td>\n",
       "      <td>0.15</td>\n",
       "      <td>0.17</td>\n",
       "    </tr>\n",
       "    <tr>\n",
       "      <th>26</th>\n",
       "      <td>27</td>\n",
       "      <td>0.19</td>\n",
       "      <td>0.18</td>\n",
       "    </tr>\n",
       "    <tr>\n",
       "      <th>27</th>\n",
       "      <td>28</td>\n",
       "      <td>0.21</td>\n",
       "      <td>0.23</td>\n",
       "    </tr>\n",
       "    <tr>\n",
       "      <th>28</th>\n",
       "      <td>29</td>\n",
       "      <td>0.17</td>\n",
       "      <td>0.18</td>\n",
       "    </tr>\n",
       "    <tr>\n",
       "      <th>29</th>\n",
       "      <td>30</td>\n",
       "      <td>0.22</td>\n",
       "      <td>0.19</td>\n",
       "    </tr>\n",
       "  </tbody>\n",
       "</table>\n",
       "</div>"
      ],
      "text/plain": [
       "    Day  Conversion_A  Conversion_B\n",
       "0     1          0.15          0.19\n",
       "1     2          0.12          0.20\n",
       "2     3          0.18          0.18\n",
       "3     4          0.19          0.22\n",
       "4     5          0.17          0.19\n",
       "5     6          0.13          0.17\n",
       "6     7          0.14          0.18\n",
       "7     8          0.23          0.20\n",
       "8     9          0.11          0.17\n",
       "9    10          0.15          0.22\n",
       "10   11          0.18          0.17\n",
       "11   12          0.19          0.25\n",
       "12   13          0.16          0.15\n",
       "13   14          0.12          0.27\n",
       "14   15          0.18          0.19\n",
       "15   16          0.21          0.20\n",
       "16   17          0.10          0.17\n",
       "17   18          0.18          0.22\n",
       "18   19          0.15          0.18\n",
       "19   20          0.12          0.19\n",
       "20   21          0.12          0.18\n",
       "21   22          0.18          0.19\n",
       "22   23          0.21          0.23\n",
       "23   24          0.11          0.15\n",
       "24   25          0.14          0.19\n",
       "25   26          0.15          0.17\n",
       "26   27          0.19          0.18\n",
       "27   28          0.21          0.23\n",
       "28   29          0.17          0.18\n",
       "29   30          0.22          0.19"
      ]
     },
     "execution_count": 2,
     "metadata": {},
     "output_type": "execute_result"
    }
   ],
   "source": [
    "paginas = pd.read_excel('Dataset/paginas.xlsx')\n",
    "paginas"
   ]
  },
  {
   "cell_type": "markdown",
   "metadata": {},
   "source": [
    "<h2> 2. Estadistica descriptiva de Clientes </h2>"
   ]
  },
  {
   "cell_type": "code",
   "execution_count": 4,
   "metadata": {},
   "outputs": [
    {
     "name": "stdout",
     "output_type": "stream",
     "text": [
      "<class 'pandas.core.frame.DataFrame'>\n",
      "RangeIndex: 30 entries, 0 to 29\n",
      "Data columns (total 3 columns):\n",
      " #   Column        Non-Null Count  Dtype  \n",
      "---  ------        --------------  -----  \n",
      " 0   Day           30 non-null     int64  \n",
      " 1   Conversion_A  30 non-null     float64\n",
      " 2   Conversion_B  30 non-null     float64\n",
      "dtypes: float64(2), int64(1)\n",
      "memory usage: 848.0 bytes\n"
     ]
    }
   ],
   "source": [
    "paginas.info()"
   ]
  },
  {
   "cell_type": "code",
   "execution_count": 3,
   "metadata": {},
   "outputs": [
    {
     "name": "stdout",
     "output_type": "stream",
     "text": [
      "Media:  15.5\n",
      "Mediana:  15.5\n"
     ]
    }
   ],
   "source": [
    "if paginas[\"Day\"].isnull().sum() > 0:\n",
    "    print(\"Hay valores nulos en la columna 'Day'.\")\n",
    "    Day = paginas[\"Day\"].dropna()\n",
    "else:\n",
    "    Day = paginas[\"Day\"]\n",
    "media = np.mean(Day)\n",
    "mediana = np.median(Day)\n",
    "print(\"Media: \", media)\n",
    "print(\"Mediana: \", mediana)\n"
   ]
  },
  {
   "cell_type": "code",
   "execution_count": 4,
   "metadata": {},
   "outputs": [
    {
     "name": "stdout",
     "output_type": "stream",
     "text": [
      "Media:  0.162\n",
      "Mediana:  0.165\n"
     ]
    }
   ],
   "source": [
    "if paginas[\"Conversion_A\"].isnull().sum() > 0:\n",
    "    print(\"Hay valores nulos en la columna 'Conversion_A'.\")\n",
    "    Conversion_A = paginas[\"Conversion_A\"].dropna()\n",
    "else:\n",
    "    Conversion_A = paginas[\"Conversion_A\"]\n",
    "media = np.mean(Conversion_A)\n",
    "mediana = np.median(Conversion_A)\n",
    "print(\"Media: \", media)\n",
    "print(\"Mediana: \", mediana)"
   ]
  },
  {
   "cell_type": "code",
   "execution_count": 5,
   "metadata": {},
   "outputs": [
    {
     "name": "stdout",
     "output_type": "stream",
     "text": [
      "Media:  0.19333333333333336\n",
      "Mediana:  0.19\n"
     ]
    }
   ],
   "source": [
    "if paginas[\"Conversion_B\"].isnull().sum() > 0:\n",
    "    print(\"Hay valores nulos en la columna 'Conversion_B'.\")\n",
    "    Conversion_B = paginas[\"Conversion_B\"].dropna()\n",
    "else:\n",
    "    Conversion_B = paginas[\"Conversion_B\"]\n",
    "media = np.mean(Conversion_B)\n",
    "mediana = np.median(Conversion_B)\n",
    "print(\"Media: \", media)\n",
    "print(\"Mediana: \", mediana)"
   ]
  },
  {
   "cell_type": "markdown",
   "metadata": {},
   "source": [
    "<h3> BoxPlot </h3>"
   ]
  },
  {
   "cell_type": "code",
   "execution_count": 12,
   "metadata": {},
   "outputs": [
    {
     "data": {
      "image/png": "[encoded data removed]",
      "text/plain": [
       "<Figure size 640x480 with 1 Axes>"
      ]
     },
     "metadata": {},
     "output_type": "display_data"
    },
    {
     "data": {
      "image/png": "[encoded data removed]",
      "text/plain": [
       "<Figure size 640x480 with 1 Axes>"
      ]
     },
     "metadata": {},
     "output_type": "display_data"
    },
    {
     "data": {
      "image/png": "[encoded data removed]",
      "text/plain": [
       "<Figure size 640x480 with 1 Axes>"
      ]
     },
     "metadata": {},
     "output_type": "display_data"
    }
   ],
   "source": [
    "dia = paginas[\"Day\"]\n",
    "conversion_a = paginas[\"Conversion_A\"]\n",
    "conversion_b = paginas[\"Conversion_B\"]\n",
    "\n",
    "# Remover valores NaN e infinitos\n",
    "mask = ~np.isnan(dia) & ~np.isnan(conversion_a) & ~np.isnan(conversion_b) & ~np.isinf(dia) & ~np.isinf(conversion_a) & ~np.isinf(conversion_b)\n",
    "dia_clean = dia[mask]\n",
    "conversion_a_clean = conversion_a[mask]\n",
    "conversion_b_clean = conversion_b[mask]\n",
    "\n",
    "# Graficar el boxplot de dia\n",
    "plt.grid(True)\n",
    "plt.yticks(np.arange(0, 110, 5))\n",
    "plt.boxplot(dia_clean)\n",
    "plt.xlabel(\"Dia\")\n",
    "plt.title(\"Boxplot de Dia\")\n",
    "plt.show()\n",
    "\n",
    "# Graficar el boxplot de conversion_A\n",
    "plt.grid(True)\n",
    "plt.yticks(np.arange(0, 1.1, 0.1))\n",
    "plt.boxplot(conversion_a_clean)\n",
    "plt.xlabel(\"Conversion_A\")\n",
    "plt.title(\"Boxplot de Conversion_A\")\n",
    "plt.show()\n",
    "\n",
    "# Graficar el boxplot de conversion_b\n",
    "plt.grid(True)\n",
    "plt.yticks(np.arange(0, 1.1, 0.1))\n",
    "plt.boxplot(conversion_b_clean)\n",
    "plt.xlabel(\"Conversion_B\")\n",
    "plt.title(\"Boxplot de Conversion_B\")\n",
    "plt.show()"
   ]
  },
  {
   "cell_type": "code",
   "execution_count": 8,
   "metadata": {},
   "outputs": [
    {
     "data": {
      "image/png": "[encoded data removed]",
      "text/plain": [
       "<Figure size 640x480 with 1 Axes>"
      ]
     },
     "metadata": {},
     "output_type": "display_data"
    }
   ],
   "source": [
    "edad = clientes[\"edad\"]\n",
    "ingreso = clientes[\"ingreso\"]\n",
    "\n",
    "# Remover valores NaN e infinitos\n",
    "mask = ~np.isnan(edad) & ~np.isnan(ingreso) & ~np.isinf(edad) & ~np.isinf(ingreso)\n",
    "edad_clean = edad[mask]\n",
    "ingreso_clean = ingreso[mask]\n",
    "\n",
    "# Graficar el boxplot de los ingresos\n",
    "plt.grid(True)\n",
    "plt.boxplot(ingreso_clean)\n",
    "plt.ylabel(\"Ingresos\")\n",
    "plt.title(\"Boxplot de Ingresos\")\n",
    "plt.show()"
   ]
  },
  {
   "cell_type": "markdown",
   "metadata": {},
   "source": [
    "<h3> Matriz de correlacion </h3>"
   ]
  },
  {
   "cell_type": "code",
   "execution_count": 14,
   "metadata": {},
   "outputs": [
    {
     "data": {
      "image/png": "[encoded data removed]",
      "text/plain": [
       "<Figure size 640x480 with 1 Axes>"
      ]
     },
     "metadata": {},
     "output_type": "display_data"
    },
    {
     "name": "stdout",
     "output_type": "stream",
     "text": [
      "Matriz de correlación (numpy):\n",
      " [[ 1.          0.15823335 -0.05302197]\n",
      " [ 0.15823335  1.          0.31764378]\n",
      " [-0.05302197  0.31764378  1.        ]]\n",
      "\n",
      "Matriz de correlación (pandas):\n",
      "                    Dia  Conversion_A  Conversion_B\n",
      "Dia           1.000000      0.158233     -0.053022\n",
      "Conversion_A  0.158233      1.000000      0.317644\n",
      "Conversion_B -0.053022      0.317644      1.000000\n"
     ]
    },
    {
     "data": {
      "image/png": "[encoded data removed]",
      "text/plain": [
       "<Figure size 800x600 with 2 Axes>"
      ]
     },
     "metadata": {},
     "output_type": "display_data"
    }
   ],
   "source": [
    "dia = paginas[\"Day\"]\n",
    "conversion_a = paginas[\"Conversion_A\"]\n",
    "conversion_b = paginas[\"Conversion_B\"]\n",
    "\n",
    "# Remover valores NaN e infinitos\n",
    "mask = ~np.isnan(dia) & ~np.isnan(conversion_a) & ~np.isnan(conversion_b) & ~np.isinf(dia) & ~np.isinf(conversion_a) & ~np.isinf(conversion_b)\n",
    "dia_clean = dia[mask]\n",
    "conversion_a_clean = conversion_a[mask]\n",
    "conversion_b_clean = conversion_b[mask]\n",
    "\n",
    "# Graficar los datos limpios\n",
    "plt.scatter(dia_clean, conversion_a_clean, label='Conversion_A')\n",
    "plt.scatter(dia_clean, conversion_b_clean, label='Conversion_B')\n",
    "plt.xlabel(\"Dia\")\n",
    "plt.ylabel(\"Conversiones\")\n",
    "plt.legend()\n",
    "plt.show()\n",
    "\n",
    "# Calcular matriz de correlación usando numpy\n",
    "correlation_matrix_np = np.corrcoef([dia_clean, conversion_a_clean, conversion_b_clean])\n",
    "print(\"Matriz de correlación (numpy):\\n\", correlation_matrix_np)\n",
    "\n",
    "# Calcular matriz de correlación usando pandas\n",
    "df_clean = pd.DataFrame({'Dia': dia_clean, 'Conversion_A': conversion_a_clean, 'Conversion_B': conversion_b_clean})\n",
    "correlation_matrix_pd = df_clean.corr()\n",
    "print(\"\\nMatriz de correlación (pandas):\\n\", correlation_matrix_pd)\n",
    "\n",
    "# Mostrar matriz de correlación usando seaborn (opcional)\n",
    "plt.figure(figsize=(8, 6))\n",
    "sns.heatmap(correlation_matrix_pd, annot=True, cmap='coolwarm', vmin=-1, vmax=1)\n",
    "plt.title('Matriz de correlación')\n",
    "plt.show()"
   ]
  },
  {
   "cell_type": "markdown",
   "metadata": {},
   "source": [
    "<h1> 1. Diccionario de datos para personas </h1>"
   ]
  },
  {
   "cell_type": "code",
   "execution_count": 9,
   "metadata": {},
   "outputs": [
    {
     "data": {
      "text/html": [
       "<div>\n",
       "<style scoped>\n",
       "    .dataframe tbody tr th:only-of-type {\n",
       "        vertical-align: middle;\n",
       "    }\n",
       "\n",
       "    .dataframe tbody tr th {\n",
       "        vertical-align: top;\n",
       "    }\n",
       "\n",
       "    .dataframe thead th {\n",
       "        text-align: right;\n",
       "    }\n",
       "</style>\n",
       "<table border=\"1\" class=\"dataframe\">\n",
       "  <thead>\n",
       "    <tr style=\"text-align: right;\">\n",
       "      <th></th>\n",
       "      <th>altura</th>\n",
       "      <th>peso</th>\n",
       "      <th>ingreso</th>\n",
       "      <th>horas_trabajadas</th>\n",
       "      <th>ausencias</th>\n",
       "    </tr>\n",
       "  </thead>\n",
       "  <tbody>\n",
       "    <tr>\n",
       "      <th>0</th>\n",
       "      <td>134.433878</td>\n",
       "      <td>70.617864</td>\n",
       "      <td>9973.577534</td>\n",
       "      <td>40.905476</td>\n",
       "      <td>4</td>\n",
       "    </tr>\n",
       "    <tr>\n",
       "      <th>1</th>\n",
       "      <td>167.158746</td>\n",
       "      <td>109.268295</td>\n",
       "      <td>8961.047249</td>\n",
       "      <td>41.576483</td>\n",
       "      <td>4</td>\n",
       "    </tr>\n",
       "    <tr>\n",
       "      <th>2</th>\n",
       "      <td>141.480812</td>\n",
       "      <td>81.034644</td>\n",
       "      <td>7437.977263</td>\n",
       "      <td>41.369239</td>\n",
       "      <td>5</td>\n",
       "    </tr>\n",
       "    <tr>\n",
       "      <th>3</th>\n",
       "      <td>123.227119</td>\n",
       "      <td>57.884172</td>\n",
       "      <td>12064.915290</td>\n",
       "      <td>41.537211</td>\n",
       "      <td>3</td>\n",
       "    </tr>\n",
       "    <tr>\n",
       "      <th>4</th>\n",
       "      <td>143.554951</td>\n",
       "      <td>93.581093</td>\n",
       "      <td>9296.396167</td>\n",
       "      <td>40.441203</td>\n",
       "      <td>4</td>\n",
       "    </tr>\n",
       "    <tr>\n",
       "      <th>...</th>\n",
       "      <td>...</td>\n",
       "      <td>...</td>\n",
       "      <td>...</td>\n",
       "      <td>...</td>\n",
       "      <td>...</td>\n",
       "    </tr>\n",
       "    <tr>\n",
       "      <th>995</th>\n",
       "      <td>169.059462</td>\n",
       "      <td>109.612155</td>\n",
       "      <td>9998.522402</td>\n",
       "      <td>41.110352</td>\n",
       "      <td>4</td>\n",
       "    </tr>\n",
       "    <tr>\n",
       "      <th>996</th>\n",
       "      <td>151.873081</td>\n",
       "      <td>91.697127</td>\n",
       "      <td>6867.097603</td>\n",
       "      <td>40.617061</td>\n",
       "      <td>5</td>\n",
       "    </tr>\n",
       "    <tr>\n",
       "      <th>997</th>\n",
       "      <td>131.156800</td>\n",
       "      <td>78.301155</td>\n",
       "      <td>9757.539280</td>\n",
       "      <td>40.798085</td>\n",
       "      <td>4</td>\n",
       "    </tr>\n",
       "    <tr>\n",
       "      <th>998</th>\n",
       "      <td>156.454396</td>\n",
       "      <td>94.163603</td>\n",
       "      <td>11044.031510</td>\n",
       "      <td>41.443604</td>\n",
       "      <td>3</td>\n",
       "    </tr>\n",
       "    <tr>\n",
       "      <th>999</th>\n",
       "      <td>149.558353</td>\n",
       "      <td>87.134622</td>\n",
       "      <td>13222.253800</td>\n",
       "      <td>41.402637</td>\n",
       "      <td>2</td>\n",
       "    </tr>\n",
       "  </tbody>\n",
       "</table>\n",
       "<p>1000 rows × 5 columns</p>\n",
       "</div>"
      ],
      "text/plain": [
       "         altura        peso       ingreso  horas_trabajadas  ausencias\n",
       "0    134.433878   70.617864   9973.577534         40.905476          4\n",
       "1    167.158746  109.268295   8961.047249         41.576483          4\n",
       "2    141.480812   81.034644   7437.977263         41.369239          5\n",
       "3    123.227119   57.884172  12064.915290         41.537211          3\n",
       "4    143.554951   93.581093   9296.396167         40.441203          4\n",
       "..          ...         ...           ...               ...        ...\n",
       "995  169.059462  109.612155   9998.522402         41.110352          4\n",
       "996  151.873081   91.697127   6867.097603         40.617061          5\n",
       "997  131.156800   78.301155   9757.539280         40.798085          4\n",
       "998  156.454396   94.163603  11044.031510         41.443604          3\n",
       "999  149.558353   87.134622  13222.253800         41.402637          2\n",
       "\n",
       "[1000 rows x 5 columns]"
      ]
     },
     "execution_count": 9,
     "metadata": {},
     "output_type": "execute_result"
    }
   ],
   "source": [
    "personas = pd.read_excel('Dataset/personas.xlsx')\n",
    "personas"
   ]
  }
 ],
 "metadata": {
  "kernelspec": {
   "display_name": "Python 3",
   "language": "python",
   "name": "python3"
  },
  "language_info": {
   "codemirror_mode": {
    "name": "ipython",
    "version": 3
   },
   "file_extension": ".py",
   "mimetype": "text/x-python",
   "name": "python",
   "nbconvert_exporter": "python",
   "pygments_lexer": "ipython3",
   "version": "3.10.13"
  }
 },
 "nbformat": 4,
 "nbformat_minor": 2
}
