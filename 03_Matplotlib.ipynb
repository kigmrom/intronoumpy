{
 "cells": [
  {
   "cell_type": "markdown",
   "metadata": {},
   "source": [
    "# Matplotlib"
   ]
  },
  {
   "cell_type": "markdown",
   "metadata": {},
   "source": [
    "import library\n",
    "\n",
    "> import numpy as np\n",
    "\n",
    "> import pandas as pd\n",
    "\n",
    "> import matplotlib.pyplot as plt"
   ]
  },
  {
   "cell_type": "code",
   "execution_count": null,
   "metadata": {},
   "outputs": [],
   "source": [
    "\n",
    "\n"
   ]
  },
  {
   "cell_type": "markdown",
   "metadata": {},
   "source": [
    "Crear una figura vacia\n",
    "\n",
    "> fig, ax = plt.subplots()\n",
    "\n",
    "> plt.show()"
   ]
  },
  {
   "cell_type": "code",
   "execution_count": null,
   "metadata": {},
   "outputs": [],
   "source": []
  },
  {
   "cell_type": "markdown",
   "metadata": {},
   "source": [
    "resize figure\n",
    "\n",
    "> fig, ax = plt.subplots(figsize=(10,10))\n",
    "\n",
    "> plt.show()"
   ]
  },
  {
   "cell_type": "code",
   "execution_count": null,
   "metadata": {},
   "outputs": [],
   "source": []
  },
  {
   "cell_type": "markdown",
   "metadata": {},
   "source": [
    "set axis with xlim and ylim, title, labels\n",
    "\n",
    "> fig,ax = plt.subplots()\n",
    "\n",
    "> ax.set(xlim=[0.5, 4.5], ylim=[-2, 8], \n",
    "       title='An Example Axes',\n",
    "       ylabel='Y-Axis', xlabel='X-Axis')\n",
    "\n",
    "> plt.show()"
   ]
  },
  {
   "cell_type": "code",
   "execution_count": null,
   "metadata": {},
   "outputs": [],
   "source": []
  },
  {
   "cell_type": "markdown",
   "metadata": {},
   "source": [
    " Save a Plot to an Image File\n",
    "\n",
    "> plt.savefig(\"chart1.png\")\n",
    "\n",
    " Save Transparent Figure\n",
    "\n",
    "> plt.savefig(\"chart2.png\", transparent=True)"
   ]
  },
  {
   "cell_type": "code",
   "execution_count": null,
   "metadata": {},
   "outputs": [],
   "source": []
  },
  {
   "cell_type": "markdown",
   "metadata": {},
   "source": [
    "create multiple subplots along rows\n",
    "\n",
    "> fig, ax = plt.subplots(nrows=2)"
   ]
  },
  {
   "cell_type": "code",
   "execution_count": null,
   "metadata": {},
   "outputs": [],
   "source": []
  },
  {
   "cell_type": "markdown",
   "metadata": {},
   "source": [
    "create multiple subplots along columns\n",
    "\n",
    "> fig, ax = plt.subplots(ncols=2)"
   ]
  },
  {
   "cell_type": "code",
   "execution_count": null,
   "metadata": {},
   "outputs": [],
   "source": []
  },
  {
   "cell_type": "markdown",
   "metadata": {},
   "source": [
    "create multiple subplots along rows and columns\n",
    "\n",
    "> fig, ax = plt.subplots(nrows=2,ncols=2)\n",
    "\n",
    "> plt.show()"
   ]
  },
  {
   "cell_type": "code",
   "execution_count": null,
   "metadata": {},
   "outputs": [],
   "source": []
  },
  {
   "cell_type": "markdown",
   "metadata": {},
   "source": [
    "create multiple subplots without overlapping\n",
    "\n",
    "> fig, ax = plt.subplots(nrows=2,ncols=2)\n",
    "\n",
    "> plt.tight_layout() # avoid overlapping\n",
    "\n",
    "> plt.show()"
   ]
  },
  {
   "cell_type": "code",
   "execution_count": null,
   "metadata": {},
   "outputs": [],
   "source": []
  },
  {
   "cell_type": "markdown",
   "metadata": {},
   "source": [
    "define the index of subplots\n",
    "\n",
    "> fig, axes = plt.subplots(nrows=2, ncols=2)\n",
    "\n",
    "> axes[0,0].set(title='Upper Left [0,0]')\n",
    "\n",
    "> axes[0,1].set(title='Upper Right [0,1]')\n",
    "\n",
    "> axes[1,0].set(title='Lower Left [1,0]')\n",
    "\n",
    "> axes[1,1].set(title='Lower Right [1,1]')\n",
    "\n",
    "> plt.tight_layout()\n",
    "\n",
    "> plt.show()"
   ]
  },
  {
   "cell_type": "code",
   "execution_count": null,
   "metadata": {},
   "outputs": [],
   "source": []
  },
  {
   "cell_type": "markdown",
   "metadata": {},
   "source": [
    "plot()\n",
    "\n",
    "> plt.plot([1, 2, 3, 4])\n",
    "> plt.ylabel('Numbers')\n",
    "> plt.show()"
   ]
  },
  {
   "cell_type": "code",
   "execution_count": null,
   "metadata": {},
   "outputs": [],
   "source": []
  },
  {
   "cell_type": "markdown",
   "metadata": {},
   "source": [
    "> plt.plot([1, 2, 3, 4], [1, 4, 9, 16])\n",
    "\n",
    "> plt.show()"
   ]
  },
  {
   "cell_type": "code",
   "execution_count": null,
   "metadata": {},
   "outputs": [],
   "source": []
  },
  {
   "cell_type": "markdown",
   "metadata": {},
   "source": [
    "Formatting the style of plot\n",
    "\n",
    "plt.plot([1, 2, 3, 4], [1, 4, 9, 16], 'ro')\n",
    "plt.axis([0, 6, 0, 20])\n",
    "plt.show()"
   ]
  },
  {
   "cell_type": "code",
   "execution_count": null,
   "metadata": {},
   "outputs": [],
   "source": []
  },
  {
   "cell_type": "markdown",
   "metadata": {},
   "source": [
    "Multiples Lineas\n",
    "\n",
    "> x = np.linspace(0, 2, 100)\n",
    "\n",
    "> plt.plot(x, x, label='linear')\n",
    "> plt.plot(x, x**2, label='quadratic')\n",
    "> plt.plot(x, x**3, label='cubic')\n",
    "\n",
    "> plt.xlabel('x label')\n",
    "> plt.ylabel('y label')\n",
    "\n",
    "> plt.title(\"Simple Plot\")\n",
    "\n",
    "> plt.legend()\n",
    "\n",
    "> plt.show()"
   ]
  },
  {
   "cell_type": "code",
   "execution_count": null,
   "metadata": {},
   "outputs": [],
   "source": []
  },
  {
   "cell_type": "markdown",
   "metadata": {},
   "source": [
    "Adding a grid\n",
    "\n",
    "> x15 = np.arange(1, 5)\n",
    "\n",
    "> plt.plot(x15, x15*1.5, x15, x15*3.0, x15, x15/3.0)\n",
    "\n",
    "> plt.grid(True)\n",
    "\n",
    "> plt.show()"
   ]
  },
  {
   "cell_type": "code",
   "execution_count": null,
   "metadata": {},
   "outputs": [],
   "source": []
  },
  {
   "cell_type": "markdown",
   "metadata": {},
   "source": [
    "Working with NumPy arrays\n",
    "\n",
    "evenly sampled time at 200ms intervals\n",
    "\n",
    "> t = np.arange(0., 5., 0.2)\n",
    "\n",
    "red dashes, blue squares and green triangles\n",
    "\n",
    "> plt.plot(t, t, 'r--', t, t**2, 'bs', t, t**3, 'g^')\n",
    "\n",
    "> plt.show()"
   ]
  },
  {
   "cell_type": "code",
   "execution_count": null,
   "metadata": {},
   "outputs": [],
   "source": []
  },
  {
   "cell_type": "markdown",
   "metadata": {},
   "source": [
    " Handling axes\n",
    "\n",
    "> x15 = np.arange(1, 5)\n",
    "\n",
    "> plt.plot(x15, x15*1.5, x15, x15*3.0, x15, x15/3.0)\n",
    "\n",
    "> plt.axis()   # shows the current axis limits values\n",
    "\n",
    "> plt.axis([0, 5, -1, 13])\n",
    "\n",
    "> plt.show()"
   ]
  },
  {
   "cell_type": "code",
   "execution_count": null,
   "metadata": {},
   "outputs": [],
   "source": []
  },
  {
   "cell_type": "markdown",
   "metadata": {},
   "source": [
    "Scatter Plot with plt.plot()\n",
    "\n",
    "> x7 = np.linspace(0, 10, 30)\n",
    "\n",
    "> y7 = np.sin(x7)\n",
    "\n",
    "> plt.plot(x7, y7, 'o', color = 'black');"
   ]
  },
  {
   "cell_type": "code",
   "execution_count": null,
   "metadata": {},
   "outputs": [],
   "source": []
  },
  {
   "cell_type": "markdown",
   "metadata": {},
   "source": [
    "> x1 = np.linspace(0, 10, 100)\n",
    "\n",
    "\n",
    "create a plot figure\n",
    "\n",
    "> fig = plt.figure()\n",
    "\n",
    "> plt.plot(x1, np.sin(x1), '-')\n",
    "\n",
    "> plt.plot(x1, np.cos(x1), '--');"
   ]
  },
  {
   "cell_type": "code",
   "execution_count": null,
   "metadata": {},
   "outputs": [],
   "source": []
  },
  {
   "cell_type": "markdown",
   "metadata": {},
   "source": [
    "create a plot figure\n",
    "\n",
    "> plt.figure()\n",
    "\n",
    "\n",
    "create the first of two panels and set current axis\n",
    "\n",
    "> plt.subplot(2, 1, 1)   # (rows, columns, panel number)\n",
    "\n",
    "> plt.plot(x1, np.sin(x1))\n",
    "\n",
    "\n",
    "create the second of two panels and set current axis\n",
    "\n",
    "> plt.subplot(2, 1, 2)   # (rows, columns, panel number)\n",
    "\n",
    "> plt.plot(x1, np.cos(x1));"
   ]
  },
  {
   "cell_type": "code",
   "execution_count": null,
   "metadata": {},
   "outputs": [],
   "source": []
  },
  {
   "cell_type": "markdown",
   "metadata": {},
   "source": [
    "### Histogram\n",
    "\n",
    "> data1 = np.random.randn(1000)\n",
    "\n",
    "> plt.hist(data1); "
   ]
  },
  {
   "cell_type": "code",
   "execution_count": null,
   "metadata": {},
   "outputs": [],
   "source": []
  },
  {
   "cell_type": "markdown",
   "metadata": {},
   "source": [
    "### Bar Chart\n",
    "\n",
    "> data2 = [5. , 25. , 50. , 20.]\n",
    "\n",
    "> plt.bar(range(len(data2)), data2)\n",
    "\n",
    "> plt.show() "
   ]
  },
  {
   "cell_type": "code",
   "execution_count": null,
   "metadata": {},
   "outputs": [],
   "source": []
  },
  {
   "cell_type": "markdown",
   "metadata": {},
   "source": [
    "### Horizontal Bar Chart\n",
    "\n",
    "> data2 = [5. , 25. , 50. , 20.]\n",
    "\n",
    "> plt.barh(range(len(data2)), data2)\n",
    "\n",
    "> plt.show() "
   ]
  },
  {
   "cell_type": "code",
   "execution_count": null,
   "metadata": {},
   "outputs": [],
   "source": []
  },
  {
   "cell_type": "markdown",
   "metadata": {},
   "source": [
    "### Stacked Bar Chart\n",
    "\n",
    "> A = [15., 30., 45., 22.]\n",
    "\n",
    "> B = [15., 25., 50., 20.]\n",
    "\n",
    "> z2 = range(4)\n",
    "\n",
    "> plt.bar(z2, A, color = 'b')\n",
    "\n",
    "> plt.bar(z2, B, color = 'r', bottom = A)\n",
    "\n",
    "> plt.show()"
   ]
  },
  {
   "cell_type": "code",
   "execution_count": null,
   "metadata": {},
   "outputs": [],
   "source": []
  },
  {
   "cell_type": "markdown",
   "metadata": {},
   "source": [
    "### Pie Chart\n",
    "\n",
    "> plt.figure(figsize=(7,7))\n",
    "\n",
    "> x10 = [35, 25, 20, 20]\n",
    "\n",
    "> labels = ['Computer', 'Electronics', 'Mechanical', 'Chemical']\n",
    "\n",
    "> plt.pie(x10, labels=labels);\n",
    "\n",
    "> plt.show()"
   ]
  },
  {
   "cell_type": "code",
   "execution_count": null,
   "metadata": {},
   "outputs": [],
   "source": []
  },
  {
   "cell_type": "markdown",
   "metadata": {},
   "source": [
    "###  Boxplot\n",
    "\n",
    "> data3 = np.random.randn(100)\n",
    "\n",
    "> plt.boxplot(data3)\n",
    "\n",
    "> plt.show();"
   ]
  },
  {
   "cell_type": "code",
   "execution_count": null,
   "metadata": {},
   "outputs": [],
   "source": []
  },
  {
   "cell_type": "markdown",
   "metadata": {},
   "source": [
    "### Area Chart\n",
    "\n",
    " Create some data\n",
    "> x12 = range(1, 6)\n",
    "> y12 = [1, 4, 6, 8, 4]\n",
    "\n",
    " Area plot\n",
    "> plt.fill_between(x12, y12)\n",
    "> plt.show()"
   ]
  },
  {
   "cell_type": "code",
   "execution_count": null,
   "metadata": {},
   "outputs": [],
   "source": []
  },
  {
   "cell_type": "markdown",
   "metadata": {},
   "source": [
    "### Contour Plot\n",
    "\n",
    "Create a matrix\n",
    "\n",
    "> matrix1 = np.random.rand(10, 20)\n",
    "\n",
    "> cp = plt.contour(matrix1)\n",
    "\n",
    "> plt.show()"
   ]
  },
  {
   "cell_type": "code",
   "execution_count": null,
   "metadata": {},
   "outputs": [],
   "source": []
  },
  {
   "cell_type": "markdown",
   "metadata": {},
   "source": [
    "### Adding a legend\n",
    "\n",
    "'''ax.legend(loc=0) # let Matplotlib decide the optimal location\n",
    "\n",
    "ax.legend(loc=1) # upper right corner\n",
    "\n",
    "ax.legend(loc=2) # upper left corner\n",
    "\n",
    "ax.legend(loc=3) # lower left corner\n",
    "\n",
    "ax.legend(loc=4) # lower right corner\n",
    "\n",
    "ax.legend(loc=5) # right\n",
    "\n",
    "ax.legend(loc=6) # center left\n",
    "\n",
    "ax.legend(loc=7) # center right\n",
    "\n",
    "ax.legend(loc=8) # lower center\n",
    "\n",
    "ax.legend(loc=9) # upper center\n",
    "\n",
    "ax.legend(loc=10) # center'''   \n",
    "\n",
    "x15 = np.arange(1, 5)\n",
    "\n",
    "fig, ax = plt.subplots()\n",
    "\n",
    "ax.plot(x15, x15*1.5)\n",
    "ax.plot(x15, x15*3.0)\n",
    "ax.plot(x15, x15/3.0)\n",
    "\n",
    "ax.legend(['Normal','Fast','Slow']);"
   ]
  },
  {
   "cell_type": "code",
   "execution_count": null,
   "metadata": {},
   "outputs": [],
   "source": []
  },
  {
   "cell_type": "markdown",
   "metadata": {},
   "source": [
    "### Control colours\n",
    "\n",
    "'''\n",
    "Colour abbreviation Colour name\n",
    "\n",
    "b blue\n",
    "\n",
    "c cyan\n",
    "\n",
    "g green\n",
    "\n",
    "k black\n",
    "\n",
    "m magenta\n",
    "\n",
    "r red\n",
    "\n",
    "w white\n",
    "\n",
    "y yellow\n",
    "\n",
    "There are several ways to specify colours, other than by colour abbreviations:\n",
    "\n",
    "• The full colour name, such as yellow\n",
    "\n",
    "• Hexadecimal string such as ##FF00FF\n",
    "\n",
    "• RGB tuples, for example (1, 0, 1)\n",
    "\n",
    "• Grayscale intensity, in string format such as ‘0.7’.\n",
    "\n",
    "\n",
    "\n",
    "'''\n",
    "\n",
    "x16 = np.arange(1, 5)\n",
    "\n",
    "plt.plot(x16, 'r')\n",
    "plt.plot(x16+1, 'g')\n",
    "plt.plot(x16+2, 'b')\n",
    "\n",
    "plt.show()"
   ]
  },
  {
   "cell_type": "code",
   "execution_count": null,
   "metadata": {},
   "outputs": [],
   "source": []
  },
  {
   "cell_type": "markdown",
   "metadata": {},
   "source": [
    "### Control line styles\n",
    "'''\n",
    "\n",
    "All the available line styles are available in the following table:\n",
    "\n",
    "Style abbreviation Style\n",
    "\n",
    "solid line\n",
    "-- dashed line\n",
    "\n",
    "-. dash-dot line\n",
    "\n",
    ": dotted line\n",
    "\n",
    "Now, we can see the default format string for a single line plot is 'b-'.\n",
    "'''\n",
    "\n",
    "x16 = np.arange(1, 5)\n",
    "\n",
    "plt.plot(x16, '--', x16+1, '-.', x16+2, ':')\n",
    "\n",
    "plt.show()"
   ]
  },
  {
   "cell_type": "code",
   "execution_count": null,
   "metadata": {},
   "outputs": [],
   "source": []
  }
 ],
 "metadata": {
  "language_info": {
   "name": "python"
  }
 },
 "nbformat": 4,
 "nbformat_minor": 2
}
