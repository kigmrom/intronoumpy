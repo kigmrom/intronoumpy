{
 "cells": [
  {
   "cell_type": "markdown",
   "metadata": {},
   "source": [
    "\n",
    "# K-vecinos más cercanos (KNN)\n",
    "## Datos de clientes bancarios: crédito"
   ]
  },
  {
   "cell_type": "markdown",
   "metadata": {},
   "source": [
    "import pandas as pd\n",
    "import numpy as np\n",
    "import matplotlib.pyplot as plt\n",
    "from sklearn import preprocessing\n",
    "from sklearn.neighbors import KNeighborsClassifier\n",
    "\n",
    "clientes = pd.read_csv(\"data/creditos.csv\")\n",
    "clientes"
   ]
  },
  {
   "cell_type": "code",
   "execution_count": null,
   "metadata": {},
   "outputs": [],
   "source": []
  },
  {
   "cell_type": "markdown",
   "metadata": {},
   "source": [
    "# Pagadores VS Deudores"
   ]
  },
  {
   "cell_type": "markdown",
   "metadata": {},
   "source": [
    "buenos = clientes[clientes[\"cumplio\"]==1]\n",
    "malos = clientes[clientes[\"cumplio\"]==0]"
   ]
  },
  {
   "cell_type": "code",
   "execution_count": null,
   "metadata": {},
   "outputs": [],
   "source": []
  },
  {
   "cell_type": "markdown",
   "metadata": {},
   "source": [
    "# Gráfica: Pagadores VS Deudores"
   ]
  },
  {
   "cell_type": "markdown",
   "metadata": {},
   "source": [
    "plt.scatter(buenos[\"edad\"], buenos[\"credito\"],\n",
    "            marker=\"*\", s=150, color=\"skyblue\",\n",
    "            label=\"Sí pagó (Clase: 1)\")\n",
    "\n",
    "plt.scatter(malos[\"edad\"], malos[\"credito\"],\n",
    "            marker=\"*\", s=150, color=\"red\", \n",
    "            label=\"No pagó (Clase: 0)\")\n",
    "\n",
    "plt.ylabel(\"Monto del crédito\")\n",
    "plt.xlabel(\"Edad\")\n",
    "plt.legend(bbox_to_anchor=(1, 0.2)) \n",
    "plt.show()"
   ]
  },
  {
   "cell_type": "code",
   "execution_count": null,
   "metadata": {},
   "outputs": [],
   "source": []
  },
  {
   "cell_type": "markdown",
   "metadata": {},
   "source": [
    "# Preparación de los datos (Escalar)"
   ]
  },
  {
   "cell_type": "markdown",
   "metadata": {},
   "source": [
    "datos = clientes[[\"edad\", \"credito\"]]\n",
    "clase = clientes[\"cumplio\"]\n",
    "\n",
    "escalador = preprocessing.MinMaxScaler()\n",
    "\n",
    "datos = escalador.fit_transform(datos)"
   ]
  },
  {
   "cell_type": "code",
   "execution_count": null,
   "metadata": {},
   "outputs": [],
   "source": []
  },
  {
   "cell_type": "markdown",
   "metadata": {},
   "source": [
    "# Creación del Modelo KNN\n",
    "## Valor de K"
   ]
  },
  {
   "cell_type": "markdown",
   "metadata": {},
   "source": [
    "clasificador = KNeighborsClassifier(n_neighbors=3)\n",
    "\n",
    "clasificador.fit(datos, clase)"
   ]
  },
  {
   "cell_type": "code",
   "execution_count": null,
   "metadata": {},
   "outputs": [],
   "source": []
  },
  {
   "cell_type": "markdown",
   "metadata": {},
   "source": [
    "# Nuevo Solicitante (Clasificación)"
   ]
  },
  {
   "cell_type": "markdown",
   "metadata": {},
   "source": [
    "edad = 53\n",
    "monto = 350000\n",
    "\n",
    "#Escalar los datos del nuevo solicitante\n",
    "solicitante = escalador.transform([[edad, monto]])\n",
    "\n",
    "#Calcular clase y probabilidades\n",
    "print(\"Clase:\", clasificador.predict(solicitante))\n",
    "print(\"Probabilidades por clase\",\n",
    "      clasificador.predict_proba(solicitante))\n",
    "\n",
    "#Código para graficar\n",
    "plt.scatter(buenos[\"edad\"], buenos[\"credito\"],\n",
    "            marker=\"*\", s=150, color=\"skyblue\", label=\"Sí pagó (Clase: 1)\")\n",
    "plt.scatter(malos[\"edad\"], malos[\"credito\"],\n",
    "            marker=\"*\", s=150, color=\"red\", label=\"No pagó (Clase: 0)\")\n",
    "plt.scatter(edad, monto, marker=\"P\", s=250, color=\"green\", label=\"Solicitante\") \n",
    "plt.ylabel(\"Monto del crédito\")\n",
    "plt.xlabel(\"Edad\")\n",
    "plt.legend(bbox_to_anchor=(1, 0.3))\n",
    "plt.show()"
   ]
  },
  {
   "cell_type": "code",
   "execution_count": null,
   "metadata": {},
   "outputs": [],
   "source": []
  },
  {
   "cell_type": "markdown",
   "metadata": {},
   "source": [
    "# Regiones de las clases\n",
    "### Pagadores vs Deudores"
   ]
  },
  {
   "cell_type": "markdown",
   "metadata": {},
   "source": [
    "#Datos sinténticos de todos los posibles solicitantes\n",
    "creditos = np.array([np.arange(100000, 600010, 1000)]*43).reshape(1, -1)\n",
    "edades = np.array([np.arange(18, 61)]*501).reshape(1, -1)\n",
    "todos = pd.DataFrame(np.stack((edades, creditos), axis=2)[0],\n",
    "                     columns=[\"edad\", \"credito\"])\n",
    "\n",
    "#Escalar los datos\n",
    "solicitantes = escalador.transform(todos)\n",
    "\n",
    "#Predecir todas las clases\n",
    "clases_resultantes = clasificador.predict(solicitantes)\n",
    "\n",
    "#Código para graficar\n",
    "buenos = todos[clases_resultantes==1]\n",
    "malos = todos[clases_resultantes==0]\n",
    "plt.scatter(buenos[\"edad\"], buenos[\"credito\"],\n",
    "            marker=\"*\", s=150, color=\"skyblue\", label=\"Sí pagará (Clase: 1)\")\n",
    "plt.scatter(malos[\"edad\"], malos[\"credito\"],\n",
    "            marker=\"*\", s=150, color=\"red\", label=\"No pagará (Clase: 0)\")\n",
    "plt.ylabel(\"Monto del crédito\")\n",
    "plt.xlabel(\"Edad\")\n",
    "plt.legend(bbox_to_anchor=(1, 0.2))\n",
    "plt.show()"
   ]
  },
  {
   "cell_type": "code",
   "execution_count": null,
   "metadata": {},
   "outputs": [],
   "source": []
  }
 ],
 "metadata": {
  "kernelspec": {
   "display_name": "Python 3",
   "language": "python",
   "name": "python3"
  },
  "language_info": {
   "codemirror_mode": {
    "name": "ipython",
    "version": 3
   },
   "file_extension": ".py",
   "mimetype": "text/x-python",
   "name": "python",
   "nbconvert_exporter": "python",
   "pygments_lexer": "ipython3",
   "version": "3.10.13"
  }
 },
 "nbformat": 4,
 "nbformat_minor": 4
}
