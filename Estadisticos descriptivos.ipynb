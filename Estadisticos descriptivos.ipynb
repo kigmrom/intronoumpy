{
 "cells": [
  {
   "cell_type": "markdown",
   "metadata": {
    "application/vnd.databricks.v1+cell": {
     "cellMetadata": {
      "byteLimit": 2048000,
      "rowLimit": 10000
     },
     "inputWidgets": {},
     "nuid": "98ef47ba-72f3-4fc0-b20a-72017f4d00ec",
     "showTitle": false,
     "title": ""
    }
   },
   "source": [
    "## Datos"
   ]
  },
  {
   "cell_type": "code",
   "execution_count": 6,
   "metadata": {},
   "outputs": [],
   "source": [
    "import numpy as np\n",
    "import statistics as stat\n",
    "import pandas as pd\n",
    "import matplotlib.pyplot as plt"
   ]
  },
  {
   "cell_type": "code",
   "execution_count": 7,
   "metadata": {
    "application/vnd.databricks.v1+cell": {
     "cellMetadata": {
      "byteLimit": 2048000,
      "rowLimit": 10000
     },
     "inputWidgets": {},
     "nuid": "d6ba5bdd-a128-4ab9-9e21-7026f965f100",
     "showTitle": false,
     "title": ""
    }
   },
   "outputs": [],
   "source": [
    "# Datos\n",
    "datos=[1,2,3,4,5,6,7,8,9,10]\n",
    "edades=[5,18,19,21,22,22,30,31,24,23,90]\n",
    "sueldos=[1200,600,900,4000,2400,800,950,1400,1700]\n",
    "calificaciones=[45,90,95,22,51,28,70,48,90,75]"
   ]
  },
  {
   "cell_type": "markdown",
   "metadata": {},
   "source": [
    "import numpy as np\n",
    "\n",
    "import statistics as stat\n",
    "\n",
    "import pandas as pd\n",
    "\n",
    "import matplotlib.pyplot as plt\n"
   ]
  },
  {
   "cell_type": "markdown",
   "metadata": {
    "application/vnd.databricks.v1+cell": {
     "cellMetadata": {
      "byteLimit": 2048000,
      "rowLimit": 10000
     },
     "inputWidgets": {},
     "nuid": "1860d7fa-3326-45f0-8942-3d95fee3f67e",
     "showTitle": false,
     "title": ""
    }
   },
   "source": [
    "## Media (promedio)\n",
    "\n",
    "Suma de todos los valores dividida por el número de valores.\n",
    "\n",
    "media = np.mean(datos)\n",
    "\n",
    "media\n",
    "\n",
    "mediaST = stat.mean(datos)\n",
    "\n",
    "mediaST"
   ]
  },
  {
   "cell_type": "code",
   "execution_count": 8,
   "metadata": {
    "application/vnd.databricks.v1+cell": {
     "cellMetadata": {
      "byteLimit": 2048000,
      "rowLimit": 10000
     },
     "inputWidgets": {},
     "nuid": "9311820b-c7ae-4e69-8258-bce4b599fadf",
     "showTitle": false,
     "title": ""
    }
   },
   "outputs": [
    {
     "data": {
      "text/plain": [
       "5.5"
      ]
     },
     "execution_count": 8,
     "metadata": {},
     "output_type": "execute_result"
    }
   ],
   "source": [
    "media = np.mean(datos)\n",
    "media\n",
    "mediaST = stat.mean(datos)\n",
    "mediaST"
   ]
  },
  {
   "cell_type": "code",
   "execution_count": null,
   "metadata": {
    "application/vnd.databricks.v1+cell": {
     "cellMetadata": {
      "byteLimit": 2048000,
      "rowLimit": 10000
     },
     "inputWidgets": {},
     "nuid": "3d62bff4-60fe-4ec1-a5fd-9551ac1424f4",
     "showTitle": false,
     "title": ""
    }
   },
   "outputs": [
    {
     "name": "stdout",
     "output_type": "stream",
     "text": [
      "Out[7]: 5.5"
     ]
    }
   ],
   "source": []
  },
  {
   "cell_type": "markdown",
   "metadata": {
    "application/vnd.databricks.v1+cell": {
     "cellMetadata": {
      "byteLimit": 2048000,
      "rowLimit": 10000
     },
     "inputWidgets": {},
     "nuid": "ebd34a56-16a7-4499-9f69-ff858205ef7c",
     "showTitle": false,
     "title": ""
    }
   },
   "source": [
    "df_datos = pd.DataFrame(datos)\n",
    "\n",
    "mediaPD= df_datos.mean()"
   ]
  },
  {
   "cell_type": "code",
   "execution_count": 9,
   "metadata": {},
   "outputs": [],
   "source": [
    "df_datos = pd.DataFrame(datos)\n",
    "mediaPD = df_datos.mean()"
   ]
  },
  {
   "cell_type": "markdown",
   "metadata": {
    "application/vnd.databricks.v1+cell": {
     "cellMetadata": {
      "byteLimit": 2048000,
      "rowLimit": 10000
     },
     "inputWidgets": {},
     "nuid": "4106ddcf-0274-459e-a751-a7280db27b95",
     "showTitle": false,
     "title": ""
    }
   },
   "source": [
    "print(media,mediaST,mediaPD)\n",
    "\n",
    "type(media)\n",
    "\n",
    "type(mediaPD)\n",
    "\n",
    "print(media,mediaST,mediaPD[0])"
   ]
  },
  {
   "cell_type": "code",
   "execution_count": 11,
   "metadata": {},
   "outputs": [
    {
     "name": "stdout",
     "output_type": "stream",
     "text": [
      "5.5 5.5 0    5.5\n",
      "dtype: float64\n",
      "5.5 5.5 5.5\n"
     ]
    }
   ],
   "source": [
    "print(media, mediaST, mediaPD)\n",
    "type(media)\n",
    "type(mediaPD)\n",
    "print(media, mediaST, mediaPD[0])"
   ]
  },
  {
   "cell_type": "markdown",
   "metadata": {
    "application/vnd.databricks.v1+cell": {
     "cellMetadata": {
      "byteLimit": 2048000,
      "rowLimit": 10000
     },
     "inputWidgets": {},
     "nuid": "924da00e-e9d4-4131-ba9a-d79d12afb199",
     "showTitle": false,
     "title": ""
    }
   },
   "source": [
    "## Mediana (Percentil 50)\n",
    "Valor tal que la mitad del número de datos se encuentra por encima y la otra mitad por debajo de dicho valor."
   ]
  },
  {
   "cell_type": "markdown",
   "metadata": {
    "application/vnd.databricks.v1+cell": {
     "cellMetadata": {
      "byteLimit": 2048000,
      "rowLimit": 10000
     },
     "inputWidgets": {},
     "nuid": "c8565e25-390d-4360-b87e-48c11966e497",
     "showTitle": false,
     "title": ""
    }
   },
   "source": [
    "mediana=np.median(edades)\n",
    "\n",
    "medianaST=stat.median(edades)\n",
    "\n",
    "df_edades=pd.DataFrame(edades)\n",
    "\n",
    "medianaPD=df_edades.median()\n",
    "\n",
    "print(mediana,medianaST,medianaPD[0])"
   ]
  },
  {
   "cell_type": "code",
   "execution_count": 12,
   "metadata": {
    "application/vnd.databricks.v1+cell": {
     "cellMetadata": {
      "byteLimit": 2048000,
      "rowLimit": 10000
     },
     "inputWidgets": {},
     "nuid": "8faccda0-f357-4c52-b07a-cb1d7c0ebc04",
     "showTitle": false,
     "title": ""
    }
   },
   "outputs": [
    {
     "name": "stdout",
     "output_type": "stream",
     "text": [
      "22.0 22 22.0\n"
     ]
    }
   ],
   "source": [
    "mediana=np.median(edades)\n",
    "\n",
    "medianaST=stat.median(edades)\n",
    "\n",
    "df_edades=pd.DataFrame(edades)\n",
    "\n",
    "medianaPD=df_edades.median()\n",
    "\n",
    "print(mediana,medianaST,medianaPD[0])\n"
   ]
  },
  {
   "cell_type": "markdown",
   "metadata": {
    "application/vnd.databricks.v1+cell": {
     "cellMetadata": {
      "byteLimit": 2048000,
      "rowLimit": 10000
     },
     "inputWidgets": {},
     "nuid": "f3d2d37e-0e8c-47a3-8b91-5ebbd780d86d",
     "showTitle": false,
     "title": ""
    }
   },
   "source": [
    "## Histograma\n",
    "\n",
    "Diagrama de la tabla de frecuencias con los contenedores o intervalos en el eje X y el recuento (o proporción) en el eje Y. Aunque los gráficos de barras son visualmente similares, no deben confundirse con los histogramas."
   ]
  },
  {
   "cell_type": "markdown",
   "metadata": {
    "application/vnd.databricks.v1+cell": {
     "cellMetadata": {
      "byteLimit": 2048000,
      "rowLimit": 10000
     },
     "inputWidgets": {},
     "nuid": "76803a5d-4e4c-4dab-9b47-69868b6e7819",
     "showTitle": false,
     "title": ""
    }
   },
   "source": [
    "# Matplotlib\n",
    "# https://matplotlib.org\n",
    "\n",
    "datos=[1,2,3,4,4,4,5,6,7,8,9,10,10]\n",
    "\n",
    "plt.hist(datos,color=\"pink\",ec=\"white\")\n",
    "\n",
    "plt.title(\"Histograma\")\n",
    "\n",
    "plt.xlabel(\"Numeros\")\n",
    "\n",
    "plt.ylabel(\"count\")\n",
    "\n",
    "plt.show()\n",
    "\n",
    "plt.hist(edades)\n",
    "\n",
    "plt.show()\n"
   ]
  },
  {
   "cell_type": "code",
   "execution_count": 13,
   "metadata": {},
   "outputs": [
    {
     "data": {
      "image/png": "[encoded data removed]",
      "text/plain": [
       "<Figure size 640x480 with 1 Axes>"
      ]
     },
     "metadata": {},
     "output_type": "display_data"
    },
    {
     "data": {
      "image/png": "[encoded data removed]",
      "text/plain": [
       "<Figure size 640x480 with 1 Axes>"
      ]
     },
     "metadata": {},
     "output_type": "display_data"
    }
   ],
   "source": [
    "datos=[1,2,3,4,4,4,5,6,7,8,9,10,10]\n",
    "\n",
    "plt.hist(datos,color=\"pink\",ec=\"white\")\n",
    "\n",
    "plt.title(\"Histograma\")\n",
    "\n",
    "plt.xlabel(\"Numeros\")\n",
    "\n",
    "plt.ylabel(\"count\")\n",
    "\n",
    "plt.show()\n",
    "\n",
    "plt.hist(edades, color=\"black\", ec= \"white\")\n",
    "\n",
    "plt.show()"
   ]
  },
  {
   "cell_type": "markdown",
   "metadata": {
    "application/vnd.databricks.v1+cell": {
     "cellMetadata": {
      "byteLimit": 2048000,
      "rowLimit": 10000
     },
     "inputWidgets": {},
     "nuid": "043d1463-a568-455c-9ec8-271cd705905a",
     "showTitle": false,
     "title": ""
    }
   },
   "source": [
    "# Seabord\n",
    "# https://seaborn.pydata.org\n",
    "\n",
    "import seaborn as sns\n",
    "\n",
    "sns.histplot(datos)\n",
    "\n",
    "sns.histplot(df_edades)\n"
   ]
  },
  {
   "cell_type": "code",
   "execution_count": null,
   "metadata": {},
   "outputs": [],
   "source": []
  },
  {
   "cell_type": "markdown",
   "metadata": {
    "application/vnd.databricks.v1+cell": {
     "cellMetadata": {
      "byteLimit": 2048000,
      "rowLimit": 10000
     },
     "inputWidgets": {},
     "nuid": "cd1bd316-47c4-41a5-b76e-123563f889d7",
     "showTitle": false,
     "title": ""
    }
   },
   "source": [
    "\n",
    "df_edades.columns\n",
    "\n",
    "df_edades.columns=[\"Edades\"]\n",
    "\n",
    "sns.histplot(df_edades,y=\"Edades\")\n",
    "\n"
   ]
  },
  {
   "cell_type": "code",
   "execution_count": null,
   "metadata": {
    "application/vnd.databricks.v1+cell": {
     "cellMetadata": {
      "byteLimit": 2048000,
      "rowLimit": 10000
     },
     "inputWidgets": {},
     "nuid": "512105e3-35c2-41e7-adce-9fda8c924e43",
     "showTitle": false,
     "title": ""
    }
   },
   "outputs": [],
   "source": []
  },
  {
   "cell_type": "markdown",
   "metadata": {
    "application/vnd.databricks.v1+cell": {
     "cellMetadata": {
      "byteLimit": 2048000,
      "rowLimit": 10000
     },
     "inputWidgets": {},
     "nuid": "3b6d28f9-289f-4a1d-ada0-d5d63b3442cd",
     "showTitle": false,
     "title": ""
    }
   },
   "source": [
    "## Media recortada (Media Truncada)\n",
    "El promedio de todos los valores después de eliminar un número fijo de valores extremos.\n",
    "\n",
    "######Robusto (Resistente)\n",
    "Insensible a valores extremos."
   ]
  },
  {
   "cell_type": "markdown",
   "metadata": {
    "application/vnd.databricks.v1+cell": {
     "cellMetadata": {
      "byteLimit": 2048000,
      "rowLimit": 10000
     },
     "inputWidgets": {},
     "nuid": "326ba573-793a-4ff0-b36c-c205e45335a6",
     "showTitle": false,
     "title": ""
    }
   },
   "source": [
    "import scipy as sci\n",
    "\n",
    "media_trim=sci.stats.trim_mean(datos,0.1)\n",
    "\n",
    "print(media_trim)\n"
   ]
  },
  {
   "cell_type": "code",
   "execution_count": null,
   "metadata": {},
   "outputs": [],
   "source": []
  },
  {
   "cell_type": "markdown",
   "metadata": {
    "application/vnd.databricks.v1+cell": {
     "cellMetadata": {
      "byteLimit": 2048000,
      "rowLimit": 10000
     },
     "inputWidgets": {},
     "nuid": "d1558aaf-65b4-4488-8481-3dda97465887",
     "showTitle": false,
     "title": ""
    }
   },
   "source": [
    "## Percentil (cuantil o Quantil)\n",
    "Valor tal que el P por ciento de los datos se encuentra por debajo del mismo."
   ]
  },
  {
   "cell_type": "markdown",
   "metadata": {
    "application/vnd.databricks.v1+cell": {
     "cellMetadata": {
      "byteLimit": 2048000,
      "rowLimit": 10000
     },
     "inputWidgets": {},
     "nuid": "106c366e-613b-4bda-a61b-c2e5e2469f36",
     "showTitle": false,
     "title": ""
    }
   },
   "source": [
    "percentil50=stat.quantiles(datos,n=2)\n",
    "\n",
    "percentil50\n",
    "\n",
    "\n",
    "percentilNP=np.percentile(datos,50)\n",
    "\n",
    "percentilPD=df_datos.quantile(q=0.5)\n",
    "\n",
    "print(percentil50,percentilNP,percentilPD)\n"
   ]
  },
  {
   "cell_type": "code",
   "execution_count": null,
   "metadata": {
    "application/vnd.databricks.v1+cell": {
     "cellMetadata": {
      "byteLimit": 2048000,
      "rowLimit": 10000
     },
     "inputWidgets": {},
     "nuid": "e894f0b2-83b0-4922-95fa-594445ee9ca5",
     "showTitle": false,
     "title": ""
    }
   },
   "outputs": [],
   "source": []
  },
  {
   "cell_type": "markdown",
   "metadata": {
    "application/vnd.databricks.v1+cell": {
     "cellMetadata": {
      "byteLimit": 2048000,
      "rowLimit": 10000
     },
     "inputWidgets": {},
     "nuid": "b2b7565c-1ba9-4510-8763-942424c29d3e",
     "showTitle": false,
     "title": ""
    }
   },
   "source": [
    "### Rango intercuartil (IQR)\n",
    "Diferencia entre el percentil 75 y el percentil 25."
   ]
  },
  {
   "cell_type": "markdown",
   "metadata": {
    "application/vnd.databricks.v1+cell": {
     "cellMetadata": {
      "byteLimit": 2048000,
      "rowLimit": 10000
     },
     "inputWidgets": {},
     "nuid": "3ef50e77-1954-46b2-9463-f4c9bd0f8cd7",
     "showTitle": false,
     "title": ""
    }
   },
   "source": [
    "q75,q25=np.percentile(edades,[75,25])\n",
    "\n",
    "irq = q75-q25\n",
    "\n",
    "irq\n"
   ]
  },
  {
   "cell_type": "code",
   "execution_count": null,
   "metadata": {
    "application/vnd.databricks.v1+cell": {
     "cellMetadata": {
      "byteLimit": 2048000,
      "rowLimit": 10000
     },
     "inputWidgets": {},
     "nuid": "9601a3db-4feb-40b9-9c8d-3002d30cd7c4",
     "showTitle": false,
     "title": ""
    }
   },
   "outputs": [],
   "source": []
  },
  {
   "cell_type": "markdown",
   "metadata": {
    "application/vnd.databricks.v1+cell": {
     "cellMetadata": {
      "byteLimit": 2048000,
      "rowLimit": 10000
     },
     "inputWidgets": {},
     "nuid": "ba1cc3ba-37f6-4834-8fda-2767d7746b03",
     "showTitle": false,
     "title": ""
    }
   },
   "source": [
    "## Desviaciones (errores, residuales)\n",
    "Diferencias entre los valores observados y la estimación de la localización."
   ]
  },
  {
   "cell_type": "markdown",
   "metadata": {
    "application/vnd.databricks.v1+cell": {
     "cellMetadata": {
      "byteLimit": 2048000,
      "rowLimit": 10000
     },
     "inputWidgets": {},
     "nuid": "8b536c38-d1dc-4e4f-a8f0-67b1dd403953",
     "showTitle": false,
     "title": ""
    }
   },
   "source": [
    "## Diagrama de dispersión\n",
    "Diagrama en el que el eje x es el valor de una variable y el eje y es el valor de otra.\n",
    "Consideremos estas dos variables, perfectamente correlacionadas en el sentido de que cada una va de menor a mayor:"
   ]
  },
  {
   "cell_type": "markdown",
   "metadata": {
    "application/vnd.databricks.v1+cell": {
     "cellMetadata": {
      "byteLimit": 2048000,
      "rowLimit": 10000
     },
     "inputWidgets": {},
     "nuid": "5bcd0d33-0647-4e89-b706-ec17f8bbe290",
     "showTitle": false,
     "title": ""
    }
   },
   "source": [
    "\n",
    "indeces=np.arange(11)\n",
    "\n",
    "plt.scatter(indeces,edades)\n",
    "\n",
    "plt.grid(axis='y')\n",
    "\n",
    "plt.show()"
   ]
  },
  {
   "cell_type": "code",
   "execution_count": null,
   "metadata": {},
   "outputs": [],
   "source": []
  },
  {
   "cell_type": "markdown",
   "metadata": {
    "application/vnd.databricks.v1+cell": {
     "cellMetadata": {
      "byteLimit": 2048000,
      "rowLimit": 10000
     },
     "inputWidgets": {},
     "nuid": "6776effb-23f3-4ad4-8a30-63936c8c11c4",
     "showTitle": false,
     "title": ""
    }
   },
   "source": [
    "x=np.random.randn(100)\n",
    "\n",
    "y=np.random.randn(100)\n",
    "\n",
    "\n",
    "plt.plot(x,y,'o',color='blue')\n",
    "\n",
    "plt.show()"
   ]
  },
  {
   "cell_type": "code",
   "execution_count": null,
   "metadata": {},
   "outputs": [],
   "source": []
  },
  {
   "cell_type": "markdown",
   "metadata": {
    "application/vnd.databricks.v1+cell": {
     "cellMetadata": {
      "byteLimit": 2048000,
      "rowLimit": 10000
     },
     "inputWidgets": {},
     "nuid": "6509a149-95c4-4444-9de0-59e88fbed3e6",
     "showTitle": false,
     "title": ""
    }
   },
   "source": [
    "x=np.random.randn(100)\n",
    "\n",
    "y=np.random.randn(100)\n",
    "\n",
    "z=np.random.randn(100)\n",
    "\n",
    "plt.plot(x,y,'o')\n",
    "\n",
    "plt.plot(x,z,'o')\n",
    "\n",
    "plt.show()"
   ]
  },
  {
   "cell_type": "code",
   "execution_count": null,
   "metadata": {},
   "outputs": [],
   "source": []
  },
  {
   "cell_type": "markdown",
   "metadata": {
    "application/vnd.databricks.v1+cell": {
     "cellMetadata": {
      "byteLimit": 2048000,
      "rowLimit": 10000
     },
     "inputWidgets": {},
     "nuid": "3a1ee605-6189-4b88-b84a-b508c6f5f526",
     "showTitle": false,
     "title": ""
    }
   },
   "source": [
    "x=np.random.randn(100)\n",
    "\n",
    "y=np.random.randn(100)\n",
    "\n",
    "z=np.random.randn(100)\n",
    "\n",
    "plt.scatter(x,y,marker='o',c='red')\n",
    "\n",
    "plt.scatter(x,z,marker='^',c='pink')\n",
    "\n",
    "plt.grid()\n",
    "\n",
    "plt.show()"
   ]
  },
  {
   "cell_type": "code",
   "execution_count": null,
   "metadata": {},
   "outputs": [],
   "source": []
  },
  {
   "cell_type": "markdown",
   "metadata": {
    "application/vnd.databricks.v1+cell": {
     "cellMetadata": {
      "byteLimit": 2048000,
      "rowLimit": 10000
     },
     "inputWidgets": {},
     "nuid": "284b91b2-2ab0-4487-9a9f-43599c7b6700",
     "showTitle": false,
     "title": ""
    }
   },
   "source": [
    "x=np.random.randn(100)\n",
    "\n",
    "y=np.random.randn(100)\n",
    "\n",
    "z=np.random.randn(100)\n",
    "\n",
    "colores=np.random.randint(100,size=(100))\n",
    "\n",
    "plt.scatter(x,y,marker='o',c=colores,cmap='viridis')\n",
    "\n",
    "plt.scatter(x,z,marker='^',c=colores,cmap='viridis')\n",
    "\n",
    "plt.colorbar()\n",
    "\n",
    "plt.show()"
   ]
  },
  {
   "cell_type": "code",
   "execution_count": null,
   "metadata": {},
   "outputs": [],
   "source": []
  },
  {
   "cell_type": "markdown",
   "metadata": {
    "application/vnd.databricks.v1+cell": {
     "cellMetadata": {
      "byteLimit": 2048000,
      "rowLimit": 10000
     },
     "inputWidgets": {},
     "nuid": "a9c76340-114e-40d5-9c76-9543cac5a4fd",
     "showTitle": false,
     "title": ""
    }
   },
   "source": [
    "x=np.random.randn(100)\n",
    "\n",
    "y=np.random.randn(100)\n",
    "\n",
    "z=np.random.randn(100)\n",
    "\n",
    "colores=np.random.randint(100,size=(100))\n",
    "\n",
    "tam=5*np.random.randint(100,size=(100))\n",
    "\n",
    "plt.scatter(x,y,marker='o',c=colores,cmap='viridis',s=tam)\n",
    "\n",
    "plt.scatter(x,z,marker='^',c=colores,cmap='viridis',s=tam)\n",
    "\n",
    "plt.colorbar()\n",
    "\n",
    "plt.show()"
   ]
  },
  {
   "cell_type": "code",
   "execution_count": null,
   "metadata": {},
   "outputs": [],
   "source": []
  },
  {
   "cell_type": "markdown",
   "metadata": {
    "application/vnd.databricks.v1+cell": {
     "cellMetadata": {
      "byteLimit": 2048000,
      "rowLimit": 10000
     },
     "inputWidgets": {},
     "nuid": "8eb0e86a-c06b-408a-bd35-a9acdc64d58f",
     "showTitle": false,
     "title": ""
    }
   },
   "source": [
    "\n",
    "x=np.random.randn(100)\n",
    "\n",
    "y=np.random.randn(100)\n",
    "\n",
    "z=np.random.randn(100)\n",
    "\n",
    "colores=np.random.randint(100,size=(100))\n",
    "\n",
    "tam=5*np.random.randint(100,size=(100))\n",
    "\n",
    "plt.scatter(x,y,marker='o',c=colores,cmap='viridis',s=tam,alpha=0.5)\n",
    "\n",
    "plt.scatter(x,z,marker='^',c=colores,cmap='viridis',s=tam,alpha=0.5)\n",
    "\n",
    "plt.colorbar()\n",
    "\n",
    "plt.show()"
   ]
  },
  {
   "cell_type": "code",
   "execution_count": null,
   "metadata": {
    "application/vnd.databricks.v1+cell": {
     "cellMetadata": {
      "byteLimit": 2048000,
      "rowLimit": 10000
     },
     "inputWidgets": {},
     "nuid": "0db64f3c-df06-47b2-9343-2206f875f30b",
     "showTitle": false,
     "title": ""
    }
   },
   "outputs": [],
   "source": []
  },
  {
   "cell_type": "code",
   "execution_count": null,
   "metadata": {
    "application/vnd.databricks.v1+cell": {
     "cellMetadata": {
      "byteLimit": 2048000,
      "rowLimit": 10000
     },
     "inputWidgets": {},
     "nuid": "eb1981a8-977d-421b-bd9d-f26485b0c3c2",
     "showTitle": false,
     "title": ""
    }
   },
   "outputs": [],
   "source": []
  },
  {
   "cell_type": "markdown",
   "metadata": {
    "application/vnd.databricks.v1+cell": {
     "cellMetadata": {
      "byteLimit": 2048000,
      "rowLimit": 10000
     },
     "inputWidgets": {},
     "nuid": "682b3eb7-ef31-452c-9fa9-0323ddb4d4fd",
     "showTitle": false,
     "title": ""
    }
   },
   "source": [
    "## Varianza (error cuadrático medio)\n",
    "Suma de los cuadrados de las desviaciones de la media al cuadrado y dividida por n-1, donde n es el número de valores de datos.\n",
    "La varianza es una medida de la variabilidad (o dispersión) de los datos. Una alta varianza indica una amplia dispersión de valores; una varianza baja indica que los valores están agrupados alrededor de la media."
   ]
  },
  {
   "cell_type": "markdown",
   "metadata": {
    "application/vnd.databricks.v1+cell": {
     "cellMetadata": {
      "byteLimit": 2048000,
      "rowLimit": 10000
     },
     "inputWidgets": {},
     "nuid": "0c12b6f9-86f8-477a-a564-7aa6e89e65aa",
     "showTitle": false,
     "title": ""
    }
   },
   "source": [
    "varST=stat.pvariance(edades)\n",
    "\n",
    "varNP=np.var(edades)\n",
    "\n",
    "varPD=df_edades.var()\n",
    "\n",
    "print(varST,varNP,varPD)\n"
   ]
  },
  {
   "cell_type": "code",
   "execution_count": null,
   "metadata": {},
   "outputs": [],
   "source": []
  },
  {
   "cell_type": "markdown",
   "metadata": {
    "application/vnd.databricks.v1+cell": {
     "cellMetadata": {
      "byteLimit": 2048000,
      "rowLimit": 10000
     },
     "inputWidgets": {},
     "nuid": "ebfea255-a14f-451a-a313-fcf7c9594c3b",
     "showTitle": false,
     "title": ""
    }
   },
   "source": [
    "poblacion = np.random.randint(100,size=(10000000))\n",
    "\n",
    "varST=stat.variance(poblacion)\n",
    "\n",
    "varNP=np.var(poblacion)\n",
    "\n",
    "varPD=pd.DataFrame(poblacion).var()\n",
    "\n",
    "print(varST,varNP,varPD)\n"
   ]
  },
  {
   "cell_type": "code",
   "execution_count": null,
   "metadata": {},
   "outputs": [],
   "source": []
  },
  {
   "cell_type": "markdown",
   "metadata": {
    "application/vnd.databricks.v1+cell": {
     "cellMetadata": {
      "byteLimit": 2048000,
      "rowLimit": 10000
     },
     "inputWidgets": {},
     "nuid": "d8bf0614-8871-4d77-9d78-b6864d88ff9c",
     "showTitle": false,
     "title": ""
    }
   },
   "source": [
    "## Desviación estándar\n",
    "Raíz cuadrada de la varianza."
   ]
  },
  {
   "cell_type": "markdown",
   "metadata": {
    "application/vnd.databricks.v1+cell": {
     "cellMetadata": {
      "byteLimit": 2048000,
      "rowLimit": 10000
     },
     "inputWidgets": {},
     "nuid": "2d11fb07-a8c1-432a-b8ec-5241233759c4",
     "showTitle": false,
     "title": ""
    }
   },
   "source": [
    "desST=stat.stdev(edades)\n",
    "\n",
    "desNP=np.std(edades)\n",
    "\n",
    "desPD=pd.DataFrame(edades).std()\n",
    "\n",
    "print(desST,desNP,desPD)"
   ]
  },
  {
   "cell_type": "code",
   "execution_count": null,
   "metadata": {
    "application/vnd.databricks.v1+cell": {
     "cellMetadata": {
      "byteLimit": 2048000,
      "rowLimit": 10000
     },
     "inputWidgets": {},
     "nuid": "bec488fd-a62b-49d8-a509-f99c5ed7ae6b",
     "showTitle": false,
     "title": ""
    }
   },
   "outputs": [],
   "source": []
  },
  {
   "cell_type": "markdown",
   "metadata": {
    "application/vnd.databricks.v1+cell": {
     "cellMetadata": {
      "byteLimit": 2048000,
      "rowLimit": 10000
     },
     "inputWidgets": {},
     "nuid": "0dd32f03-2c0e-4155-b37a-8a43d988ce77",
     "showTitle": false,
     "title": ""
    }
   },
   "source": [
    "## Diagrama de caja (diagrama de caja y bigotes)\n",
    "Diagrama presentado por Tukey para visualizar de forma rápida la distribución de datos."
   ]
  },
  {
   "cell_type": "markdown",
   "metadata": {
    "application/vnd.databricks.v1+cell": {
     "cellMetadata": {
      "byteLimit": 2048000,
      "rowLimit": 10000
     },
     "inputWidgets": {},
     "nuid": "7accf185-6468-4806-81c3-fd9d2e28e6b9",
     "showTitle": false,
     "title": ""
    }
   },
   "source": [
    "plt.grid()\n",
    "\n",
    "plt.yticks(np.arange(0,110,5))\n",
    "\n",
    "plt.boxplot(edades)\n",
    "\n",
    "plt.show()"
   ]
  },
  {
   "cell_type": "code",
   "execution_count": null,
   "metadata": {},
   "outputs": [],
   "source": []
  },
  {
   "cell_type": "markdown",
   "metadata": {
    "application/vnd.databricks.v1+cell": {
     "cellMetadata": {
      "byteLimit": 2048000,
      "rowLimit": 10000
     },
     "inputWidgets": {},
     "nuid": "4a1e9925-3426-476d-aa23-fc1ffe82b516",
     "showTitle": false,
     "title": ""
    }
   },
   "source": [
    "plt.grid()\n",
    "\n",
    "plt.yticks(np.arange(0,110,5))\n",
    "\n",
    "plt.boxplot(calificaciones)\n",
    "\n",
    "plt.show()"
   ]
  },
  {
   "cell_type": "code",
   "execution_count": null,
   "metadata": {},
   "outputs": [],
   "source": []
  },
  {
   "cell_type": "markdown",
   "metadata": {
    "application/vnd.databricks.v1+cell": {
     "cellMetadata": {
      "byteLimit": 2048000,
      "rowLimit": 10000
     },
     "inputWidgets": {},
     "nuid": "b1f43157-cb9d-4885-9558-e66e04082794",
     "showTitle": false,
     "title": ""
    }
   },
   "source": [
    "sns.boxplot(x=df_edades[\"Edades\"])"
   ]
  },
  {
   "cell_type": "code",
   "execution_count": null,
   "metadata": {},
   "outputs": [],
   "source": []
  },
  {
   "cell_type": "markdown",
   "metadata": {
    "application/vnd.databricks.v1+cell": {
     "cellMetadata": {
      "byteLimit": 2048000,
      "rowLimit": 10000
     },
     "inputWidgets": {},
     "nuid": "fa494d8d-ce2e-4285-ae8f-952fff365bbb",
     "showTitle": false,
     "title": ""
    }
   },
   "source": [
    "import plotly.express as px\n",
    "\n",
    "fig=px.box(df_edades,y=\"Edades\")\n",
    "\n",
    "fig.show()"
   ]
  },
  {
   "cell_type": "code",
   "execution_count": null,
   "metadata": {
    "application/vnd.databricks.v1+cell": {
     "cellMetadata": {
      "byteLimit": 2048000,
      "rowLimit": 10000
     },
     "inputWidgets": {},
     "nuid": "6edbfc19-f2b4-4c9f-b583-91c1282223e5",
     "showTitle": false,
     "title": ""
    }
   },
   "outputs": [],
   "source": []
  },
  {
   "cell_type": "markdown",
   "metadata": {
    "application/vnd.databricks.v1+cell": {
     "cellMetadata": {
      "byteLimit": 2048000,
      "rowLimit": 10000
     },
     "inputWidgets": {},
     "nuid": "5fda51be-d28a-42f3-9d06-679ce9bab07c",
     "showTitle": false,
     "title": ""
    }
   },
   "source": [
    "## Coeficiente de correlación\n",
    "Métrica que mide el grado en que las variables numéricas están asociadas entre si (varía de -1 a +1)."
   ]
  },
  {
   "cell_type": "markdown",
   "metadata": {},
   "source": [
    "import  matplotlib.pyplot as plt\n",
    "\n",
    "import numpy as np\n",
    "\n",
    "import pandas as pd\n",
    "\n",
    "import seaborn as sns\n",
    "\n",
    "import plotly.express as px\n",
    "\n",
    "import scipy as stat\n"
   ]
  },
  {
   "cell_type": "markdown",
   "metadata": {},
   "source": [
    "leer el archivo\n",
    "personas = pd.read_csv(\"personas.csv\")"
   ]
  },
  {
   "cell_type": "code",
   "execution_count": null,
   "metadata": {
    "application/vnd.databricks.v1+cell": {
     "cellMetadata": {
      "byteLimit": 2048000,
      "rowLimit": 10000
     },
     "inputWidgets": {},
     "nuid": "0bacbcf0-164b-4a6c-8d57-2b5ff196469d",
     "showTitle": false,
     "title": ""
    }
   },
   "outputs": [],
   "source": []
  },
  {
   "cell_type": "markdown",
   "metadata": {},
   "source": [
    "type(db_personas)"
   ]
  },
  {
   "cell_type": "code",
   "execution_count": null,
   "metadata": {
    "application/vnd.databricks.v1+cell": {
     "cellMetadata": {
      "byteLimit": 2048000,
      "rowLimit": 10000
     },
     "inputWidgets": {},
     "nuid": "b1036332-c614-404a-b64f-406d4747ad11",
     "showTitle": false,
     "title": ""
    }
   },
   "outputs": [],
   "source": []
  },
  {
   "cell_type": "markdown",
   "metadata": {
    "application/vnd.databricks.v1+cell": {
     "cellMetadata": {
      "byteLimit": 2048000,
      "rowLimit": 10000
     },
     "inputWidgets": {},
     "nuid": "2b659fd2-25c3-4c5d-b7e0-b66b4965f52f",
     "showTitle": false,
     "title": ""
    }
   },
   "source": [
    "## Matriz de correlación\n",
    "Tabla en la que las variables se muestran tanto en filas como en columnas, y los valores de las celdas son las correlaciones entre las variables."
   ]
  },
  {
   "cell_type": "markdown",
   "metadata": {
    "application/vnd.databricks.v1+cell": {
     "cellMetadata": {
      "byteLimit": 2048000,
      "rowLimit": 10000
     },
     "inputWidgets": {},
     "nuid": "831be8ac-088c-4e84-8775-ac4472e17d05",
     "showTitle": false,
     "title": ""
    }
   },
   "source": [
    "### Relacion  Altura - Peso"
   ]
  },
  {
   "cell_type": "markdown",
   "metadata": {},
   "source": [
    "plt.scatter(df_personas[\"altura\"],df_personas[\"peso\"])\n",
    "\n",
    "plt.xlabel(\"Altura cm.\")\n",
    "\n",
    "plt.ylabel(\"Peso Kg.\")\n",
    "\n",
    "plt.show()\n",
    "\n",
    "corNP=np.corrcoef(df_personas[\"altura\"],df_personas[\"peso\"])\n",
    "\n",
    "print(corNP)\n",
    "\n",
    "corSci=stat.stats.pearsonr(df_personas[\"altura\"],df_personas[\"peso\"])\n",
    "\n",
    "print(corSci)"
   ]
  },
  {
   "cell_type": "code",
   "execution_count": null,
   "metadata": {
    "application/vnd.databricks.v1+cell": {
     "cellMetadata": {
      "byteLimit": 2048000,
      "rowLimit": 10000
     },
     "inputWidgets": {},
     "nuid": "c7e1bac3-e8f7-43b5-8c0c-712f4f4929bc",
     "showTitle": false,
     "title": ""
    }
   },
   "outputs": [],
   "source": []
  },
  {
   "cell_type": "markdown",
   "metadata": {
    "application/vnd.databricks.v1+cell": {
     "cellMetadata": {
      "byteLimit": 2048000,
      "rowLimit": 10000
     },
     "inputWidgets": {},
     "nuid": "ec02c454-a465-45b5-a70c-0a571582b3c8",
     "showTitle": false,
     "title": ""
    }
   },
   "source": [
    "### Ingresos - Horas Trabajo"
   ]
  },
  {
   "cell_type": "markdown",
   "metadata": {},
   "source": [
    "plt.scatter(df_personas[\"ingreso\"],df_personas[\"horas_trabajadas\"])\n",
    "\n",
    "plt.xlabel(\"Ingresos $us\")\n",
    "\n",
    "plt.ylabel(\"Horas (hrs.)\")\n",
    "\n",
    "plt.show()\n",
    "\n",
    "corNP=np.corrcoef(df_personas[\"ingreso\"],df_personas[\"horas_trabajadas\"])\n",
    "\n",
    "print(corNP)\n",
    "\n",
    "corSci=stat.stats.pearsonr(df_personas[\"ingreso\"],df_personas[\"horas_trabajadas\"])\n",
    "\n",
    "print(corSci)"
   ]
  },
  {
   "cell_type": "code",
   "execution_count": null,
   "metadata": {
    "application/vnd.databricks.v1+cell": {
     "cellMetadata": {
      "byteLimit": 2048000,
      "rowLimit": 10000
     },
     "inputWidgets": {},
     "nuid": "5a2ebea7-b131-4d8e-a5bb-24e985dceafd",
     "showTitle": false,
     "title": ""
    }
   },
   "outputs": [],
   "source": []
  },
  {
   "cell_type": "markdown",
   "metadata": {
    "application/vnd.databricks.v1+cell": {
     "cellMetadata": {
      "byteLimit": 2048000,
      "rowLimit": 10000
     },
     "inputWidgets": {},
     "nuid": "95990f64-b0b8-43e8-a830-520930e33186",
     "showTitle": false,
     "title": ""
    }
   },
   "source": [
    "### Ingresos - Ausencias"
   ]
  },
  {
   "cell_type": "markdown",
   "metadata": {},
   "source": [
    "plt.scatter(df_personas[\"ingreso\"],df_personas[\"ausencias\"])\n",
    "\n",
    "plt.xlabel(\"Ingresos $us\")\n",
    "\n",
    "plt.ylabel(\"Ausencias\")\n",
    "\n",
    "plt.show()\n",
    "\n",
    "corNP=np.corrcoef(df_personas[\"ingreso\"],df_personas[\"ausencias\"])\n",
    "\n",
    "print(corNP)\n",
    "\n",
    "corSci=stat.stats.pearsonr(df_personas[\"ingreso\"],df_personas[\"ausencias\"])\n",
    "\n",
    "print(corSci)\n",
    "\n",
    "corSP=stat.stats.spearmanr(df_personas[\"ingreso\"],df_personas[\"ausencias\"])\n",
    "\n",
    "print(corSP)\n",
    "\n",
    "corKen= stat.stats.kendalltau(df_personas[\"ingreso\"],df_personas[\"ausencias\"])\n",
    "\n",
    "print(corKen)"
   ]
  },
  {
   "cell_type": "code",
   "execution_count": null,
   "metadata": {
    "application/vnd.databricks.v1+cell": {
     "cellMetadata": {
      "byteLimit": 2048000,
      "rowLimit": 10000
     },
     "inputWidgets": {},
     "nuid": "9fa8690e-557f-41ee-b98e-1a7aa9a698b1",
     "showTitle": false,
     "title": ""
    }
   },
   "outputs": [],
   "source": []
  },
  {
   "cell_type": "markdown",
   "metadata": {
    "application/vnd.databricks.v1+cell": {
     "cellMetadata": {
      "byteLimit": 2048000,
      "rowLimit": 10000
     },
     "inputWidgets": {},
     "nuid": "7f9f4422-64ac-4755-8be0-8ee17479be48",
     "showTitle": false,
     "title": ""
    }
   },
   "source": [
    "### Ingresos -  Peso"
   ]
  },
  {
   "cell_type": "markdown",
   "metadata": {},
   "source": [
    "plt.scatter(df_personas[\"ingreso\"],df_personas[\"peso\"])\n",
    "\n",
    "plt.xlabel(\"Ingresos $us\")\n",
    "\n",
    "plt.ylabel(\"Peso Kg.\")\n",
    "\n",
    "plt.show()\n",
    "\n",
    "corNP=np.corrcoef(df_personas[\"ingreso\"],df_personas[\"peso\"])\n",
    "\n",
    "print(corNP)\n",
    "\n",
    "corSci=stat.stats.pearsonr(df_personas[\"ingreso\"],df_personas[\"peso\"])\n",
    "\n",
    "print(corSci)\n",
    "\n",
    "corSP=stat.stats.spearmanr(df_personas[\"ingreso\"],df_personas[\"peso\"])\n",
    "\n",
    "print(corSP)\n",
    "\n",
    "corKen= stat.stats.kendalltau(df_personas[\"ingreso\"],df_personas[\"peso\"])\n",
    "\n",
    "print(corKen)"
   ]
  },
  {
   "cell_type": "code",
   "execution_count": null,
   "metadata": {},
   "outputs": [],
   "source": []
  },
  {
   "cell_type": "markdown",
   "metadata": {},
   "source": [
    "matriz=df_personas.corr()\n",
    "\n",
    "matriz"
   ]
  },
  {
   "cell_type": "code",
   "execution_count": null,
   "metadata": {
    "application/vnd.databricks.v1+cell": {
     "cellMetadata": {
      "byteLimit": 2048000,
      "rowLimit": 10000
     },
     "inputWidgets": {},
     "nuid": "2fcf559e-2819-4296-b057-18a6358e325b",
     "showTitle": false,
     "title": ""
    }
   },
   "outputs": [],
   "source": []
  },
  {
   "cell_type": "markdown",
   "metadata": {
    "application/vnd.databricks.v1+cell": {
     "cellMetadata": {
      "byteLimit": 2048000,
      "rowLimit": 10000
     },
     "inputWidgets": {},
     "nuid": "bdb50c98-fd9b-4de3-8897-13cc4025ff63",
     "showTitle": false,
     "title": ""
    }
   },
   "source": [
    "matriz.style.background_gradient(cmap='coolwarm')"
   ]
  },
  {
   "cell_type": "code",
   "execution_count": null,
   "metadata": {
    "application/vnd.databricks.v1+cell": {
     "cellMetadata": {
      "byteLimit": 2048000,
      "rowLimit": 10000
     },
     "inputWidgets": {},
     "nuid": "4531bf4c-028c-4677-b998-4cacc4676e2e",
     "showTitle": false,
     "title": ""
    }
   },
   "outputs": [],
   "source": []
  },
  {
   "cell_type": "markdown",
   "metadata": {
    "application/vnd.databricks.v1+cell": {
     "cellMetadata": {
      "byteLimit": 2048000,
      "rowLimit": 10000
     },
     "inputWidgets": {},
     "nuid": "a867261e-9225-4ebf-8786-108c5eee134f",
     "showTitle": false,
     "title": ""
    }
   },
   "source": [
    "g=pd.plotting.scatter_matrix(df_personas,figsize=(10,10),marker='o',hist_kwds={'bins':10},s=60,alpha=0.8)\n",
    "\n",
    "plt.show()"
   ]
  },
  {
   "cell_type": "code",
   "execution_count": null,
   "metadata": {
    "application/vnd.databricks.v1+cell": {
     "cellMetadata": {
      "byteLimit": 2048000,
      "rowLimit": 10000
     },
     "inputWidgets": {},
     "nuid": "09564023-c561-4940-acbc-7fd8924e119d",
     "showTitle": false,
     "title": ""
    }
   },
   "outputs": [],
   "source": []
  },
  {
   "cell_type": "markdown",
   "metadata": {
    "application/vnd.databricks.v1+cell": {
     "cellMetadata": {
      "byteLimit": 2048000,
      "rowLimit": 10000
     },
     "inputWidgets": {},
     "nuid": "183ffd5c-f4d6-45a7-99cb-8070d59cf4ac",
     "showTitle": false,
     "title": ""
    }
   },
   "source": [
    "sns.pairplot(df_personas)"
   ]
  },
  {
   "cell_type": "code",
   "execution_count": null,
   "metadata": {
    "application/vnd.databricks.v1+cell": {
     "cellMetadata": {
      "byteLimit": 2048000,
      "rowLimit": 10000
     },
     "inputWidgets": {},
     "nuid": "8ee16b40-5a16-4695-9c66-9c263158c42c",
     "showTitle": false,
     "title": ""
    }
   },
   "outputs": [],
   "source": []
  },
  {
   "cell_type": "markdown",
   "metadata": {
    "application/vnd.databricks.v1+cell": {
     "cellMetadata": {
      "byteLimit": 2048000,
      "rowLimit": 10000
     },
     "inputWidgets": {},
     "nuid": "f814c5f7-4ba8-4c56-8886-4f67194104fa",
     "showTitle": false,
     "title": ""
    }
   },
   "source": [
    "plt.grid(True)\n",
    "\n",
    "plt.boxplot(df_personas)\n",
    "\n",
    "plt.show()"
   ]
  },
  {
   "cell_type": "code",
   "execution_count": null,
   "metadata": {},
   "outputs": [],
   "source": []
  },
  {
   "cell_type": "markdown",
   "metadata": {},
   "source": [
    "fig=px.box(df_personas)\n",
    "\n",
    "fig.show()"
   ]
  },
  {
   "cell_type": "code",
   "execution_count": null,
   "metadata": {},
   "outputs": [],
   "source": []
  },
  {
   "cell_type": "markdown",
   "metadata": {},
   "source": [
    "from sklearn import preprocessing\n",
    "\n",
    "z_scaler = preprocessing.StandardScaler()\n",
    "\n",
    "personas_z=z_scaler.fit_transform(df_personas)\n",
    "\n",
    "personas_z\n",
    "\n",
    "type(personas_z)\n",
    "\n",
    "#personas_z=pd.DataFrame(personas_z,columns=[\"altura\",\"peso\",\"ingreso\",\"horas_trabajadas\",\"ausencias\"])\n",
    "\n",
    "personas_z=pd.DataFrame(personas_z,columns=df_personas.columns)\n",
    "\n",
    "type(personas_z)\n"
   ]
  },
  {
   "cell_type": "code",
   "execution_count": null,
   "metadata": {},
   "outputs": [],
   "source": []
  },
  {
   "cell_type": "markdown",
   "metadata": {},
   "source": [
    "sns.pairplot(df_personas)\n",
    "\n",
    "sns.pairplot(personas_z)"
   ]
  },
  {
   "cell_type": "code",
   "execution_count": null,
   "metadata": {},
   "outputs": [],
   "source": []
  },
  {
   "cell_type": "markdown",
   "metadata": {},
   "source": [
    "fig=px.box(df_personas)\n",
    "\n",
    "fig.show()\n",
    "\n",
    "fig=px.box(personas_z)\n",
    "\n",
    "fig.show()"
   ]
  },
  {
   "cell_type": "code",
   "execution_count": null,
   "metadata": {},
   "outputs": [],
   "source": []
  },
  {
   "cell_type": "markdown",
   "metadata": {},
   "source": [
    "df_personas.describe()\n",
    "\n",
    "personas_z.describe()"
   ]
  },
  {
   "cell_type": "code",
   "execution_count": null,
   "metadata": {},
   "outputs": [],
   "source": []
  },
  {
   "cell_type": "markdown",
   "metadata": {},
   "source": [
    "# Tarea 1\n",
    "\n",
    "###  1. diccionario de datos\n",
    "###  2. Estadisticos descriptivos\n",
    "###  3.  boxPlot(de todos los campos)\n",
    "###  4. Matriz de correlacion\n",
    "###  5. normalizacion, escalamiento\n",
    "###  6.Conclusion(salario)"
   ]
  }
 ],
 "metadata": {
  "application/vnd.databricks.v1+notebook": {
   "dashboards": [],
   "language": "python",
   "notebookMetadata": {
    "pythonIndentUnit": 4
   },
   "notebookName": "Estadisticos descriptivos Blanco",
   "widgets": {}
  },
  "kernelspec": {
   "display_name": "Python 3",
   "language": "python",
   "name": "python3"
  },
  "language_info": {
   "codemirror_mode": {
    "name": "ipython",
    "version": 3
   },
   "file_extension": ".py",
   "mimetype": "text/x-python",
   "name": "python",
   "nbconvert_exporter": "python",
   "pygments_lexer": "ipython3",
   "version": "3.10.13"
  }
 },
 "nbformat": 4,
 "nbformat_minor": 0
}
