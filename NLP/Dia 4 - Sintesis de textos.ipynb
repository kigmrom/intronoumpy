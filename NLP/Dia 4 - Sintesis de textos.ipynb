{
 "cells": [
  {
   "cell_type": "markdown",
   "metadata": {},
   "source": [
    "## Sintetizar Textos"
   ]
  },
  {
   "cell_type": "markdown",
   "metadata": {},
   "source": [
    "* Tomar textos extensos y extraer los elementos mas importantes\n",
    "* comprender el contenido de un texto en menos tiempo y consentrandote en los conceptos importantes"
   ]
  },
  {
   "cell_type": "markdown",
   "metadata": {},
   "source": [
    "### Sumarizacion de textos\n",
    "se puede aplicar en el mundo real a:\n",
    "\n",
    "* Articulos cientificos\n",
    "* Documentos profesionales\n",
    "* comodidad personal y optimizar el tiempo"
   ]
  },
  {
   "cell_type": "markdown",
   "metadata": {},
   "source": [
    "#### Categorias de la sumarizacion de texto\n",
    "\n",
    "* Resumenes Extrativos: estraer partes especificas del documentos (titulos, palabras claves, Resumenes,etc)\n",
    "* Resumenes Abstractivos: generan nuevas secuencias e informacion es mucho mas avanzado y costoso en temas de computacion.\n",
    "\n"
   ]
  },
  {
   "cell_type": "markdown",
   "metadata": {},
   "source": [
    "### Enfoques que aplicaremos\n",
    "\n",
    "* Metodos basados en vectores\n",
    "* Ranking de Textos\n",
    "    - Probabilidad\n",
    "    - Algebra Lineal\n",
    "    - Cadenas de Markov"
   ]
  },
  {
   "cell_type": "markdown",
   "metadata": {},
   "source": [
    "## 1. Metodo de Vectores \n",
    "\n",
    "#### 1.1 Tecnica de TF-IDF\n",
    "\n",
    "Ventajas\n",
    "    - Facilidad de Implementacion\n",
    "    - Relevancia de Palabras Claves\n",
    "    - Adaptabilidad\n",
    "    - Reducir Ruido\n",
    "\n"
   ]
  },
  {
   "cell_type": "markdown",
   "metadata": {},
   "source": [
    "<img src=\"https://www.publisuites.com/blog/wp-content/uploads/2020/04/seobility-4-resultados-busqueda-seobility.png\" align=\"center\">"
   ]
  },
  {
   "cell_type": "markdown",
   "metadata": {},
   "source": [
    "### pasos del metodo TF-IDF\n",
    "\n",
    "    -   Dividir el documento en oraciones\n",
    "    -   Tokenizacion con TF-IDF\n",
    "    -   Creacion de la matriz TF-IDF\n",
    "    -   Puntiacion de Oraciones:\n",
    "        -   Usar el TF-IDF para determinar la relevancia"
   ]
  },
  {
   "cell_type": "markdown",
   "metadata": {},
   "source": [
    "### Como seleccionamos las Sentencias o parrafos para construir nuestro resumen\n",
    "\n",
    "-   Top N de palabras: el valor de N puede afectar incluyendo o excluyendo sentencias\n",
    "-   Top N palabras o caracteres: un N muy grande o pequeño podria cortar sentencias relevantes \n",
    "-   porcentajes: la calidad del resumen puede variar  segun la longitud del documento\n",
    "-   umbral de puntuacion: si el umbral es alto muchas sentencias podrian ser excluidas, pero si es muy bajo el resumen podria ser muy extenso.\n",
    "-   modificacion del umbral con factores multiplicativos: este metodo se personaliza segun el documento \n"
   ]
  },
  {
   "cell_type": "code",
   "execution_count": 5,
   "metadata": {},
   "outputs": [],
   "source": [
    "# importar las librerias necesarias\n",
    "\n",
    "import pandas as pd\n",
    "import numpy as np\n",
    "\n",
    "# importar las liberias de nlik\n",
    "\n",
    "import textwrap\n",
    "import nltk\n",
    "from nltk.corpus import stopwords\n",
    "from nltk import word_tokenize\n",
    "\n",
    "# importar las librerias de sklearn tfidvectorizer\n",
    "from sklearn.feature_extraction.text import TfidfVectorizer"
   ]
  },
  {
   "cell_type": "code",
   "execution_count": 6,
   "metadata": {},
   "outputs": [
    {
     "name": "stderr",
     "output_type": "stream",
     "text": [
      "[nltk_data] Downloading package punkt to /home/codespace/nltk_data...\n",
      "[nltk_data]   Package punkt is already up-to-date!\n",
      "[nltk_data] Downloading package stopwords to\n",
      "[nltk_data]     /home/codespace/nltk_data...\n",
      "[nltk_data]   Package stopwords is already up-to-date!\n"
     ]
    },
    {
     "data": {
      "text/plain": [
       "True"
      ]
     },
     "execution_count": 6,
     "metadata": {},
     "output_type": "execute_result"
    }
   ],
   "source": [
    "# descargar las stopword de nltk y punkt si ya las tienes descargadas puedes comentar\n",
    "\n",
    "nltk.download('punkt')\n",
    "nltk.download('stopwords')"
   ]
  },
  {
   "cell_type": "code",
   "execution_count": 26,
   "metadata": {},
   "outputs": [
    {
     "name": "stdout",
     "output_type": "stream",
     "text": [
      "Los clientes de BBVA del sector de la hostelería en España que dispongan de Terminales Punto de Venta (TPV) físicos de última generación, pueden descargar la nueva aplicación BBVA Smart Business Lite. Esta ‘app’ permite crear pedidos asociados a las mesas; visualizar el estado del restaurante y de las comandas abiertas de un vistazo, gestionar los turnos o procesar cobros con tarjeta o código QR, entre otras opciones. BBVA da un paso más para facilitar la gestión a los negocios con el objetivo de que puedan realizar su actividad de forma sencilla, disponer siempre de un mayor control de su empresa y contribuir así a impulsar sus ventas. Por ello, desarrolla nuevas soluciones y acuerdos con ‘partners’ estratégicos.\n",
      "El TPV Android de última generación, que BBVA ofrece a sus clientes sin ningún coste adicional respecto a un TPV tradicional, une en un único dispositivo, una solución de cobro y aplicaciones que permiten a los negocios gestionar su actividad y tener un control de sus ventas. La tecnología que incorporan estos TPV permite descargar aplicaciones útiles para la gestión del negocio, de la misma manera que se añaden a un móvil. BBVA pone ahora a disposición de los clientes que tengan cafeterías, bares, restaurantes, ‘food trucks’, quioscos u otros pequeños negocios del sector de restauración, una ‘app’ para este Terminal de Punto de Venta que les permitirá dar un paso más en la gestión de su actividad.\n",
      "Con BBVA Smart Business Lite, los hosteleros pueden crear pedidos asociados a las mesas; visualizar el estado del restaurante y de las comandas abiertas de un vistazo, así como administrar las propinas, dividir la cuenta y gestionar pedidos 'take-away'. También facilita la gestión de turnos y empleados y la organización de la sala.\n",
      "Asimismo, con esta ‘app’ el comercio puede procesar cobros con tarjeta  y códigos QR -gracias a la cámara del TPV- de Alipay y Wechatpay. Además, se pueden imprimir recibos sin cambiar de pantalla. El comercio dispone de toda la información de su negocio de forma totalmente on-line en un backoffice, accesible vía web, desde cualquier dispositivo, para facilitar su gestión. Otra ventaja es la posibilidad de registrar los cobros en efectivo o en otros métodos, como el cheque restaurante.\n",
      "BBVA Smart Business Lite complementa con esta versión ligera, todas las capacidades y soluciones que BBVA pone a disposición de restaurantes y establecimientos de hostelería de cualquier dimensión a través de BBVA Smart Business y su alianza con REVO, uno de los principales referentes en soluciones avanzadas de gestión de hostelería.\n",
      "Innovación\n",
      "Pasar la tarjeta (o últimamente el teléfono móvil) por un datáfono para pagar las compras en tienda es un gesto automático muy habitual. Pero en el pasado no era tan sencillo y en el futuro podría volverse menos frecuente. Los terminales puntos de venta (TPV), los sistemas informáticos con los que los comercios tramitan los cobros, han dado un salto tecnológico para aportar aún más valor: desde permitir financiar una compra con pagos fraccionados hasta facilitar a las empresas la logística, el envío de artículos, las ventas de ‘ecommerce’ o los trámites fiscales, entre otros.\n",
      "El funcionamiento del TPV Android es intuitivo y similar al de un teléfono móvil. En la pantalla principal el comercio visualizará la opción de ‘cobrar’ y las aplicaciones que haya añadido para la gestión del negocio. Además, el comercio podrá, igualmente, realizar devoluciones de compras en tiempo real, así como consultar el historial de operaciones de forma muy sencilla.\n",
      "La posibilidad de descargar aplicaciones para dar un paso en la gestión integral de los negocios desde este dispositivo, ha llevado a BBVA a incorporar nuevas ‘apps’. Además de aplicaciones disponibles en el TPV Android, que permiten gestionar de forma automática y en un proceso 100% digital el reembolso del IVA (TaxFree) a clientes no residentes en la Unión Europea. A esto hay que añadir el servicio DCC (Dynamic Currency Conversion), otra solución que facilita las compras de los turistas internacionales realizadas con tarjeta VISA o Mastercard, pagar en su propia divisa a la vez que el comercio cliente de BBVA recibe el abono de la venta en euros y sin coste adicional.\n",
      "Por otro lado, el banco también ha añadido la aplicación de Paack, empresa líder en logística de ‘última milla’ . Gracias a esta ‘app’ y sin necesidad de disponer de una tienda ‘online’, se facilita a los comercios la gestión de los servicios de transporte y paquetería. De esta forma, BBVA pone al alcance de los pequeños comercios  el soporte de una plataforma logística  utilizada por las más grandes empresas del mundo del ecommerce,  para gestionar de forma sencilla y on-line la recogida y entrega de sus productos en el domicilio de sus clientes. Para ello, solo necesitan este TPV de última generación desde el que, además, pueden realizar el pago y el seguimiento de los envíos o consultar el histórico de los servicios realizados.\n"
     ]
    }
   ],
   "source": [
    "# leer dataset df_total.csv\n",
    "\n",
    "df= pd.read_csv('datasets/df_total.csv')\n",
    "\n",
    "#df.head()\n",
    "\n",
    "#print(df['news'][12])\n",
    "\n",
    "doc = df['news'].sample()\n",
    "print(doc.iloc[0])"
   ]
  },
  {
   "cell_type": "code",
   "execution_count": 27,
   "metadata": {},
   "outputs": [
    {
     "data": {
      "text/plain": [
       "\"Los clientes de BBVA del sector de la hostelería en España que\\ndispongan de Terminales Punto de Venta (TPV) físicos de última\\ngeneración, pueden descargar la nueva aplicación BBVA Smart Business\\nLite.  Esta ‘app’ permite crear pedidos asociados a las mesas;\\nvisualizar el estado del restaurante y de las comandas abiertas de un\\nvistazo, gestionar los turnos o procesar cobros con tarjeta o código\\nQR, entre otras opciones.  BBVA da un paso más para facilitar la\\ngestión a los negocios con el objetivo de que puedan realizar su\\nactividad de forma sencilla, disponer siempre de un mayor control de\\nsu empresa y contribuir así a impulsar sus ventas.  Por ello,\\ndesarrolla nuevas soluciones y acuerdos con ‘partners’ estratégicos.\\nEl TPV Android de última generación, que BBVA ofrece a sus clientes\\nsin ningún coste adicional respecto a un TPV tradicional, une en un\\núnico dispositivo, una solución de cobro y aplicaciones que permiten a\\nlos negocios gestionar su actividad y tener un control de sus ventas.\\nLa tecnología que incorporan estos TPV permite descargar aplicaciones\\nútiles para la gestión del negocio, de la misma manera que se añaden a\\nun móvil.  BBVA pone ahora a disposición de los clientes que tengan\\ncafeterías, bares, restaurantes, ‘food trucks’, quioscos u otros\\npequeños negocios del sector de restauración, una ‘app’ para este\\nTerminal de Punto de Venta que les permitirá dar un paso más en la\\ngestión de su actividad.\\r\\nCon BBVA Smart Business Lite, los hosteleros\\npueden crear pedidos asociados a las mesas; visualizar el estado del\\nrestaurante y de las comandas abiertas de un vistazo, así como\\nadministrar las propinas, dividir la cuenta y gestionar pedidos 'take-\\naway'. También facilita la gestión de turnos y empleados y la\\norganización de la sala.\\r\\nAsimismo, con esta ‘app’ el comercio puede\\nprocesar cobros con tarjeta\\xa0 y códigos QR -gracias a la cámara del\\nTPV- de Alipay y Wechatpay.  Además, se pueden imprimir recibos sin\\ncambiar de pantalla.  El comercio dispone de toda la información de su\\nnegocio de forma totalmente on-line en un backoffice, accesible vía\\nweb, desde cualquier dispositivo, para facilitar su gestión.  Otra\\nventaja es la posibilidad de registrar los cobros en efectivo o en\\notros métodos, como el cheque restaurante.\\r\\nBBVA Smart Business Lite\\ncomplementa con esta versión ligera, todas las capacidades y\\nsoluciones que BBVA pone a disposición de restaurantes y\\nestablecimientos de hostelería de cualquier dimensión a través de BBVA\\nSmart Business y su alianza con REVO, uno de los principales\\nreferentes en soluciones avanzadas de gestión de hostelería.\\nInnovación\\r\\nPasar la tarjeta (o últimamente el teléfono móvil) por un\\ndatáfono para pagar las compras en tienda es un gesto automático muy\\nhabitual.  Pero en el pasado no era tan sencillo y en el futuro podría\\nvolverse menos frecuente.  Los terminales puntos de venta (TPV), los\\nsistemas informáticos con los que los comercios tramitan los cobros,\\nhan dado un salto tecnológico para aportar aún más valor: desde\\npermitir financiar una compra con pagos fraccionados hasta facilitar a\\nlas empresas la logística, el envío de artículos, las ventas de\\n‘ecommerce’ o los trámites fiscales, entre otros.\\r\\nEl funcionamiento\\ndel TPV Android es intuitivo y similar al de un teléfono móvil.  En la\\npantalla principal el comercio visualizará la opción de ‘cobrar’ y las\\naplicaciones que haya añadido para la gestión del negocio.  Además, el\\ncomercio podrá, igualmente, realizar devoluciones de compras en tiempo\\nreal, así como consultar el historial de operaciones de forma muy\\nsencilla.\\r\\nLa posibilidad de descargar aplicaciones para dar un paso\\nen la gestión integral de los negocios desde este dispositivo, ha\\nllevado a BBVA a incorporar nuevas ‘apps’. Además de aplicaciones\\ndisponibles en el TPV Android, que permiten gestionar de forma\\nautomática y en un proceso 100% digital el reembolso del IVA (TaxFree)\\na clientes no residentes en la Unión Europea.  A esto hay que añadir\\nel servicio DCC (Dynamic Currency Conversion), otra solución que\\nfacilita las compras de los turistas internacionales realizadas con\\ntarjeta VISA o Mastercard, pagar en su propia divisa a la vez que el\\ncomercio cliente de BBVA recibe el abono de la venta en euros y sin\\ncoste adicional.\\r\\nPor otro lado, el banco también ha añadido la\\naplicación de Paack, empresa líder en logística de ‘última milla’ .\\nGracias a esta ‘app’ y sin necesidad de disponer de una tienda\\n‘online’, se facilita a los comercios la gestión de los servicios de\\ntransporte y paquetería.  De esta forma, BBVA pone al alcance de los\\npequeños comercios\\xa0 el soporte de una plataforma logística\\xa0 utilizada\\npor las más grandes empresas del mundo del ecommerce,\\xa0 para gestionar\\nde forma sencilla y on-line la recogida y entrega de sus productos en\\nel domicilio de sus clientes.  Para ello, solo necesitan este TPV de\\núltima generación desde el que, además, pueden realizar el pago y el\\nseguimiento de los envíos o consultar el histórico de los servicios\\nrealizados.\""
      ]
     },
     "execution_count": 27,
     "metadata": {},
     "output_type": "execute_result"
    }
   ],
   "source": [
    "doc2 = textwrap.fill(doc.iloc[0], replace_whitespace=False, fix_sentence_endings=True)\n",
    "\n",
    "doc2\n"
   ]
  },
  {
   "cell_type": "code",
   "execution_count": 31,
   "metadata": {},
   "outputs": [
    {
     "data": {
      "text/plain": [
       "['Los clientes de BBVA del sector de la hostelería en España que\\ndispongan de Terminales Punto de Venta (TPV) físicos de última\\ngeneración',\n",
       " ' pueden descargar la nueva aplicación BBVA Smart Business\\nLite.  Esta ‘app’ permite crear pedidos asociados a las mesas;\\nvisualizar el estado del restaurante y de las comandas abiertas de un\\nvistazo',\n",
       " ' gestionar los turnos o procesar cobros con tarjeta o código\\nQR',\n",
       " ' entre otras opciones.  BBVA da un paso más para facilitar la\\ngestión a los negocios con el objetivo de que puedan realizar su\\nactividad de forma sencilla',\n",
       " ' disponer siempre de un mayor control de\\nsu empresa y contribuir así a impulsar sus ventas.  Por ello',\n",
       " '\\ndesarrolla nuevas soluciones y acuerdos con ‘partners’ estratégicos.\\nEl TPV Android de última generación',\n",
       " ' que BBVA ofrece a sus clientes\\nsin ningún coste adicional respecto a un TPV tradicional',\n",
       " ' une en un\\núnico dispositivo',\n",
       " ' una solución de cobro y aplicaciones que permiten a\\nlos negocios gestionar su actividad y tener un control de sus ventas.\\nLa tecnología que incorporan estos TPV permite descargar aplicaciones\\nútiles para la gestión del negocio',\n",
       " ' de la misma manera que se añaden a\\nun móvil.  BBVA pone ahora a disposición de los clientes que tengan\\ncafeterías',\n",
       " ' bares',\n",
       " ' restaurantes',\n",
       " ' ‘food trucks’',\n",
       " ' quioscos u otros\\npequeños negocios del sector de restauración',\n",
       " ' una ‘app’ para este\\nTerminal de Punto de Venta que les permitirá dar un paso más en la\\ngestión de su actividad.\\r\\nCon BBVA Smart Business Lite',\n",
       " ' los hosteleros\\npueden crear pedidos asociados a las mesas; visualizar el estado del\\nrestaurante y de las comandas abiertas de un vistazo',\n",
       " ' así como\\nadministrar las propinas',\n",
       " \" dividir la cuenta y gestionar pedidos 'take-\\naway'. También facilita la gestión de turnos y empleados y la\\norganización de la sala.\\r\\nAsimismo\",\n",
       " ' con esta ‘app’ el comercio puede\\nprocesar cobros con tarjeta\\xa0 y códigos QR -gracias a la cámara del\\nTPV- de Alipay y Wechatpay.  Además',\n",
       " ' se pueden imprimir recibos sin\\ncambiar de pantalla.  El comercio dispone de toda la información de su\\nnegocio de forma totalmente on-line en un backoffice',\n",
       " ' accesible vía\\nweb',\n",
       " ' desde cualquier dispositivo',\n",
       " ' para facilitar su gestión.  Otra\\nventaja es la posibilidad de registrar los cobros en efectivo o en\\notros métodos',\n",
       " ' como el cheque restaurante.\\r\\nBBVA Smart Business Lite\\ncomplementa con esta versión ligera',\n",
       " ' todas las capacidades y\\nsoluciones que BBVA pone a disposición de restaurantes y\\nestablecimientos de hostelería de cualquier dimensión a través de BBVA\\nSmart Business y su alianza con REVO',\n",
       " ' uno de los principales\\nreferentes en soluciones avanzadas de gestión de hostelería.\\nInnovación\\r\\nPasar la tarjeta (o últimamente el teléfono móvil) por un\\ndatáfono para pagar las compras en tienda es un gesto automático muy\\nhabitual.  Pero en el pasado no era tan sencillo y en el futuro podría\\nvolverse menos frecuente.  Los terminales puntos de venta (TPV)',\n",
       " ' los\\nsistemas informáticos con los que los comercios tramitan los cobros',\n",
       " '\\nhan dado un salto tecnológico para aportar aún más valor: desde\\npermitir financiar una compra con pagos fraccionados hasta facilitar a\\nlas empresas la logística',\n",
       " ' el envío de artículos',\n",
       " ' las ventas de\\n‘ecommerce’ o los trámites fiscales',\n",
       " ' entre otros.\\r\\nEl funcionamiento\\ndel TPV Android es intuitivo y similar al de un teléfono móvil.  En la\\npantalla principal el comercio visualizará la opción de ‘cobrar’ y las\\naplicaciones que haya añadido para la gestión del negocio.  Además',\n",
       " ' el\\ncomercio podrá',\n",
       " ' igualmente',\n",
       " ' realizar devoluciones de compras en tiempo\\nreal',\n",
       " ' así como consultar el historial de operaciones de forma muy\\nsencilla.\\r\\nLa posibilidad de descargar aplicaciones para dar un paso\\nen la gestión integral de los negocios desde este dispositivo',\n",
       " ' ha\\nllevado a BBVA a incorporar nuevas ‘apps’. Además de aplicaciones\\ndisponibles en el TPV Android',\n",
       " ' que permiten gestionar de forma\\nautomática y en un proceso 100% digital el reembolso del IVA (TaxFree)\\na clientes no residentes en la Unión Europea.  A esto hay que añadir\\nel servicio DCC (Dynamic Currency Conversion)',\n",
       " ' otra solución que\\nfacilita las compras de los turistas internacionales realizadas con\\ntarjeta VISA o Mastercard',\n",
       " ' pagar en su propia divisa a la vez que el\\ncomercio cliente de BBVA recibe el abono de la venta en euros y sin\\ncoste adicional.\\r\\nPor otro lado',\n",
       " ' el banco también ha añadido la\\naplicación de Paack',\n",
       " ' empresa líder en logística de ‘última milla’ .\\nGracias a esta ‘app’ y sin necesidad de disponer de una tienda\\n‘online’',\n",
       " ' se facilita a los comercios la gestión de los servicios de\\ntransporte y paquetería.  De esta forma',\n",
       " ' BBVA pone al alcance de los\\npequeños comercios\\xa0 el soporte de una plataforma logística\\xa0 utilizada\\npor las más grandes empresas del mundo del ecommerce',\n",
       " '\\xa0 para gestionar\\nde forma sencilla y on-line la recogida y entrega de sus productos en\\nel domicilio de sus clientes.  Para ello',\n",
       " ' solo necesitan este TPV de\\núltima generación desde el que',\n",
       " ' además',\n",
       " ' pueden realizar el pago y el\\nseguimiento de los envíos o consultar el histórico de los servicios\\nrealizados.']"
      ]
     },
     "execution_count": 31,
     "metadata": {},
     "output_type": "execute_result"
    }
   ],
   "source": [
    "lineas = doc2.split(',')\n",
    "lineas"
   ]
  },
  {
   "cell_type": "code",
   "execution_count": 32,
   "metadata": {},
   "outputs": [
    {
     "data": {
      "text/plain": [
       "['Los clientes de BBVA del sector de la hostelería en España que\\ndispongan de Terminales Punto de Venta (TPV) físicos de última\\ngeneración, pueden descargar la nueva aplicación BBVA Smart Business\\nLite',\n",
       " '  Esta ‘app’ permite crear pedidos asociados a las mesas;\\nvisualizar el estado del restaurante y de las comandas abiertas de un\\nvistazo, gestionar los turnos o procesar cobros con tarjeta o código\\nQR, entre otras opciones',\n",
       " '  BBVA da un paso más para facilitar la\\ngestión a los negocios con el objetivo de que puedan realizar su\\nactividad de forma sencilla, disponer siempre de un mayor control de\\nsu empresa y contribuir así a impulsar sus ventas',\n",
       " '  Por ello,\\ndesarrolla nuevas soluciones y acuerdos con ‘partners’ estratégicos',\n",
       " '\\nEl TPV Android de última generación, que BBVA ofrece a sus clientes\\nsin ningún coste adicional respecto a un TPV tradicional, une en un\\núnico dispositivo, una solución de cobro y aplicaciones que permiten a\\nlos negocios gestionar su actividad y tener un control de sus ventas',\n",
       " '\\nLa tecnología que incorporan estos TPV permite descargar aplicaciones\\nútiles para la gestión del negocio, de la misma manera que se añaden a\\nun móvil',\n",
       " '  BBVA pone ahora a disposición de los clientes que tengan\\ncafeterías, bares, restaurantes, ‘food trucks’, quioscos u otros\\npequeños negocios del sector de restauración, una ‘app’ para este\\nTerminal de Punto de Venta que les permitirá dar un paso más en la\\ngestión de su actividad',\n",
       " \"\\r\\nCon BBVA Smart Business Lite, los hosteleros\\npueden crear pedidos asociados a las mesas; visualizar el estado del\\nrestaurante y de las comandas abiertas de un vistazo, así como\\nadministrar las propinas, dividir la cuenta y gestionar pedidos 'take-\\naway'\",\n",
       " ' También facilita la gestión de turnos y empleados y la\\norganización de la sala',\n",
       " '\\r\\nAsimismo, con esta ‘app’ el comercio puede\\nprocesar cobros con tarjeta\\xa0 y códigos QR -gracias a la cámara del\\nTPV- de Alipay y Wechatpay',\n",
       " '  Además, se pueden imprimir recibos sin\\ncambiar de pantalla',\n",
       " '  El comercio dispone de toda la información de su\\nnegocio de forma totalmente on-line en un backoffice, accesible vía\\nweb, desde cualquier dispositivo, para facilitar su gestión',\n",
       " '  Otra\\nventaja es la posibilidad de registrar los cobros en efectivo o en\\notros métodos, como el cheque restaurante',\n",
       " '\\r\\nBBVA Smart Business Lite\\ncomplementa con esta versión ligera, todas las capacidades y\\nsoluciones que BBVA pone a disposición de restaurantes y\\nestablecimientos de hostelería de cualquier dimensión a través de BBVA\\nSmart Business y su alianza con REVO, uno de los principales\\nreferentes en soluciones avanzadas de gestión de hostelería',\n",
       " '\\nInnovación\\r\\nPasar la tarjeta (o últimamente el teléfono móvil) por un\\ndatáfono para pagar las compras en tienda es un gesto automático muy\\nhabitual',\n",
       " '  Pero en el pasado no era tan sencillo y en el futuro podría\\nvolverse menos frecuente',\n",
       " '  Los terminales puntos de venta (TPV), los\\nsistemas informáticos con los que los comercios tramitan los cobros,\\nhan dado un salto tecnológico para aportar aún más valor: desde\\npermitir financiar una compra con pagos fraccionados hasta facilitar a\\nlas empresas la logística, el envío de artículos, las ventas de\\n‘ecommerce’ o los trámites fiscales, entre otros',\n",
       " '\\r\\nEl funcionamiento\\ndel TPV Android es intuitivo y similar al de un teléfono móvil',\n",
       " '  En la\\npantalla principal el comercio visualizará la opción de ‘cobrar’ y las\\naplicaciones que haya añadido para la gestión del negocio',\n",
       " '  Además, el\\ncomercio podrá, igualmente, realizar devoluciones de compras en tiempo\\nreal, así como consultar el historial de operaciones de forma muy\\nsencilla',\n",
       " '\\r\\nLa posibilidad de descargar aplicaciones para dar un paso\\nen la gestión integral de los negocios desde este dispositivo, ha\\nllevado a BBVA a incorporar nuevas ‘apps’',\n",
       " ' Además de aplicaciones\\ndisponibles en el TPV Android, que permiten gestionar de forma\\nautomática y en un proceso 100% digital el reembolso del IVA (TaxFree)\\na clientes no residentes en la Unión Europea',\n",
       " '  A esto hay que añadir\\nel servicio DCC (Dynamic Currency Conversion), otra solución que\\nfacilita las compras de los turistas internacionales realizadas con\\ntarjeta VISA o Mastercard, pagar en su propia divisa a la vez que el\\ncomercio cliente de BBVA recibe el abono de la venta en euros y sin\\ncoste adicional',\n",
       " '\\r\\nPor otro lado, el banco también ha añadido la\\naplicación de Paack, empresa líder en logística de ‘última milla’ ',\n",
       " '\\nGracias a esta ‘app’ y sin necesidad de disponer de una tienda\\n‘online’, se facilita a los comercios la gestión de los servicios de\\ntransporte y paquetería',\n",
       " '  De esta forma, BBVA pone al alcance de los\\npequeños comercios\\xa0 el soporte de una plataforma logística\\xa0 utilizada\\npor las más grandes empresas del mundo del ecommerce,\\xa0 para gestionar\\nde forma sencilla y on-line la recogida y entrega de sus productos en\\nel domicilio de sus clientes',\n",
       " '  Para ello, solo necesitan este TPV de\\núltima generación desde el que, además, pueden realizar el pago y el\\nseguimiento de los envíos o consultar el histórico de los servicios\\nrealizados',\n",
       " '']"
      ]
     },
     "execution_count": 32,
     "metadata": {},
     "output_type": "execute_result"
    }
   ],
   "source": [
    "# dividir el texto por salto de linea o punto\n",
    "\n",
    "lineas = doc2.split('.') # separamos por punto que divida el texto en parrafos\n",
    "lineas"
   ]
  },
  {
   "cell_type": "code",
   "execution_count": 33,
   "metadata": {},
   "outputs": [
    {
     "data": {
      "text/plain": [
       "['Los clientes de BBVA del sector de la hostelería en España que\\ndispongan de Terminales Punto de Venta (TPV) físicos de última\\ngeneración, pueden descargar la nueva aplicación BBVA Smart Business\\nLite',\n",
       " '  Esta ‘app’ permite crear pedidos asociados a las mesas;\\nvisualizar el estado del restaurante y de las comandas abiertas de un\\nvistazo, gestionar los turnos o procesar cobros con tarjeta o código\\nQR, entre otras opciones',\n",
       " '  BBVA da un paso más para facilitar la\\ngestión a los negocios con el objetivo de que puedan realizar su\\nactividad de forma sencilla, disponer siempre de un mayor control de\\nsu empresa y contribuir así a impulsar sus ventas',\n",
       " '  Por ello,\\ndesarrolla nuevas soluciones y acuerdos con ‘partners’ estratégicos',\n",
       " '\\nEl TPV Android de última generación, que BBVA ofrece a sus clientes\\nsin ningún coste adicional respecto a un TPV tradicional, une en un\\núnico dispositivo, una solución de cobro y aplicaciones que permiten a\\nlos negocios gestionar su actividad y tener un control de sus ventas',\n",
       " '\\nLa tecnología que incorporan estos TPV permite descargar aplicaciones\\nútiles para la gestión del negocio, de la misma manera que se añaden a\\nun móvil',\n",
       " '  BBVA pone ahora a disposición de los clientes que tengan\\ncafeterías, bares, restaurantes, ‘food trucks’, quioscos u otros\\npequeños negocios del sector de restauración, una ‘app’ para este\\nTerminal de Punto de Venta que les permitirá dar un paso más en la\\ngestión de su actividad',\n",
       " \"\\r\\nCon BBVA Smart Business Lite, los hosteleros\\npueden crear pedidos asociados a las mesas; visualizar el estado del\\nrestaurante y de las comandas abiertas de un vistazo, así como\\nadministrar las propinas, dividir la cuenta y gestionar pedidos 'take-\\naway'\",\n",
       " ' También facilita la gestión de turnos y empleados y la\\norganización de la sala',\n",
       " '\\r\\nAsimismo, con esta ‘app’ el comercio puede\\nprocesar cobros con tarjeta\\xa0 y códigos QR -gracias a la cámara del\\nTPV- de Alipay y Wechatpay',\n",
       " '  Además, se pueden imprimir recibos sin\\ncambiar de pantalla',\n",
       " '  El comercio dispone de toda la información de su\\nnegocio de forma totalmente on-line en un backoffice, accesible vía\\nweb, desde cualquier dispositivo, para facilitar su gestión',\n",
       " '  Otra\\nventaja es la posibilidad de registrar los cobros en efectivo o en\\notros métodos, como el cheque restaurante',\n",
       " '\\r\\nBBVA Smart Business Lite\\ncomplementa con esta versión ligera, todas las capacidades y\\nsoluciones que BBVA pone a disposición de restaurantes y\\nestablecimientos de hostelería de cualquier dimensión a través de BBVA\\nSmart Business y su alianza con REVO, uno de los principales\\nreferentes en soluciones avanzadas de gestión de hostelería',\n",
       " '\\nInnovación\\r\\nPasar la tarjeta (o últimamente el teléfono móvil) por un\\ndatáfono para pagar las compras en tienda es un gesto automático muy\\nhabitual',\n",
       " '  Pero en el pasado no era tan sencillo y en el futuro podría\\nvolverse menos frecuente',\n",
       " '  Los terminales puntos de venta (TPV), los\\nsistemas informáticos con los que los comercios tramitan los cobros,\\nhan dado un salto tecnológico para aportar aún más valor: desde\\npermitir financiar una compra con pagos fraccionados hasta facilitar a\\nlas empresas la logística, el envío de artículos, las ventas de\\n‘ecommerce’ o los trámites fiscales, entre otros',\n",
       " '\\r\\nEl funcionamiento\\ndel TPV Android es intuitivo y similar al de un teléfono móvil',\n",
       " '  En la\\npantalla principal el comercio visualizará la opción de ‘cobrar’ y las\\naplicaciones que haya añadido para la gestión del negocio',\n",
       " '  Además, el\\ncomercio podrá, igualmente, realizar devoluciones de compras en tiempo\\nreal, así como consultar el historial de operaciones de forma muy\\nsencilla',\n",
       " '\\r\\nLa posibilidad de descargar aplicaciones para dar un paso\\nen la gestión integral de los negocios desde este dispositivo, ha\\nllevado a BBVA a incorporar nuevas ‘apps’',\n",
       " ' Además de aplicaciones\\ndisponibles en el TPV Android, que permiten gestionar de forma\\nautomática y en un proceso 100% digital el reembolso del IVA (TaxFree)\\na clientes no residentes en la Unión Europea',\n",
       " '  A esto hay que añadir\\nel servicio DCC (Dynamic Currency Conversion), otra solución que\\nfacilita las compras de los turistas internacionales realizadas con\\ntarjeta VISA o Mastercard, pagar en su propia divisa a la vez que el\\ncomercio cliente de BBVA recibe el abono de la venta en euros y sin\\ncoste adicional',\n",
       " '\\r\\nPor otro lado, el banco también ha añadido la\\naplicación de Paack, empresa líder en logística de ‘última milla’ ',\n",
       " '\\nGracias a esta ‘app’ y sin necesidad de disponer de una tienda\\n‘online’, se facilita a los comercios la gestión de los servicios de\\ntransporte y paquetería',\n",
       " '  De esta forma, BBVA pone al alcance de los\\npequeños comercios\\xa0 el soporte de una plataforma logística\\xa0 utilizada\\npor las más grandes empresas del mundo del ecommerce,\\xa0 para gestionar\\nde forma sencilla y on-line la recogida y entrega de sus productos en\\nel domicilio de sus clientes',\n",
       " '  Para ello, solo necesitan este TPV de\\núltima generación desde el que, además, pueden realizar el pago y el\\nseguimiento de los envíos o consultar el histórico de los servicios\\nrealizados']"
      ]
     },
     "execution_count": 33,
     "metadata": {},
     "output_type": "execute_result"
    }
   ],
   "source": [
    "# Eliminando espacio vaci con script\n",
    "lineas = lineas[:-1]\n",
    "\n",
    "lineas"
   ]
  },
  {
   "cell_type": "code",
   "execution_count": 34,
   "metadata": {},
   "outputs": [],
   "source": [
    "# tokenizar\n",
    "\n",
    "tokenizar = TfidfVectorizer(\n",
    "    stop_words=stopwords.words('spanish'),\n",
    "    norm='l1',\n",
    ")"
   ]
  },
  {
   "cell_type": "code",
   "execution_count": 35,
   "metadata": {},
   "outputs": [
    {
     "data": {
      "text/plain": [
       "<27x275 sparse matrix of type '<class 'numpy.float64'>'\n",
       "\twith 431 stored elements in Compressed Sparse Row format>"
      ]
     },
     "execution_count": 35,
     "metadata": {},
     "output_type": "execute_result"
    }
   ],
   "source": [
    "X = tokenizar.fit_transform(lineas)\n",
    "X"
   ]
  },
  {
   "cell_type": "code",
   "execution_count": 36,
   "metadata": {},
   "outputs": [
    {
     "name": "stdout",
     "output_type": "stream",
     "text": [
      "0.0 0.0 0.0 0.0 0.0 0.0 0.0 0.0 0.0 0.0 0.0 0.0 0.0 0.0 0.0 0.05185636786448076 0.0 0.0 0.0 0.0 0.0 0.0 0.0 0.0 0.0 0.0 0.0 0.0 0.0 0.0 0.0 0.0 0.0 0.0 0.06509707094309218 0.04724287724625965 0.0 0.0 0.0 0.0 0.0 0.04074052742539423 0.0 0.0 0.0 0.0 0.0 0.0 0.0 0.0 0.0 0.0 0.0 0.0 0.0 0.0 0.0 0.0 0.0 0.0 0.0 0.0 0.0 0.0 0.0 0.0 0.0 0.0 0.0 0.04724287724625965 0.0 0.0 0.0 0.0 0.0 0.058358717685346166 0.0 0.0 0.0 0.0 0.0 0.0 0.0 0.0 0.0 0.0 0.0 0.0 0.0 0.0 0.0 0.0 0.058358717685346166 0.0 0.0 0.0 0.0 0.0 0.0 0.0 0.0 0.0 0.0 0.0 0.0 0.0 0.0 0.058358717685346166 0.04724287724625965 0.0 0.0 0.0 0.0 0.0 0.0 0.0 0.0 0.0 0.05185636786448076 0.0 0.0 0.0 0.0 0.0 0.0 0.0 0.0 0.0 0.0 0.0 0.0 0.0 0.0 0.0 0.04724287724625965 0.0 0.0 0.0 0.0 0.0 0.0 0.0 0.0 0.0 0.0 0.0 0.0 0.0 0.0 0.0 0.0 0.0 0.0 0.058358717685346166 0.0 0.0 0.0 0.0 0.0 0.0 0.0 0.0 0.0 0.0 0.0 0.0 0.0 0.0 0.0 0.0 0.0 0.0 0.0 0.0 0.0 0.0 0.0 0.0 0.0 0.0 0.0 0.0 0.0 0.0 0.0 0.0 0.0 0.0 0.0 0.0 0.0 0.0 0.0 0.04366437591063262 0.05185636786448076 0.0 0.0 0.0 0.0 0.0 0.0 0.0 0.0 0.0 0.0 0.0 0.0 0.0 0.0 0.0 0.0 0.0 0.0 0.0 0.0 0.0 0.05185636786448076 0.0 0.0 0.0 0.0 0.0 0.0 0.0 0.0 0.04724287724625965 0.0 0.0 0.0 0.0 0.0 0.0 0.0 0.0 0.0 0.0 0.0 0.0 0.0 0.05185636786448076 0.0 0.0 0.0 0.0 0.0 0.034238177604528824 0.0 0.0 0.0 0.0 0.0 0.0 0.0 0.0 0.0 0.0 0.0 0.0 0.04366437591063262 0.0 0.0 0.0 0.0 0.0 0.0 0.0 0.0 0.0 0.0 0.0 0.0 0.04366437591063262 0.0 0.0 0.0 \n",
      "0.0 0.05413149386540071 0.0 0.0 0.0 0.0 0.0 0.0 0.0 0.0 0.0 0.0 0.0 0.0 0.0 0.0 0.0 0.0455800896607325 0.0 0.0 0.0 0.05413149386540071 0.0 0.0 0.0 0.0 0.0 0.0 0.0 0.0 0.0 0.0 0.0 0.0 0.0 0.0 0.0 0.0 0.0 0.0 0.0 0.0 0.0 0.0 0.0455800896607325 0.05413149386540071 0.0 0.0 0.0 0.0 0.0 0.0 0.0 0.0 0.0 0.0 0.05413149386540071 0.0 0.0 0.0 0.0 0.060919125239019475 0.0 0.0 0.0 0.0 0.0 0.0 0.0 0.0 0.0 0.0 0.0 0.0 0.0 0.0 0.0 0.0 0.0 0.0 0.0 0.0 0.0 0.0 0.0 0.0 0.0 0.0 0.0 0.0 0.0 0.0 0.0 0.0 0.0 0.0 0.0 0.0 0.0 0.0 0.0 0.0 0.0 0.0 0.0 0.0 0.0 0.0 0.0 0.042527961390668056 0.0 0.0 0.0 0.0 0.0 0.0 0.0 0.0 0.0 0.0 0.0 0.0 0.0 0.0 0.0 0.0 0.0 0.0 0.0 0.0 0.0 0.0 0.0 0.0 0.0 0.0 0.0 0.0 0.0 0.0 0.0 0.0 0.05413149386540071 0.0 0.0 0.0 0.0 0.0 0.0 0.0 0.0 0.0 0.0 0.0 0.0 0.0 0.0 0.0 0.0 0.060919125239019475 0.0 0.0 0.0 0.0 0.0 0.0 0.0 0.0 0.0 0.0 0.0 0.0 0.0 0.05413149386540071 0.0 0.05413149386540071 0.0 0.0 0.0 0.0 0.0 0.0 0.0 0.0 0.0 0.0 0.05413149386540071 0.0 0.0 0.0 0.0 0.0 0.0 0.0 0.0 0.0 0.05413149386540071 0.0 0.0 0.0 0.0 0.0 0.0 0.0 0.0 0.0 0.0 0.0 0.0 0.0 0.0 0.04931559276428682 0.0 0.0 0.0 0.0 0.0 0.0 0.0 0.0 0.0 0.0 0.0 0.0 0.0 0.0 0.0 0.0 0.0 0.0 0.0 0.0 0.0455800896607325 0.0 0.0 0.0 0.0 0.0 0.0 0.0 0.0 0.0 0.0 0.0 0.0 0.0 0.0 0.0 0.0 0.0 0.0 0.0 0.0 0.05413149386540071 0.0 0.0 0.0 0.0 0.0 0.0 0.0 0.0 0.0 0.0 0.05413149386540071 0.05413149386540071 0.0 0.0 0.0 0.0 0.0 0.0 0.0 0.0 0.0 \n",
      "0.0 0.0 0.0 0.0 0.045239567741729554 0.0 0.0 0.0 0.0 0.0 0.0 0.0 0.0 0.0 0.0 0.0 0.0 0.0 0.0 0.0 0.0 0.0 0.045239567741729554 0.0 0.0 0.0 0.0 0.0 0.0 0.0 0.0 0.0 0.0 0.0 0.03116833184574247 0.0 0.0 0.0 0.0 0.0 0.0 0.0 0.0 0.0 0.0 0.0 0.0 0.0 0.0 0.0 0.0 0.0 0.0558840467798924 0.04965742570285474 0.0 0.0 0.0 0.0 0.0 0.0 0.0 0.0 0.0 0.0558840467798924 0.0 0.0 0.0 0.0 0.0 0.0 0.0 0.0 0.0 0.0 0.04965742570285474 0.0 0.0 0.0 0.0 0.0 0.0 0.0 0.0 0.0 0.0 0.0 0.0 0.04965742570285474 0.0 0.0 0.0 0.0 0.0 0.0 0.0 0.0 0.0 0.0 0.045239567741729554 0.0 0.0 0.0 0.03901294666469188 0.0 0.0 0.0 0.0 0.0 0.0 0.0 0.03116833184574247 0.0 0.0 0.0 0.0 0.0 0.0 0.0 0.0 0.0 0.0 0.0558840467798924 0.0 0.0 0.0 0.0 0.0 0.0 0.0 0.0 0.0 0.0 0.0 0.0 0.0 0.0 0.0 0.0 0.0 0.0 0.0558840467798924 0.0 0.0 0.0 0.0 0.0 0.0 0.0 0.0 0.0 0.0 0.04181281088390532 0.0 0.0 0.0 0.0558840467798924 0.0 0.0 0.0 0.0 0.0 0.0 0.0 0.0 0.0 0.0 0.0 0.0 0.0 0.0 0.0 0.0 0.045239567741729554 0.0 0.0 0.0 0.0 0.0 0.0 0.0 0.0 0.0 0.0 0.0 0.0 0.0 0.0 0.0 0.0 0.0 0.0 0.0558840467798924 0.0 0.0 0.0 0.0 0.0 0.0 0.0 0.0 0.0 0.045239567741729554 0.0 0.0 0.0 0.0 0.0 0.0 0.0 0.0 0.0 0.0 0.0 0.0 0.0 0.0 0.0 0.0 0.045239567741729554 0.0 0.0 0.0 0.0558840467798924 0.0 0.0 0.0 0.0 0.0 0.0 0.0 0.0 0.0 0.0 0.0 0.0 0.0 0.0 0.0 0.0 0.0 0.0 0.0 0.0 0.0 0.0 0.0 0.0 0.0 0.0 0.0 0.0 0.0 0.0 0.0 0.0 0.0 0.0 0.0 0.0 0.0 0.045239567741729554 0.0 0.0 0.0 0.0 0.0 0.0 0.0 0.0 0.0 0.0 0.0 0.0 0.0 0.0 \n",
      "0.0 0.0 0.0 0.0 0.0 0.1500208777690151 0.0 0.0 0.0 0.0 0.0 0.0 0.0 0.0 0.0 0.0 0.0 0.0 0.0 0.0 0.0 0.0 0.0 0.0 0.0 0.0 0.0 0.0 0.0 0.0 0.0 0.0 0.0 0.0 0.0 0.0 0.0 0.0 0.0 0.0 0.0 0.0 0.0 0.0 0.0 0.0 0.0 0.0 0.0 0.0 0.0 0.0 0.0 0.0 0.0 0.0 0.0 0.0 0.0 0.0 0.0 0.0 0.0 0.0 0.0 0.0 0.0 0.0 0.1500208777690151 0.0 0.0 0.0 0.0 0.0 0.0 0.0 0.0 0.0 0.0 0.0 0.0 0.0 0.0 0.0 0.0 0.13330549630797983 0.0 0.0 0.0 0.0 0.0 0.0 0.0 0.0 0.1500208777690151 0.0 0.0 0.0 0.0 0.0 0.0 0.0 0.0 0.0 0.0 0.0 0.0 0.0 0.0 0.0 0.0 0.0 0.0 0.0 0.0 0.0 0.0 0.0 0.0 0.0 0.0 0.0 0.0 0.0 0.0 0.0 0.0 0.0 0.0 0.0 0.0 0.0 0.0 0.0 0.0 0.0 0.0 0.0 0.0 0.0 0.0 0.0 0.0 0.0 0.0 0.0 0.0 0.0 0.0 0.0 0.0 0.0 0.0 0.0 0.13330549630797983 0.0 0.0 0.0 0.0 0.0 0.0 0.0 0.0 0.0 0.0 0.0 0.0 0.0 0.0 0.1500208777690151 0.0 0.0 0.0 0.0 0.0 0.0 0.0 0.0 0.0 0.0 0.0 0.0 0.0 0.0 0.0 0.0 0.0 0.0 0.0 0.0 0.0 0.0 0.0 0.0 0.0 0.0 0.0 0.0 0.0 0.0 0.0 0.0 0.0 0.0 0.0 0.0 0.0 0.0 0.0 0.0 0.0 0.0 0.0 0.0 0.0 0.0 0.0 0.0 0.0 0.0 0.0 0.0 0.0 0.0 0.0 0.0 0.0 0.13330549630797983 0.0 0.0 0.0 0.0 0.0 0.0 0.0 0.0 0.0 0.0 0.0 0.0 0.0 0.0 0.0 0.0 0.0 0.0 0.0 0.0 0.0 0.0 0.0 0.0 0.0 0.0 0.0 0.0 0.0 0.0 0.0 0.0 0.0 0.0 0.0 0.0 0.0 0.0 0.0 0.0 0.0 0.0 0.0 0.0 0.0 0.0 0.0 \n",
      "0.0 0.0 0.0 0.0 0.037113165596375244 0.0 0.0 0.040737441916355734 0.0 0.0 0.0 0.0 0.0 0.037113165596375244 0.032005035022333095 0.0 0.0 0.0 0.0 0.0 0.0 0.0 0.0 0.0 0.0 0.0 0.0 0.0 0.0 0.0 0.0 0.0 0.0 0.0 0.025569551587178635 0.0 0.0 0.0 0.0 0.0 0.0 0.032005035022333095 0.0 0.04584557249039787 0.0 0.0 0.0 0.0 0.0 0.0 0.0 0.0 0.0 0.040737441916355734 0.0 0.040737441916355734 0.0 0.0 0.0 0.0 0.0 0.0 0.0 0.0 0.0 0.0 0.0 0.0 0.0 0.0 0.0 0.0 0.0 0.0 0.0 0.0 0.0 0.0 0.037113165596375244 0.0 0.0 0.0 0.0 0.0 0.0 0.0 0.0 0.0 0.0 0.0 0.0 0.0 0.0 0.0 0.0 0.0 0.0 0.0 0.0 0.0 0.0 0.0 0.0 0.0 0.0 0.0 0.0 0.0 0.037113165596375244 0.032005035022333095 0.0 0.0 0.0 0.0 0.0 0.0 0.0 0.0 0.0 0.0 0.0 0.0 0.0 0.0 0.0 0.0 0.0 0.0 0.0 0.0 0.0 0.0 0.0 0.0 0.0 0.0 0.0 0.0 0.0 0.0 0.0 0.0 0.0 0.0 0.0 0.0 0.0 0.0 0.0 0.0 0.0 0.03430195848120127 0.04584557249039787 0.0 0.0 0.0 0.04584557249039787 0.0 0.0 0.0 0.0 0.0 0.0 0.0 0.0 0.0 0.0 0.0 0.0 0.0 0.0 0.0 0.0 0.0 0.0 0.0 0.040737441916355734 0.0 0.0 0.0 0.0 0.0 0.0 0.0 0.0 0.0 0.0 0.0 0.0 0.0 0.0 0.0 0.0 0.0 0.0 0.0 0.0 0.0 0.0 0.0 0.0 0.0 0.0 0.0 0.0 0.0 0.0 0.0 0.0 0.04584557249039787 0.0 0.0 0.0 0.0 0.0 0.0 0.0 0.0 0.0 0.0 0.0 0.0 0.0 0.0 0.0 0.0 0.0 0.0 0.040737441916355734 0.0 0.0 0.0 0.0 0.0 0.0 0.0 0.0 0.04584557249039787 0.0 0.0 0.0 0.0 0.0 0.0 0.0 0.0537938088965819 0.04584557249039787 0.0 0.0 0.0 0.0 0.0 0.0 0.0 0.04584557249039787 0.0 0.0 0.0 0.0 0.0 0.037113165596375244 0.0 0.0 0.0 0.0 0.0 0.0 0.0 0.0 0.0 0.0 0.03430195848120127 0.0 0.04584557249039787 0.0 \n",
      "0.0 0.0 0.0 0.0 0.0 0.0 0.0 0.0 0.0 0.0 0.0 0.0 0.0 0.0 0.06255603450557205 0.0 0.0 0.0 0.0 0.0 0.0 0.0 0.0 0.0 0.0 0.0 0.0 0.08960831358677793 0.0 0.0 0.0 0.0 0.0 0.0 0.0 0.0 0.0 0.0 0.0 0.0 0.0 0.0 0.0 0.0 0.0 0.0 0.0 0.0 0.0 0.0 0.0 0.0 0.0 0.0 0.0 0.0 0.0 0.0 0.0 0.0 0.0 0.0 0.0 0.0 0.0 0.0 0.0 0.0 0.0 0.07254022581252642 0.0 0.0 0.0 0.0 0.0 0.0 0.0 0.0 0.0 0.0 0.0 0.0 0.0 0.0 0.0 0.0 0.0 0.0 0.0 0.0 0.0 0.0 0.0 0.0 0.0 0.0 0.0 0.0 0.0 0.0 0.0 0.0 0.0 0.0 0.0 0.0 0.0 0.0 0.0 0.0 0.04997744105773984 0.0 0.0 0.0 0.0 0.0 0.0 0.0 0.0 0.0 0.0 0.0 0.08960831358677793 0.0 0.0 0.0 0.0 0.0 0.0 0.0 0.0 0.0 0.0 0.0 0.0 0.0 0.0 0.0 0.08960831358677793 0.0 0.0 0.0 0.0 0.0 0.08960831358677793 0.0 0.0 0.07254022581252642 0.0 0.0 0.07254022581252642 0.0 0.0 0.0 0.0 0.0 0.0 0.0 0.0 0.0 0.0 0.0 0.0 0.0 0.0 0.0 0.0 0.0 0.0 0.0 0.0 0.0 0.0 0.0 0.0 0.07962412227982357 0.0 0.0 0.0 0.0 0.0 0.0 0.0 0.0 0.0 0.0 0.0 0.0 0.0 0.0 0.0 0.0 0.0 0.0 0.0 0.0 0.0 0.0 0.0 0.0 0.0 0.0 0.0 0.0 0.0 0.0 0.0 0.0 0.0 0.0 0.0 0.0 0.0 0.0 0.0 0.0 0.0 0.0 0.0 0.0 0.0 0.0 0.0 0.0 0.0 0.0 0.0 0.0 0.0 0.0 0.0 0.0 0.0 0.0 0.08960831358677793 0.0 0.0 0.0 0.0 0.0 0.0 0.0 0.0 0.0 0.0 0.05257184319861769 0.0 0.0 0.0 0.0 0.0 0.0 0.0 0.0 0.0 0.0 0.0 0.0 0.0 0.0 0.0 0.0 0.0 0.0 0.0 0.0 0.0 0.0 0.0 0.0 0.0 0.0 0.0 0.0 0.08960831358677793 \n",
      "0.0 0.0 0.0 0.0 0.03888539409433997 0.0 0.0 0.0 0.0 0.048034791026930534 0.0 0.0 0.0 0.0 0.0 0.0 0.0 0.03593994617046282 0.0 0.0 0.0 0.0 0.0 0.0 0.0 0.0 0.0 0.0 0.0 0.0 0.0 0.0 0.0 0.048034791026930534 0.02679054923787225 0.0 0.048034791026930534 0.0 0.0 0.0 0.0 0.03353333998456132 0.0 0.0 0.0 0.0 0.0 0.0 0.0 0.0 0.0 0.0 0.0 0.0 0.0 0.0 0.0 0.0 0.0 0.0 0.0 0.0 0.0 0.0 0.0 0.04268273691715188 0.0 0.0 0.0 0.0 0.0 0.0 0.0 0.0 0.0 0.0 0.0 0.04268273691715188 0.0 0.0 0.0 0.0 0.0 0.0 0.0 0.0 0.0 0.0 0.0 0.0 0.0 0.0 0.0 0.0 0.0 0.0 0.0 0.0 0.0 0.0 0.0 0.048034791026930534 0.0 0.0 0.0 0.0 0.0 0.0 0.0 0.0 0.02679054923787225 0.0 0.0 0.0 0.0 0.0 0.0 0.0 0.0 0.0 0.0 0.0 0.0 0.0 0.0 0.0 0.0 0.0 0.0 0.0 0.0 0.0 0.0 0.0 0.0 0.0 0.0 0.0 0.0 0.0 0.0 0.0 0.0 0.0 0.0 0.0 0.0 0.0 0.0 0.0 0.0 0.03593994617046282 0.0 0.0 0.0 0.0 0.0 0.0 0.0 0.0 0.0 0.0 0.0 0.0 0.0 0.0 0.0 0.0 0.0 0.0 0.0 0.0 0.03888539409433997 0.0 0.04268273691715188 0.0 0.0 0.0 0.048034791026930534 0.0 0.0 0.0 0.03888539409433997 0.0 0.0 0.0 0.0 0.0 0.0 0.0 0.0 0.0 0.0 0.0 0.04268273691715188 0.0 0.0 0.048034791026930534 0.0 0.0 0.0 0.0 0.0 0.0 0.0 0.0 0.0 0.0 0.0 0.0 0.048034791026930534 0.0 0.04268273691715188 0.0 0.0 0.0 0.04268273691715188 0.0 0.0 0.0 0.0 0.0 0.0 0.0 0.0 0.0 0.0 0.0 0.0 0.0 0.0 0.0 0.0 0.0 0.0 0.0 0.0 0.0 0.048034791026930534 0.0 0.0 0.0 0.0 0.0 0.0 0.0 0.0 0.0 0.0 0.0 0.048034791026930534 0.0 0.0 0.0 0.0 0.0 0.0 0.0 0.03593994617046282 0.0 0.0 0.0 0.0 0.0 0.0 0.0 0.0 0.0 0.0 0.0 0.0 0.0 0.0 0.0 0.0 \n",
      "0.0 0.042215037558437744 0.0 0.0 0.0 0.0 0.0 0.0 0.04750844612541052 0.0 0.0 0.0 0.0 0.0 0.0 0.0 0.0 0.0 0.0 0.0 0.0 0.042215037558437744 0.03845930441043404 0.0 0.0 0.0 0.04750844612541052 0.0 0.0 0.0 0.0 0.0 0.0 0.0 0.02649698974278942 0.03845930441043404 0.0 0.0 0.0 0.0 0.0 0.0 0.0 0.0 0.0 0.042215037558437744 0.0 0.0 0.0 0.0 0.0 0.0 0.0 0.0 0.0 0.0 0.042215037558437744 0.0 0.04750844612541052 0.0 0.0 0.0 0.0 0.0 0.0 0.0 0.0 0.0 0.0 0.0 0.0 0.0 0.0 0.0 0.0 0.0 0.0 0.0 0.0 0.04750844612541052 0.0 0.0 0.0 0.0 0.0 0.0 0.0 0.0 0.0 0.0 0.0 0.0 0.0 0.0 0.0 0.0 0.0 0.0 0.0 0.0 0.0 0.0 0.0 0.0 0.0 0.0 0.0 0.0 0.0 0.03316589584346126 0.0 0.0 0.0 0.0 0.0 0.0 0.0 0.04750844612541052 0.0 0.0 0.0 0.0 0.0 0.0 0.0 0.0 0.0 0.0 0.0 0.0 0.0 0.0 0.0 0.0 0.03845930441043404 0.0 0.0 0.0 0.0 0.0 0.0 0.0 0.042215037558437744 0.0 0.0 0.0 0.0 0.0 0.0 0.0 0.0 0.0 0.0 0.0 0.0 0.0 0.0 0.0 0.0 0.0 0.0 0.0 0.0 0.0 0.0 0.0 0.0 0.0 0.0 0.0 0.0 0.0 0.0 0.08443007511687549 0.0 0.0 0.0 0.0 0.0 0.0 0.0 0.0 0.0 0.0 0.0 0.0 0.0 0.0 0.0 0.0 0.04750844612541052 0.0 0.0 0.0355461314577659 0.0 0.0 0.0 0.0 0.0 0.0 0.0 0.0 0.0 0.0 0.0 0.0 0.0 0.0 0.0 0.0 0.0 0.03845930441043404 0.0 0.0 0.0 0.0 0.0 0.0 0.0 0.0 0.0 0.0 0.0 0.0 0.0 0.03845930441043404 0.0 0.0 0.0 0.0 0.04750844612541052 0.0 0.0 0.0 0.0 0.0 0.0 0.0 0.0 0.0 0.0 0.0 0.0 0.0 0.0 0.0 0.0 0.0 0.0 0.0 0.0 0.0 0.0 0.0 0.0 0.0 0.0 0.0 0.0 0.0 0.0 0.0 0.0 0.0 0.042215037558437744 0.042215037558437744 0.0 0.0 0.0 0.0 0.0 0.0 0.0 0.0 0.0 \n",
      "0.0 0.0 0.0 0.0 0.0 0.0 0.0 0.0 0.0 0.0 0.0 0.0 0.0 0.0 0.0 0.0 0.0 0.0 0.0 0.0 0.0 0.0 0.0 0.0 0.0 0.0 0.0 0.0 0.0 0.0 0.0 0.0 0.0 0.0 0.0 0.0 0.0 0.0 0.0 0.0 0.0 0.0 0.0 0.0 0.0 0.0 0.0 0.0 0.0 0.0 0.0 0.0 0.0 0.0 0.0 0.0 0.0 0.0 0.0 0.0 0.0 0.0 0.0 0.0 0.0 0.0 0.0 0.0 0.0 0.0 0.0 0.0 0.0 0.0 0.0 0.0 0.0 0.0 0.0 0.0 0.0 0.0 0.0 0.0 0.0 0.0 0.1902646363232943 0.0 0.0 0.0 0.0 0.0 0.0 0.0 0.0 0.0 0.0 0.15402409810630008 0.0 0.0 0.0 0.0 0.0 0.0 0.0 0.0 0.0 0.0 0.0 0.0 0.10611671246341622 0.0 0.0 0.0 0.0 0.0 0.0 0.0 0.0 0.0 0.0 0.0 0.0 0.0 0.0 0.0 0.0 0.0 0.0 0.0 0.0 0.0 0.0 0.0 0.0 0.0 0.0 0.0 0.0 0.0 0.0 0.0 0.0 0.0 0.0 0.0 0.0 0.0 0.0 0.0 0.0 0.0 0.0 0.0 0.0 0.0 0.0 0.0 0.0 0.0 0.0 0.0 0.1902646363232943 0.0 0.0 0.0 0.0 0.0 0.0 0.0 0.0 0.0 0.0 0.0 0.0 0.0 0.0 0.0 0.0 0.0 0.0 0.0 0.0 0.0 0.0 0.0 0.0 0.0 0.0 0.0 0.0 0.0 0.0 0.0 0.0 0.0 0.0 0.0 0.0 0.0 0.0 0.0 0.0 0.0 0.0 0.0 0.0 0.0 0.0 0.0 0.0 0.0 0.0 0.0 0.1902646363232943 0.0 0.0 0.0 0.0 0.0 0.0 0.0 0.0 0.0 0.0 0.0 0.0 0.0 0.0 0.0 0.0 0.0 0.0 0.0 0.0 0.0 0.0 0.0 0.0 0.0 0.0 0.0 0.0 0.0 0.0 0.0 0.0 0.0 0.0 0.0 0.0 0.0 0.0 0.16906528046040073 0.0 0.0 0.0 0.0 0.0 0.0 0.0 0.0 0.0 0.0 0.0 0.0 0.0 0.0 0.0 0.0 0.0 0.0 0.0 0.0 0.0 \n",
      "0.0 0.0 0.0 0.0 0.0 0.0 0.0 0.0 0.0 0.0 0.0 0.0 0.08199981987046094 0.0 0.0 0.0 0.0 0.06135280385585002 0.0 0.0 0.08199981987046094 0.0 0.0 0.0 0.0 0.0 0.0 0.0 0.0 0.0 0.0 0.0 0.0 0.0 0.0 0.0 0.0 0.0 0.0 0.0 0.0 0.0 0.0 0.0 0.06135280385585002 0.0 0.0572445050681563 0.0 0.0 0.0 0.0 0.0 0.0 0.0 0.0 0.0 0.0 0.0 0.0 0.0 0.08199981987046094 0.0 0.08199981987046094 0.0 0.0 0.0 0.0 0.0 0.0 0.0 0.0 0.0 0.0 0.0 0.0 0.0 0.0 0.0 0.0 0.0 0.0 0.0 0.0 0.0 0.0 0.0 0.0 0.0 0.0 0.0 0.0 0.0 0.0 0.0 0.0 0.0 0.0 0.0 0.0 0.0 0.0 0.0 0.0 0.0 0.0 0.0 0.0 0.0 0.0 0.0 0.0 0.0 0.07286336973595822 0.0 0.0 0.0 0.0 0.0 0.0 0.0 0.0 0.0 0.0 0.0 0.0 0.0 0.0 0.0 0.0 0.0 0.0 0.0 0.0 0.0 0.0 0.0 0.0 0.0 0.0 0.0 0.0 0.0 0.0 0.0 0.0 0.0 0.0 0.0 0.0 0.0 0.0 0.0 0.0 0.0 0.0 0.0 0.0 0.0 0.0 0.0 0.0 0.0 0.0 0.0 0.0 0.0 0.0 0.0 0.0 0.0 0.0 0.0 0.0 0.0 0.0 0.0 0.0 0.0 0.0 0.0 0.0 0.0 0.0 0.0 0.0 0.0 0.07286336973595822 0.0 0.0 0.0 0.0 0.0 0.08199981987046094 0.0 0.0 0.0 0.07286336973595822 0.0 0.0 0.0 0.0 0.0 0.0 0.0 0.0 0.0 0.0 0.0 0.0 0.0 0.0 0.0 0.0 0.0 0.0 0.0 0.0 0.0 0.0 0.0 0.0 0.0 0.0 0.0 0.0 0.0 0.0 0.0 0.0 0.0 0.0 0.0 0.06135280385585002 0.0 0.0 0.0 0.0 0.0 0.0 0.0 0.0 0.0 0.0 0.0 0.0 0.04810805493365357 0.0 0.0 0.0 0.0 0.0 0.0 0.0 0.0 0.0 0.0 0.0 0.0 0.0 0.0 0.0 0.0 0.0 0.0 0.0 0.0 0.0 0.0 0.0 0.0 0.08199981987046094 0.0 0.0 0.0 0.0 \n",
      "0.0 0.0 0.0 0.0 0.0 0.0 0.13894291055872426 0.0 0.0 0.0 0.0 0.0 0.0 0.0 0.0 0.0 0.0 0.0 0.0 0.0 0.0 0.0 0.0 0.0 0.0 0.0 0.0 0.0 0.0 0.0 0.0 0.0 0.0 0.0 0.0 0.0 0.0 0.18570127071717524 0.0 0.0 0.0 0.0 0.0 0.0 0.0 0.0 0.0 0.0 0.0 0.0 0.0 0.0 0.0 0.0 0.0 0.0 0.0 0.0 0.0 0.0 0.0 0.0 0.0 0.0 0.0 0.0 0.0 0.0 0.0 0.0 0.0 0.0 0.0 0.0 0.0 0.0 0.0 0.0 0.0 0.0 0.0 0.0 0.0 0.0 0.0 0.0 0.0 0.0 0.0 0.0 0.0 0.0 0.0 0.0 0.0 0.0 0.0 0.0 0.0 0.0 0.0 0.0 0.0 0.0 0.0 0.0 0.0 0.0 0.0 0.0 0.0 0.0 0.0 0.0 0.0 0.0 0.0 0.0 0.0 0.0 0.18570127071717524 0.0 0.0 0.0 0.0 0.0 0.0 0.0 0.0 0.0 0.0 0.0 0.0 0.0 0.0 0.0 0.0 0.0 0.0 0.0 0.0 0.0 0.0 0.0 0.0 0.0 0.0 0.0 0.0 0.0 0.0 0.0 0.0 0.0 0.0 0.0 0.0 0.0 0.0 0.0 0.0 0.0 0.0 0.0 0.0 0.0 0.0 0.16501036673102573 0.0 0.0 0.0 0.0 0.0 0.0 0.0 0.0 0.0 0.0 0.0 0.0 0.0 0.0 0.0 0.0 0.0 0.0 0.0 0.0 0.0 0.0 0.0 0.0 0.0 0.13894291055872426 0.0 0.0 0.0 0.0 0.0 0.0 0.0 0.0 0.0 0.18570127071717524 0.0 0.0 0.0 0.0 0.0 0.0 0.0 0.0 0.0 0.0 0.0 0.0 0.0 0.0 0.0 0.0 0.0 0.0 0.0 0.0 0.0 0.0 0.0 0.0 0.0 0.0 0.0 0.0 0.0 0.0 0.0 0.0 0.0 0.0 0.0 0.0 0.0 0.0 0.0 0.0 0.0 0.0 0.0 0.0 0.0 0.0 0.0 0.0 0.0 0.0 0.0 0.0 0.0 0.0 0.0 0.0 0.0 0.0 0.0 0.0 0.0 0.0 0.0 0.0 0.0 0.0 0.0 0.0 0.0 0.0 0.0 \n",
      "0.0 0.0 0.0 0.06645287244647621 0.0 0.0 0.0 0.0 0.0 0.0 0.0 0.0 0.0 0.0 0.0 0.0 0.0 0.0 0.0 0.0 0.0 0.0 0.0 0.0 0.0 0.0 0.0 0.0 0.0 0.0 0.0 0.06645287244647621 0.0 0.0 0.0 0.0 0.0 0.0 0.0 0.0 0.0 0.0 0.0 0.0 0.0 0.0 0.04639109938979514 0.0 0.0 0.0 0.0 0.0 0.0 0.0 0.0 0.0 0.0 0.05904866892065344 0.0 0.0 0.0 0.0 0.0 0.0 0.0 0.0 0.0 0.0 0.0 0.0 0.0 0.0 0.0 0.06645287244647621 0.0 0.0 0.0 0.0 0.053795302915617925 0.0 0.0 0.0 0.0 0.0 0.0 0.0 0.0 0.0 0.0 0.0 0.0 0.0 0.0 0.0 0.0 0.0 0.0 0.0 0.053795302915617925 0.0 0.0 0.0 0.04639109938979514 0.0 0.0 0.0 0.0 0.0 0.0 0.0 0.037062906139786085 0.0 0.0 0.0 0.0 0.0 0.0 0.0 0.0 0.0 0.0 0.0 0.0 0.0 0.06645287244647621 0.0 0.0 0.0 0.0 0.0 0.0 0.0 0.0 0.05904866892065344 0.0 0.0 0.0 0.0 0.0 0.0 0.0 0.0 0.0 0.0 0.0 0.0 0.0 0.0 0.0 0.0 0.053795302915617925 0.0 0.0 0.0 0.0 0.0 0.0 0.05904866892065344 0.0 0.0 0.0 0.0 0.0 0.0 0.0 0.0 0.0 0.0 0.0 0.0 0.0 0.0 0.0 0.0 0.0 0.0 0.0 0.0 0.0 0.0 0.0 0.0 0.0 0.0 0.0 0.0 0.0 0.0 0.0 0.0 0.0 0.0 0.0 0.0 0.0 0.0 0.0 0.0 0.0 0.0 0.0 0.0 0.0 0.0 0.0 0.0 0.0 0.0 0.0 0.0 0.0 0.0 0.0 0.0 0.0 0.0 0.0 0.0 0.0 0.0 0.0 0.0 0.0 0.0 0.0 0.0 0.0 0.0 0.0 0.0 0.0 0.0 0.0 0.0 0.0 0.0 0.0 0.0 0.0 0.0 0.0 0.0 0.06645287244647621 0.0 0.06645287244647621 0.0 0.0 0.0 0.0 0.0 0.0 0.0 0.0 0.0 0.0 0.0 0.0 0.0 0.0 0.0 0.0 0.0 0.0 0.0 0.0 0.0 0.0 0.0 0.06645287244647621 0.06645287244647621 0.0 0.0 0.0 0.0 0.0 \n",
      "0.0 0.0 0.0 0.0 0.0 0.0 0.0 0.0 0.0 0.0 0.0 0.0 0.0 0.0 0.0 0.0 0.0 0.0 0.0 0.0 0.0 0.0 0.0 0.0 0.0 0.0 0.0 0.0 0.0 0.0 0.0 0.0 0.0 0.0 0.0 0.0 0.0 0.0 0.0 0.13429467148747315 0.0 0.0 0.0 0.0 0.10048015534269292 0.0 0.0 0.0 0.0 0.0 0.0 0.0 0.0 0.0 0.0 0.0 0.0 0.0 0.0 0.0 0.0 0.0 0.0 0.0 0.0 0.0 0.0 0.0 0.0 0.0 0.0 0.0 0.0 0.0 0.0 0.0 0.0 0.0 0.0 0.0 0.0 0.0 0.0 0.0 0.13429467148747315 0.0 0.0 0.0 0.0 0.0 0.0 0.0 0.0 0.0 0.0 0.0 0.0 0.0 0.0 0.0 0.0 0.0 0.0 0.0 0.0 0.0 0.0 0.0 0.0 0.0 0.0 0.0 0.0 0.0 0.0 0.0 0.0 0.0 0.0 0.0 0.0 0.0 0.0 0.0 0.0 0.0 0.0 0.0 0.0 0.0 0.0 0.0 0.0 0.0 0.0 0.0 0.0 0.0 0.0 0.0 0.0 0.0 0.0 0.0 0.0 0.0 0.13429467148747315 0.0 0.0 0.0 0.0 0.0 0.0 0.0 0.0 0.0 0.0 0.0 0.0 0.0 0.0 0.0 0.0 0.0 0.0 0.0 0.0 0.0 0.0 0.0 0.0 0.0 0.0 0.0 0.0 0.0 0.0 0.0 0.0 0.0 0.0 0.0 0.0 0.11933150972305663 0.0 0.0 0.0 0.0 0.0 0.0 0.0 0.0 0.0 0.0 0.0 0.0 0.0 0.0 0.0 0.0 0.0 0.0 0.0 0.0 0.0 0.0 0.0 0.13429467148747315 0.0 0.0 0.0 0.10871497749688476 0.0 0.0 0.0 0.0 0.0 0.0 0.0 0.0 0.0 0.0 0.0 0.0 0.0 0.0 0.0 0.0 0.0 0.0 0.0 0.0 0.0 0.0 0.0 0.0 0.0 0.0 0.0 0.0 0.0 0.0 0.0 0.0 0.0 0.0 0.0 0.0 0.0 0.0 0.0 0.0 0.0 0.0 0.0 0.0 0.0 0.0 0.0 0.13429467148747315 0.0 0.0 0.0 0.0 0.0 0.0 0.0 0.0 0.0 0.0 0.0 0.0 0.0 0.0 0.0 \n",
      "0.0 0.0 0.0 0.0 0.0 0.0 0.0 0.0 0.0 0.0 0.0 0.03801104916963443 0.0 0.0 0.0 0.0 0.0 0.0 0.0 0.0 0.0 0.0 0.0 0.0 0.0 0.03801104916963443 0.0 0.0 0.0 0.0 0.0 0.0 0.0 0.0 0.06359995719298626 0.06154183646065585 0.0 0.0 0.03801104916963443 0.0 0.0 0.0 0.0 0.0 0.0 0.0 0.0 0.0 0.03801104916963443 0.0 0.0 0.0 0.0 0.0 0.0 0.0 0.0 0.03377584406982908 0.0 0.0 0.0 0.0 0.0 0.0 0.0 0.0 0.0 0.0 0.0 0.0 0.0 0.0 0.03801104916963443 0.0 0.0 0.0 0.0 0.03377584406982908 0.0 0.0 0.0 0.0 0.0 0.0 0.0 0.0 0.0 0.0 0.0 0.0 0.0 0.0 0.0 0.03801104916963443 0.0 0.0 0.0 0.0 0.0 0.0 0.0 0.0 0.0 0.0 0.0 0.0 0.0 0.0 0.0 0.0 0.02119998573099542 0.0 0.0 0.0 0.0 0.0 0.0 0.0 0.06755168813965816 0.0 0.0 0.0 0.0 0.0 0.0 0.0 0.0 0.0 0.0 0.0 0.0 0.0 0.03801104916963443 0.0 0.030770918230327925 0.0 0.0 0.0 0.0 0.0 0.0 0.0 0.0 0.0 0.0 0.0 0.0 0.0 0.0 0.0 0.0 0.0 0.0 0.0 0.0 0.0 0.0 0.0 0.0 0.0 0.0 0.0 0.0 0.0 0.0 0.0 0.0 0.0 0.0 0.0 0.0 0.0 0.0 0.0 0.0 0.0 0.0 0.0 0.0 0.0 0.0 0.0 0.030770918230327925 0.0 0.0 0.03801104916963443 0.0 0.0 0.0 0.0 0.0 0.0 0.0 0.0 0.0 0.0 0.0 0.0 0.0 0.0 0.0 0.0 0.0 0.0 0.0 0.0 0.03801104916963443 0.0 0.0 0.0 0.0 0.0 0.03377584406982908 0.03801104916963443 0.0 0.0 0.0 0.0 0.0 0.0 0.0 0.0 0.0 0.0 0.0 0.06154183646065585 0.0 0.06755168813965816 0.0 0.0 0.0 0.0 0.0 0.0 0.0 0.0 0.0 0.0 0.0 0.0 0.0 0.0 0.0 0.03801104916963443 0.0 0.0 0.0 0.0 0.0 0.03801104916963443 0.0 0.0 0.0 0.0 0.0 0.0 0.0 0.0 0.0 0.0 0.0 0.03801104916963443 0.0 0.0 0.0 0.0 0.0 0.0 0.0 0.0 0.0 0.0 0.0 0.0 0.0 \n",
      "0.0 0.0 0.0 0.0 0.0 0.0 0.0 0.0 0.0 0.0 0.0 0.0 0.0 0.0 0.0 0.0 0.0 0.0 0.0 0.0 0.0 0.0 0.0 0.0 0.08310481788220571 0.0 0.0 0.0 0.0 0.0 0.0 0.0 0.0 0.0 0.0 0.0 0.0 0.0 0.0 0.0 0.0 0.0 0.0 0.0 0.0 0.0 0.0 0.0 0.0 0.0 0.06727547940566986 0.0 0.0 0.0 0.0 0.0 0.0 0.0 0.0 0.0 0.0 0.0 0.0 0.0 0.0 0.0 0.08310481788220571 0.0 0.0 0.0 0.0 0.0 0.0 0.0 0.0 0.0 0.0 0.0 0.0 0.0 0.0 0.0 0.0 0.0 0.0 0.0 0.0 0.0 0.0 0.0 0.0 0.0 0.0 0.0 0.0 0.0 0.0 0.0 0.0 0.0 0.0 0.0 0.0 0.0 0.0 0.0 0.0 0.0 0.0 0.0 0.0 0.08310481788220571 0.0 0.0 0.08310481788220571 0.0 0.0 0.0 0.0 0.0 0.0 0.0 0.0 0.0 0.0 0.0 0.08310481788220571 0.0 0.0 0.0 0.0 0.0 0.0 0.0 0.0 0.0 0.0 0.0 0.0 0.0 0.0 0.0 0.0 0.0 0.0 0.0 0.0 0.06727547940566986 0.0 0.0 0.0 0.0 0.0 0.0 0.0 0.0 0.0 0.0 0.0 0.0 0.0 0.0 0.0 0.0 0.07384524846220968 0.0 0.0 0.0 0.0 0.0 0.0 0.08310481788220571 0.0 0.0 0.0 0.0 0.0 0.0 0.0 0.0 0.0 0.0 0.0 0.0 0.0 0.0 0.0 0.0 0.0 0.0 0.0 0.0 0.0 0.0 0.0 0.0 0.0 0.0 0.0 0.0 0.0 0.0 0.0 0.0 0.0 0.0 0.0 0.0 0.0 0.0 0.0 0.0 0.0 0.0 0.0 0.0 0.0 0.0 0.0 0.0 0.0 0.0 0.0 0.0 0.0 0.0 0.0 0.0 0.0 0.0 0.0 0.0 0.062179570626591456 0.0 0.0 0.0 0.07384524846220968 0.0 0.0 0.0 0.0 0.07384524846220968 0.0 0.0 0.0 0.0 0.0 0.0 0.0 0.0 0.0 0.0 0.0 0.0 0.0 0.0 0.0 0.0 0.0 0.0 0.0 0.0 0.0 0.0 0.0 0.0 0.0 0.0 0.0 0.0 0.0 0.0 0.08310481788220571 0.0 0.0 \n",
      "0.0 0.0 0.0 0.0 0.0 0.0 0.0 0.0 0.0 0.0 0.0 0.0 0.0 0.0 0.0 0.0 0.0 0.0 0.0 0.0 0.0 0.0 0.0 0.0 0.0 0.0 0.0 0.0 0.0 0.0 0.0 0.0 0.0 0.0 0.0 0.0 0.0 0.0 0.0 0.0 0.0 0.0 0.0 0.0 0.0 0.0 0.0 0.0 0.0 0.0 0.0 0.0 0.0 0.0 0.0 0.0 0.0 0.0 0.0 0.0 0.0 0.0 0.0 0.0 0.0 0.0 0.0 0.0 0.0 0.0 0.0 0.0 0.0 0.0 0.0 0.0 0.0 0.0 0.0 0.0 0.0 0.0 0.0 0.0 0.0 0.0 0.0 0.0 0.0 0.0 0.0 0.0 0.0 0.0 0.0 0.0 0.0 0.0 0.0 0.0 0.0 0.0 0.0 0.0 0.125 0.0 0.125 0.0 0.0 0.0 0.0 0.0 0.0 0.0 0.0 0.0 0.0 0.0 0.0 0.0 0.0 0.0 0.0 0.0 0.0 0.0 0.0 0.0 0.0 0.0 0.0 0.0 0.0 0.0 0.0 0.0 0.0 0.0 0.0 0.0 0.0 0.125 0.0 0.0 0.0 0.0 0.0 0.0 0.0 0.0 0.0 0.0 0.0 0.0 0.0 0.0 0.0 0.0 0.0 0.0 0.0 0.0 0.0 0.0 0.0 0.0 0.0 0.0 0.0 0.0 0.125 0.0 0.0 0.0 0.0 0.0 0.0 0.0 0.0 0.0 0.0 0.125 0.0 0.0 0.0 0.0 0.0 0.0 0.0 0.0 0.0 0.0 0.0 0.0 0.0 0.0 0.0 0.0 0.0 0.0 0.0 0.0 0.0 0.0 0.0 0.0 0.0 0.0 0.0 0.0 0.0 0.0 0.0 0.0 0.0 0.0 0.0 0.0 0.0 0.125 0.0 0.0 0.0 0.0 0.0 0.0 0.0 0.0 0.0 0.0 0.0 0.125 0.0 0.0 0.0 0.0 0.0 0.0 0.0 0.0 0.0 0.0 0.0 0.0 0.0 0.0 0.0 0.0 0.0 0.0 0.0 0.0 0.0 0.0 0.0 0.0 0.0 0.0 0.0 0.0 0.0 0.0 0.0 0.0 0.0 0.0 0.0 0.125 0.0 0.0 0.0 0.0 0.0 0.0 0.0 \n",
      "0.0 0.0 0.0 0.0 0.0 0.0 0.0 0.0 0.0 0.0 0.0 0.0 0.0 0.0 0.0 0.0 0.037054961473421306 0.0 0.0 0.037054961473421306 0.0 0.0 0.0 0.0 0.0 0.0 0.0 0.0 0.0 0.0 0.037054961473421306 0.0 0.0 0.0 0.0 0.0 0.0 0.0 0.0 0.0 0.0 0.0 0.0 0.0 0.027724765575782198 0.0 0.0 0.02999694074315299 0.0 0.037054961473421306 0.0 0.0 0.0 0.0 0.0 0.0 0.0 0.0 0.0 0.0 0.0 0.0 0.0 0.0 0.037054961473421306 0.0 0.0 0.0 0.0 0.0 0.0 0.0 0.0 0.0 0.0 0.0 0.0 0.0 0.0 0.0 0.0 0.0 0.0 0.03292628401690179 0.0 0.0 0.0 0.0 0.03292628401690179 0.0 0.037054961473421306 0.0 0.0 0.0 0.0 0.0 0.0 0.0 0.02999694074315299 0.037054961473421306 0.037054961473421306 0.0 0.0 0.037054961473421306 0.0 0.0 0.0 0.0 0.0 0.0 0.0 0.0 0.0 0.0 0.0 0.0 0.0 0.0 0.0 0.0 0.0 0.0 0.0 0.0 0.0 0.037054961473421306 0.0 0.0 0.0 0.0 0.0 0.0 0.0 0.0 0.0 0.0 0.02999694074315299 0.0 0.0 0.0 0.0 0.0 0.0 0.0 0.0 0.0 0.0 0.0 0.0 0.0 0.0 0.0 0.0 0.0 0.0 0.0 0.0 0.0 0.0 0.0 0.0 0.0 0.0 0.0 0.0 0.0 0.037054961473421306 0.0 0.0 0.0 0.0 0.0 0.0 0.0 0.0 0.0 0.0 0.037054961473421306 0.0 0.0 0.0 0.0 0.0 0.0 0.0 0.0 0.0 0.0 0.0 0.0 0.0 0.0 0.0 0.0 0.0 0.037054961473421306 0.0 0.0 0.0 0.0 0.0 0.0 0.0 0.0 0.0 0.0 0.0 0.0 0.0 0.0 0.0 0.0 0.0 0.0 0.0 0.037054961473421306 0.0 0.0 0.0 0.0 0.0 0.0 0.0 0.0 0.037054961473421306 0.0 0.0 0.0 0.0 0.0 0.0 0.0 0.0 0.0 0.0 0.037054961473421306 0.0 0.0 0.0 0.03292628401690179 0.0 0.0 0.0 0.0 0.0 0.02173958583011395 0.0 0.037054961473421306 0.0 0.0 0.0 0.037054961473421306 0.0 0.0 0.0 0.0 0.0 0.037054961473421306 0.027724765575782198 0.0 0.02999694074315299 0.0 0.0 0.0 0.0 0.0 0.0 0.0 0.0 0.0 0.0 0.0 0.0 0.0 0.0 \n",
      "0.0 0.0 0.0 0.0 0.0 0.0 0.0 0.0 0.0 0.0 0.0 0.0 0.0 0.13283289771752324 0.0 0.0 0.0 0.0 0.0 0.0 0.0 0.0 0.0 0.0 0.0 0.0 0.0 0.0 0.0 0.0 0.0 0.0 0.0 0.0 0.0 0.0 0.0 0.0 0.0 0.0 0.0 0.0 0.0 0.0 0.0 0.0 0.0 0.0 0.0 0.0 0.0 0.0 0.0 0.0 0.0 0.0 0.0 0.0 0.0 0.0 0.0 0.0 0.0 0.0 0.0 0.0 0.0 0.0 0.0 0.0 0.0 0.0 0.0 0.0 0.0 0.0 0.0 0.0 0.0 0.0 0.0 0.0 0.0 0.0 0.0 0.0 0.0 0.0 0.0 0.0 0.0 0.0 0.0 0.0 0.0 0.0 0.0 0.0 0.0 0.0 0.0 0.0 0.0 0.0 0.0 0.1640873297537598 0.0 0.0 0.0 0.0 0.0 0.0 0.0 0.0 0.0 0.0 0.0 0.0 0.0 0.0 0.0 0.0 0.0 0.0 0.0 0.0 0.0 0.0 0.0 0.1640873297537598 0.0 0.0 0.0 0.0 0.0 0.0 0.0 0.0 0.0 0.0 0.0 0.0 0.0 0.0 0.0 0.0 0.0 0.13283289771752324 0.0 0.0 0.0 0.0 0.0 0.0 0.0 0.0 0.0 0.0 0.0 0.0 0.0 0.0 0.0 0.0 0.0 0.0 0.0 0.0 0.0 0.0 0.0 0.0 0.0 0.0 0.0 0.0 0.0 0.0 0.0 0.0 0.0 0.0 0.0 0.0 0.0 0.0 0.0 0.0 0.0 0.0 0.0 0.0 0.0 0.0 0.0 0.0 0.0 0.0 0.0 0.0 0.0 0.0 0.0 0.0 0.0 0.0 0.0 0.0 0.0 0.0 0.0 0.0 0.0 0.0 0.0 0.0 0.0 0.0 0.0 0.0 0.0 0.0 0.0 0.1640873297537598 0.0 0.0 0.0 0.0 0.0 0.0 0.0 0.0 0.0 0.0 0.0 0.0 0.14580465903122344 0.0 0.0 0.0 0.0 0.0 0.0 0.0 0.0 0.09626755627245051 0.0 0.0 0.0 0.0 0.0 0.0 0.0 0.0 0.0 0.0 0.0 0.0 0.0 0.0 0.0 0.0 0.0 0.0 0.0 0.0 0.0 0.0 0.0 0.0 0.0 0.0 0.0 0.0 0.0 \n",
      "0.0 0.0 0.0 0.0 0.0 0.0 0.0 0.0 0.0 0.0 0.0 0.0 0.0 0.0 0.08173933905842498 0.0 0.0 0.0 0.0 0.0 0.0 0.0 0.0 0.0 0.0 0.0 0.0 0.0 0.10404149143565461 0.0 0.0 0.0 0.0 0.0 0.0 0.0 0.0 0.0 0.0 0.0 0.0 0.0 0.11708741426170313 0.0 0.0 0.0 0.08173933905842498 0.0 0.0 0.0 0.0 0.0 0.0 0.0 0.0 0.0 0.0 0.0 0.0 0.0 0.0 0.0 0.0 0.0 0.0 0.0 0.0 0.0 0.0 0.0 0.0 0.0 0.0 0.0 0.0 0.0 0.0 0.0 0.0 0.0 0.0 0.0 0.0 0.0 0.0 0.0 0.0 0.0 0.0 0.0 0.0 0.0 0.0 0.0 0.0 0.0 0.0 0.0 0.0 0.0 0.0 0.0 0.0 0.0 0.0 0.0 0.0 0.0 0.0 0.0 0.06530342008055467 0.0 0.0 0.0 0.0 0.0 0.0 0.0 0.0 0.0 0.0 0.0 0.0 0.0 0.0 0.0 0.0 0.0 0.0 0.0 0.0 0.0 0.0 0.0 0.0 0.0 0.0 0.0 0.0 0.0 0.0 0.0 0.0 0.0 0.0 0.0 0.0 0.0 0.0 0.0 0.0947852618844735 0.0 0.0 0.0 0.0 0.0 0.0 0.0 0.0 0.0 0.11708741426170313 0.0 0.0 0.0 0.0 0.0 0.0 0.10404149143565461 0.0 0.0 0.0 0.0 0.0 0.0 0.0 0.0 0.0 0.0 0.0 0.0 0.0 0.0 0.0 0.0 0.11708741426170313 0.0 0.0 0.0 0.0 0.0 0.0 0.0 0.0 0.0 0.0 0.0 0.0 0.0 0.0 0.0 0.0 0.0 0.0 0.0 0.0 0.0 0.0 0.0 0.0 0.0 0.0 0.0 0.0 0.0 0.0 0.0 0.0 0.0 0.0 0.0 0.0 0.0 0.0 0.0 0.0 0.0 0.0 0.0 0.0 0.0 0.0 0.0 0.0 0.0 0.0 0.0 0.0 0.0 0.0 0.0 0.0 0.0 0.0 0.0 0.0 0.0 0.0 0.0 0.0 0.0 0.0 0.0 0.0 0.0 0.0 0.0 0.0 0.0 0.0 0.0 0.0 0.0 0.0 0.0 0.0 0.0 0.11708741426170313 0.0 0.0 0.0 0.0 0.0 0.0 0.0 0.0 \n",
      "0.0 0.0 0.0 0.0 0.0 0.0 0.05637864336290832 0.0 0.0 0.0 0.0 0.0 0.0 0.0 0.0 0.0 0.0 0.0 0.0 0.0 0.0 0.0 0.060999138820989035 0.0 0.0 0.0 0.0 0.0 0.0 0.0 0.0 0.0 0.0 0.0 0.0 0.0 0.0 0.0 0.0 0.0 0.0 0.0 0.0 0.0 0.0 0.0 0.05260342368877817 0.0 0.0 0.0 0.060999138820989035 0.06695599350626291 0.0 0.0 0.0 0.0 0.0 0.0 0.0 0.0 0.0 0.0 0.0 0.0 0.0 0.0 0.0 0.0 0.0 0.0 0.07535170863847376 0.0 0.0 0.0 0.0 0.0 0.0 0.0 0.0 0.0 0.0 0.0 0.0 0.0 0.0 0.0 0.0 0.0 0.0 0.0 0.0 0.0 0.0 0.0 0.0 0.0 0.0 0.0 0.0 0.0 0.0 0.0 0.05260342368877817 0.0 0.0 0.0 0.0 0.0 0.0 0.0 0.0 0.0 0.0 0.0 0.0 0.07535170863847376 0.0 0.0 0.0 0.07535170863847376 0.0 0.0 0.0 0.0 0.0 0.0 0.0 0.0 0.0 0.0 0.0 0.0 0.0 0.0 0.0 0.0 0.0 0.0 0.0 0.0 0.0 0.0 0.0 0.0 0.0 0.0 0.0 0.0 0.0 0.0 0.0 0.0 0.0 0.0 0.0 0.0 0.0 0.0 0.0 0.0 0.0 0.07535170863847376 0.0 0.0 0.0 0.0 0.0 0.0 0.0 0.0 0.0 0.0 0.0 0.0 0.0 0.0 0.0 0.0 0.0 0.0 0.07535170863847376 0.0 0.0 0.0 0.0 0.0 0.0 0.0 0.0 0.0 0.0 0.0 0.0 0.0 0.0 0.0 0.0 0.0 0.07535170863847376 0.0 0.0 0.060999138820989035 0.0 0.0 0.0 0.0 0.0 0.0 0.0 0.0 0.0 0.0 0.0 0.0 0.0 0.0 0.0 0.0 0.060999138820989035 0.0 0.0 0.0 0.0 0.0 0.0 0.0 0.0 0.0 0.0 0.0 0.0 0.0 0.0 0.0 0.0 0.0 0.0 0.0 0.0 0.0 0.07535170863847376 0.0 0.0 0.0 0.0 0.0 0.0 0.0 0.0 0.0 0.0 0.0 0.0 0.0 0.0 0.0 0.0 0.0 0.0 0.0 0.0 0.0 0.0 0.0 0.0 0.0 0.0 0.0 0.0 0.0 0.0 0.0 0.0 0.0 0.0 \n",
      "0.0 0.0 0.0 0.0 0.0 0.0 0.0 0.0 0.0 0.0 0.0 0.0 0.0 0.0 0.059891879363540845 0.0 0.0 0.0 0.08579204787719727 0.0 0.0 0.0 0.0 0.0 0.0 0.0 0.0 0.0 0.0 0.0 0.0 0.0 0.0 0.0 0.04784898682255843 0.0 0.0 0.0 0.0 0.0 0.0 0.0 0.0 0.0 0.0 0.0 0.0 0.0 0.0 0.0 0.0 0.0 0.0 0.0 0.0 0.0 0.0 0.0 0.0 0.0 0.0 0.0 0.0 0.0 0.0 0.07623306630132132 0.0 0.0 0.0 0.06945086093941681 0.0 0.0 0.0 0.0 0.0 0.0 0.0 0.0 0.06945086093941681 0.0 0.0 0.0 0.0 0.0 0.0 0.0 0.0 0.0 0.0 0.0 0.0 0.0 0.0 0.0 0.0 0.0 0.0 0.0 0.0 0.0 0.0 0.0 0.0 0.0 0.0 0.0 0.0 0.0 0.0 0.0 0.04784898682255843 0.0 0.0 0.0 0.0 0.0 0.0 0.0 0.0 0.0 0.0 0.0 0.0 0.08579204787719727 0.0 0.0 0.0 0.08579204787719727 0.0 0.0 0.0 0.0 0.0 0.0 0.0 0.08579204787719727 0.0 0.0 0.0 0.0 0.0 0.0 0.0 0.0 0.0 0.0 0.0 0.0 0.0 0.0 0.0 0.06419017376033889 0.0 0.0 0.07623306630132132 0.0 0.0 0.0 0.0 0.0 0.0 0.0 0.0 0.0 0.0 0.0 0.0 0.0 0.0 0.0 0.0 0.0 0.06945086093941681 0.0 0.0 0.0 0.0 0.0 0.0 0.0 0.0 0.0 0.0 0.07623306630132132 0.0 0.0 0.0 0.0 0.0 0.0 0.0 0.0 0.0 0.0 0.0 0.0 0.0 0.0 0.0 0.0 0.0 0.0 0.0 0.0 0.0 0.0 0.0 0.0 0.0 0.0 0.0 0.0 0.0 0.0 0.0 0.0 0.0 0.0 0.0 0.0 0.0 0.0 0.0 0.0 0.0 0.0 0.0 0.0 0.0 0.0 0.0 0.0 0.0 0.0 0.0 0.0 0.0 0.0 0.0 0.0 0.0 0.0 0.0 0.0 0.0 0.0 0.0 0.0 0.0 0.0 0.0 0.0 0.0 0.0 0.0 0.0 0.0 0.0 0.0 0.0 0.0 0.0 0.0 0.0 0.0 0.0 0.0 0.0 0.0 0.0 0.0 0.0 0.0 0.0 0.0 \n",
      "0.059433888443716144 0.0 0.0 0.0 0.0 0.0 0.04446882573447402 0.0 0.0 0.0 0.0 0.0 0.0 0.04811325552342311 0.041491109780622246 0.0 0.0 0.0 0.0 0.0 0.0 0.0 0.0 0.059433888443716144 0.0 0.0 0.0 0.0 0.0 0.0 0.0 0.0 0.0 0.0 0.0 0.0 0.0 0.0 0.0 0.0 0.0 0.041491109780622246 0.0 0.0 0.0 0.0 0.0 0.0 0.0 0.0 0.0 0.0 0.0 0.0 0.0 0.0 0.0 0.0 0.0 0.0 0.0 0.0 0.0 0.0 0.0 0.0 0.0 0.0 0.0 0.0 0.0 0.059433888443716144 0.0 0.0 0.0 0.0 0.059433888443716144 0.0 0.0 0.0 0.0 0.0 0.0 0.0 0.0 0.0 0.0 0.0 0.0 0.0 0.0 0.0 0.0 0.0 0.0 0.059433888443716144 0.0 0.0 0.0 0.0 0.0 0.0 0.041491109780622246 0.0 0.0 0.0 0.0 0.0 0.0 0.041491109780622246 0.0 0.0 0.0 0.0 0.0 0.0 0.0 0.0 0.0 0.0 0.0 0.0 0.0 0.0 0.0 0.0 0.0 0.0 0.0 0.0 0.059433888443716144 0.0 0.0 0.0 0.0 0.0 0.0 0.0 0.0 0.0 0.0 0.0 0.0 0.0 0.0 0.0 0.0 0.0 0.0 0.0 0.0 0.0 0.0 0.0 0.0 0.0 0.0 0.0 0.0 0.0 0.0 0.0 0.0 0.0 0.0 0.0 0.0 0.0 0.0 0.0 0.0 0.0 0.0 0.0 0.0 0.0 0.052811742700915286 0.0 0.0 0.0 0.0 0.0 0.0 0.0 0.0 0.0 0.0 0.059433888443716144 0.0 0.0 0.0 0.0 0.0 0.0 0.0 0.0 0.0 0.0 0.0 0.0 0.0 0.0 0.0 0.0 0.0 0.059433888443716144 0.0 0.0 0.059433888443716144 0.0 0.0 0.0 0.0 0.0 0.0 0.0 0.0 0.0 0.0 0.0 0.0 0.0 0.0 0.0 0.0 0.0 0.0 0.0 0.0 0.0 0.0 0.0 0.0 0.059433888443716144 0.0 0.0 0.0 0.0 0.0 0.0 0.0 0.0 0.0 0.0 0.0 0.03486896403782139 0.0 0.0 0.0 0.0 0.0 0.0 0.0 0.0 0.0 0.059433888443716144 0.0 0.0 0.0 0.0 0.0 0.0 0.0 0.0 0.0 0.0 0.0 0.0 0.0 0.0 0.0 0.0 0.0 0.0 0.0 \n",
      "0.0 0.0 0.03857188319429606 0.0 0.0 0.0 0.0 0.03427418976088037 0.0 0.0 0.0 0.0 0.0 0.0 0.0 0.0 0.0 0.0 0.0 0.0 0.0 0.0 0.0 0.0 0.0 0.0 0.0 0.0 0.0 0.03857188319429606 0.0 0.0 0.0 0.0 0.021512780920289527 0.0 0.0 0.0 0.0 0.0 0.03857188319429606 0.0 0.0 0.0 0.0 0.0 0.02692723430968924 0.0 0.0 0.0 0.031224927743104938 0.0 0.0 0.0 0.03857188319429606 0.03427418976088037 0.0 0.0 0.0 0.03857188319429606 0.0 0.0 0.0 0.0 0.0 0.0 0.0 0.03857188319429606 0.0 0.0 0.0 0.0 0.0 0.0 0.0 0.0 0.0 0.0 0.0 0.0 0.03857188319429606 0.0 0.03857188319429606 0.0 0.0 0.0 0.0 0.0 0.0 0.0 0.0 0.0 0.0 0.0 0.0 0.0 0.03857188319429606 0.031224927743104938 0.0 0.0 0.0 0.0 0.0 0.0 0.0 0.0 0.0 0.0 0.0 0.0 0.0 0.0 0.0 0.0 0.0 0.0 0.0 0.0 0.0 0.0 0.0 0.0 0.0 0.0 0.0 0.0 0.0 0.0 0.03857188319429606 0.0 0.0 0.0 0.0 0.0 0.0 0.0 0.0 0.0 0.0 0.03857188319429606 0.0 0.0 0.0 0.0 0.0 0.0 0.0 0.0 0.0 0.0 0.0 0.0 0.0 0.0 0.0 0.0 0.0 0.0 0.0 0.0 0.0 0.0 0.0 0.0 0.03427418976088037 0.0 0.0 0.0 0.0 0.0 0.0 0.0 0.0 0.0 0.0 0.0 0.0 0.0 0.0 0.0 0.0 0.0 0.0 0.0 0.0 0.0 0.0 0.0 0.0 0.03857188319429606 0.0 0.0 0.0 0.0 0.0 0.0 0.0 0.0 0.0 0.03857188319429606 0.0 0.0 0.03857188319429606 0.0 0.0 0.0 0.0 0.0 0.0 0.0 0.0 0.0 0.0 0.0 0.0 0.0 0.0 0.0 0.0 0.0 0.03857188319429606 0.0 0.0 0.0 0.0 0.0 0.0 0.0 0.03427418976088037 0.0 0.0 0.0 0.028859736371480656 0.0 0.0 0.0 0.0 0.0 0.0 0.0 0.0 0.0 0.0 0.0 0.0 0.0 0.0 0.0 0.0 0.0 0.0 0.0 0.03857188319429606 0.0 0.0 0.0 0.0 0.0 0.028859736371480656 0.0 0.0 0.0 0.03857188319429606 0.03857188319429606 0.0 0.0 0.0 0.0 0.0 0.0 0.0 0.0 0.0 0.0 0.0 \n",
      "0.0 0.0 0.0 0.0 0.0 0.0 0.0 0.0 0.0 0.0 0.0 0.0 0.0 0.0 0.0 0.09633896213065075 0.0 0.0 0.0 0.0 0.0 0.0 0.0 0.0 0.0 0.0 0.0 0.0 0.09633896213065075 0.0 0.0 0.0 0.10841905294591342 0.0 0.0 0.0 0.0 0.0 0.0 0.0 0.0 0.0 0.0 0.0 0.0 0.0 0.0 0.0 0.0 0.0 0.0 0.0 0.0 0.0 0.0 0.0 0.0 0.0 0.0 0.0 0.0 0.0 0.0 0.0 0.0 0.0 0.0 0.0 0.0 0.0 0.0 0.0 0.0 0.0 0.0 0.0 0.0 0.0 0.0 0.0 0.0 0.0 0.0 0.0 0.0 0.0 0.0 0.09633896213065075 0.0 0.0 0.0 0.0 0.0 0.0 0.0 0.0 0.0 0.0 0.0 0.0 0.0 0.0 0.0 0.0 0.0 0.0 0.0 0.0 0.0 0.0 0.0 0.0 0.0 0.0 0.0 0.0 0.0 0.0 0.0 0.0 0.0 0.0 0.0 0.0 0.0 0.0 0.0 0.0 0.0 0.0 0.0 0.10841905294591342 0.0 0.0 0.0 0.0 0.0877680012966709 0.10841905294591342 0.0 0.0 0.0 0.0 0.0 0.10841905294591342 0.0 0.0 0.0 0.0 0.0 0.0 0.0 0.0 0.0 0.0 0.0 0.0 0.0 0.0 0.0 0.0 0.0 0.0 0.0 0.10841905294591342 0.0 0.0 0.0 0.0 0.0 0.0 0.0 0.0 0.0 0.0 0.0 0.0 0.0 0.0 0.0 0.0 0.0 0.0 0.0 0.0 0.0 0.0 0.0 0.0 0.0 0.0 0.0 0.0 0.0 0.0 0.0 0.0 0.0 0.0 0.0 0.0 0.0 0.0 0.0 0.0 0.0 0.0 0.0 0.0 0.0 0.0 0.0 0.0 0.0 0.0 0.0 0.0 0.0 0.0 0.0 0.0 0.0 0.0 0.0 0.0 0.0 0.0 0.0 0.0 0.0 0.0 0.0 0.0 0.0 0.0 0.0 0.0 0.0 0.0 0.0 0.0 0.0 0.0 0.0 0.0 0.0 0.0 0.0 0.0 0.0 0.0 0.0 0.0 0.0 0.0 0.0 0.0 0.0 0.0 0.0 0.0 0.0 0.0 0.0 0.0 0.0 0.0 0.0 0.0 0.0 0.0 0.0 0.08111984758180973 0.0 0.0 0.0 \n",
      "0.0 0.0 0.0 0.0 0.0 0.0 0.0 0.0 0.0 0.0 0.0 0.0 0.0 0.0 0.0 0.0 0.0 0.07139846741550854 0.0 0.0 0.0 0.0 0.0 0.0 0.0 0.0 0.0 0.0 0.0 0.0 0.0 0.0 0.0 0.0 0.0 0.0 0.0 0.0 0.0 0.0 0.0 0.0 0.0 0.0 0.0 0.0 0.0 0.07724990822233578 0.0 0.0 0.0 0.0 0.0 0.0 0.0 0.0 0.0 0.0 0.0 0.0 0.0 0.0 0.0 0.0 0.0 0.0 0.0 0.0 0.0 0.0 0.0 0.0 0.0 0.0 0.08479372747331937 0.0 0.0 0.0 0.0 0.0 0.0 0.0 0.0 0.0 0.0 0.0 0.0 0.0 0.0 0.0 0.0 0.0 0.0 0.0 0.0 0.0 0.0 0.07724990822233578 0.0 0.0 0.0 0.0 0.0 0.0 0.0 0.0 0.0 0.0 0.0 0.0 0.0532222321016116 0.0 0.08479372747331937 0.0 0.0 0.0 0.0 0.0 0.0 0.0 0.0 0.0 0.0 0.0 0.0 0.0 0.0 0.0 0.0 0.0 0.0 0.0 0.0 0.0 0.0 0.0 0.0 0.0 0.0 0.0 0.0 0.0 0.0 0.0 0.0 0.0 0.0 0.0 0.09542614353623272 0.0 0.0 0.0 0.0 0.0 0.0 0.0 0.0 0.0 0.09542614353623272 0.0 0.0 0.0 0.0 0.0 0.0 0.0 0.0 0.0 0.09542614353623272 0.0 0.0 0.0 0.0 0.0 0.0 0.0 0.0 0.0 0.0 0.0 0.0 0.0 0.0 0.0 0.0 0.0 0.0 0.0 0.0 0.0 0.0 0.0 0.0 0.0 0.0 0.0 0.0 0.0 0.0 0.0 0.0 0.0 0.0 0.0 0.0 0.0 0.0 0.0 0.0 0.0 0.0 0.0 0.0 0.0 0.0 0.0 0.0 0.0 0.0 0.0 0.0 0.08479372747331937 0.0 0.0 0.0 0.0 0.0 0.0 0.0 0.0 0.0 0.0 0.0 0.0 0.0 0.0 0.0 0.0 0.0 0.0 0.0 0.08479372747331937 0.0 0.0 0.0 0.0 0.0 0.0 0.09542614353623272 0.0 0.0 0.0 0.0 0.0 0.0 0.0 0.0 0.0 0.0 0.0 0.0 0.0 0.0 0.0 0.0 0.0 0.0 0.0 0.0 0.0 0.0 0.0 0.0 0.0 0.0 \n",
      "0.0 0.0 0.0 0.0 0.0 0.0 0.0 0.0 0.0 0.0 0.0475485086061096 0.0 0.0 0.0 0.0 0.0 0.0 0.0 0.0 0.0 0.0 0.0 0.0 0.0 0.0 0.0 0.0 0.0 0.0 0.0 0.0 0.0 0.0 0.0 0.026519333877921773 0.0 0.0 0.0 0.0 0.0 0.0 0.033193863671720454 0.0 0.0 0.0 0.0 0.0 0.03849173601504969 0.0 0.0 0.0 0.0 0.0 0.0 0.0 0.0 0.0 0.0 0.0 0.0 0.0 0.0 0.0 0.0 0.0 0.0 0.0 0.0 0.0 0.0 0.0 0.0 0.0 0.0 0.0 0.0 0.0 0.0 0.0 0.0 0.0 0.0475485086061096 0.0 0.04225063626278037 0.0 0.0 0.0 0.0 0.04225063626278037 0.0475485086061096 0.0 0.0 0.0 0.0 0.0 0.0 0.0 0.0 0.0 0.0 0.0 0.0 0.06638772734344091 0.0 0.0 0.0 0.0 0.0 0.0 0.033193863671720454 0.0 0.0 0.0 0.0475485086061096 0.0 0.0 0.0 0.0 0.0 0.0 0.0 0.0 0.0 0.0 0.0 0.0 0.0 0.0 0.0 0.0 0.0 0.0 0.0 0.04225063626278037 0.0 0.0 0.03849173601504969 0.0 0.0 0.0 0.0 0.0 0.0 0.0 0.0 0.0475485086061096 0.0 0.0 0.0 0.0 0.0 0.0 0.0 0.0 0.0 0.0 0.0 0.04225063626278037 0.0 0.0 0.0 0.0 0.0 0.0 0.0 0.0 0.0 0.0 0.0 0.0 0.0 0.0 0.0 0.0 0.04225063626278037 0.0 0.0 0.0 0.0 0.0475485086061096 0.0 0.0 0.03849173601504969 0.0 0.0 0.0 0.0 0.0 0.0475485086061096 0.0 0.0 0.0 0.0 0.0 0.0 0.0 0.0 0.0 0.0 0.0 0.0 0.0 0.0 0.0 0.0475485086061096 0.0 0.0 0.0 0.0 0.0 0.0 0.0 0.0 0.0 0.0 0.0 0.0 0.0 0.03849173601504969 0.0 0.0 0.0 0.0 0.0 0.0 0.0 0.0 0.0 0.0 0.0475485086061096 0.0 0.0 0.0 0.0 0.0 0.0 0.0 0.0 0.0 0.0 0.0 0.0 0.0 0.0 0.0 0.0 0.0 0.0 0.0 0.0 0.0 0.0 0.0 0.0 0.0 0.0 0.0475485086061096 0.0 0.0 0.0 0.0 0.0 0.0 0.0 0.0 0.0 0.0 0.0 0.0 0.0 0.0 0.0 0.0 0.0 0.0 \n",
      "0.0 0.0 0.0 0.0 0.0 0.0 0.05300379339481988 0.0 0.0 0.0 0.0 0.0 0.0 0.0 0.0 0.0 0.0 0.0 0.0 0.0 0.0 0.0 0.0 0.0 0.0 0.0 0.0 0.0 0.0 0.0 0.0 0.0 0.0 0.0 0.0 0.0 0.0 0.0 0.0 0.0 0.0 0.0 0.0 0.0 0.0 0.0 0.0 0.0 0.0 0.0 0.0 0.06294797878527363 0.0 0.0 0.0 0.0 0.0 0.0 0.0 0.0 0.0 0.0 0.0 0.0 0.0 0.0 0.0 0.0 0.0 0.0 0.0 0.0 0.0 0.0 0.0 0.0 0.0 0.0 0.0 0.0 0.0 0.0 0.0 0.0 0.0 0.06294797878527363 0.0 0.0 0.0 0.0 0.0 0.07084112277962233 0.0 0.0 0.0 0.0 0.0 0.0 0.0 0.0 0.0 0.0 0.0 0.0 0.0 0.0 0.0 0.0 0.057347703997020306 0.0 0.0 0.0 0.0 0.0 0.0 0.0 0.07084112277962233 0.0 0.0 0.0 0.0 0.0 0.0 0.0 0.0 0.0 0.0 0.0 0.0 0.0 0.0 0.0 0.0 0.0 0.0 0.0 0.0 0.0 0.0 0.0 0.0 0.0 0.0 0.0 0.0 0.0 0.0 0.0 0.0 0.07084112277962233 0.0 0.0 0.0 0.0 0.0 0.0 0.0 0.0 0.0 0.0 0.0 0.0 0.0 0.0 0.0 0.07084112277962233 0.0 0.0 0.0 0.0 0.0 0.0 0.0 0.0 0.0 0.0 0.0 0.0 0.0 0.0 0.0 0.0 0.0 0.0 0.0 0.0 0.0 0.0 0.0 0.0 0.0 0.0 0.0 0.05300379339481988 0.0 0.0 0.0 0.0 0.0 0.0 0.07084112277962233 0.057347703997020306 0.0 0.0 0.0 0.0 0.0 0.0 0.0 0.0 0.0 0.0 0.0 0.0 0.0 0.0 0.0 0.07084112277962233 0.0 0.0 0.0 0.06294797878527363 0.0 0.0 0.0 0.0 0.07084112277962233 0.0 0.0 0.0 0.0 0.0 0.0 0.0 0.0 0.0 0.0 0.0 0.0 0.0 0.0 0.0 0.0 0.0 0.0 0.04156141600832288 0.0 0.0 0.0 0.0 0.0 0.0 0.0 0.0 0.0 0.0 0.0 0.0 0.0 0.0 0.0 0.0 0.0 0.0 0.0 0.0 0.0 0.0 0.0 0.0 0.0 0.05300379339481988 0.0 0.0 0.0 \n"
     ]
    }
   ],
   "source": [
    "# imprimimos las filas y columnas de la matriz de tokens\n",
    "\n",
    "filas, columnas = X.shape\n",
    "\n",
    "for i in range(filas):\n",
    "    for j in range(columnas):\n",
    "        print(X[i, j], end=' ') # imrpime el elemento y un espacio en blanco\n",
    "    print()"
   ]
  },
  {
   "cell_type": "code",
   "execution_count": 37,
   "metadata": {},
   "outputs": [],
   "source": [
    "# obtener el score de los tokens\n",
    "\n",
    "def obtener_score(tfidf_row):\n",
    "    X = tfidf_row[tfidf_row !=0]\n",
    "    return X.mean()"
   ]
  },
  {
   "cell_type": "code",
   "execution_count": 38,
   "metadata": {},
   "outputs": [],
   "source": [
    "# ordenamos los scores de mayor a menor\n",
    "\n",
    "scores = np.zeros(len(lineas))\n",
    "for i in range(len(lineas)):\n",
    "    score = obtener_score(X[1,:])\n",
    "    scores[i] = score"
   ]
  },
  {
   "cell_type": "code",
   "execution_count": 39,
   "metadata": {},
   "outputs": [
    {
     "data": {
      "text/plain": [
       "array([0.05263158, 0.05263158, 0.05263158, 0.05263158, 0.05263158,\n",
       "       0.05263158, 0.05263158, 0.05263158, 0.05263158, 0.05263158,\n",
       "       0.05263158, 0.05263158, 0.05263158, 0.05263158, 0.05263158,\n",
       "       0.05263158, 0.05263158, 0.05263158, 0.05263158, 0.05263158,\n",
       "       0.05263158, 0.05263158, 0.05263158, 0.05263158, 0.05263158,\n",
       "       0.05263158, 0.05263158])"
      ]
     },
     "execution_count": 39,
     "metadata": {},
     "output_type": "execute_result"
    }
   ],
   "source": [
    "scores"
   ]
  },
  {
   "cell_type": "code",
   "execution_count": 40,
   "metadata": {},
   "outputs": [],
   "source": [
    "sort_idx = np.argsort(-scores)"
   ]
  },
  {
   "cell_type": "code",
   "execution_count": 41,
   "metadata": {},
   "outputs": [
    {
     "data": {
      "text/plain": [
       "array([ 0, 24, 23, 22, 21, 20, 19, 18, 17, 16, 15, 14, 25, 13, 11, 10,  9,\n",
       "        8,  7,  6,  5,  4,  3,  2,  1, 12, 26])"
      ]
     },
     "execution_count": 41,
     "metadata": {},
     "output_type": "execute_result"
    }
   ],
   "source": [
    "# valores que representan los indices de los parrafos ordenados de mayor a menor que saldran en el resumen\n",
    "sort_idx"
   ]
  },
  {
   "cell_type": "code",
   "execution_count": 43,
   "metadata": {},
   "outputs": [
    {
     "name": "stdout",
     "output_type": "stream",
     "text": [
      "Resumen:\n",
      "0.05263157894736842: Los clientes de BBVA del sector de la hostelería en España que\n",
      "dispongan de Terminales Punto de Venta (TPV) físicos de última\n",
      "generación, pueden descargar la nueva aplicación BBVA Smart Business\n",
      "Lite\n",
      "0.05263157894736842: \n",
      "Gracias a esta ‘app’ y sin necesidad de disponer de una tienda\n",
      "‘online’, se facilita a los comercios la gestión de los servicios de\n",
      "transporte y paquetería\n",
      "0.05263157894736842: \n",
      "Por otro lado, el banco también ha añadido la\n",
      "aplicación de Paack, empresa líder en logística de ‘última milla’ \n",
      "0.05263157894736842:   A esto hay que añadir\n",
      "el servicio DCC (Dynamic Currency Conversion), otra solución que\n",
      "facilita las compras de los turistas internacionales realizadas con\n",
      "tarjeta VISA o Mastercard, pagar en su propia divisa a la vez que el\n",
      "comercio cliente de BBVA recibe el abono de la venta en euros y sin\n",
      "coste adicional\n",
      "0.05263157894736842:  Además de aplicaciones\n",
      "disponibles en el TPV Android, que permiten gestionar de forma\n",
      "automática y en un proceso 100% digital el reembolso del IVA (TaxFree)\n",
      "a clientes no residentes en la Unión Europea\n"
     ]
    }
   ],
   "source": [
    "# imprimimos los resumenes de los textos\n",
    "print('Resumen:')\n",
    "oraciones = []\n",
    "for i in range(0,5):\n",
    "    oraciones.append([sort_idx[i], scores[sort_idx[i]], lineas[sort_idx[i]]])\n",
    "    print(f\"{scores[sort_idx[i]]}: {lineas[sort_idx[i]]}\")\n"
   ]
  },
  {
   "cell_type": "code",
   "execution_count": 44,
   "metadata": {},
   "outputs": [
    {
     "data": {
      "text/plain": [
       "[[0,\n",
       "  0.05263157894736842,\n",
       "  'Los clientes de BBVA del sector de la hostelería en España que\\ndispongan de Terminales Punto de Venta (TPV) físicos de última\\ngeneración, pueden descargar la nueva aplicación BBVA Smart Business\\nLite'],\n",
       " [24,\n",
       "  0.05263157894736842,\n",
       "  '\\nGracias a esta ‘app’ y sin necesidad de disponer de una tienda\\n‘online’, se facilita a los comercios la gestión de los servicios de\\ntransporte y paquetería'],\n",
       " [23,\n",
       "  0.05263157894736842,\n",
       "  '\\r\\nPor otro lado, el banco también ha añadido la\\naplicación de Paack, empresa líder en logística de ‘última milla’ '],\n",
       " [22,\n",
       "  0.05263157894736842,\n",
       "  '  A esto hay que añadir\\nel servicio DCC (Dynamic Currency Conversion), otra solución que\\nfacilita las compras de los turistas internacionales realizadas con\\ntarjeta VISA o Mastercard, pagar en su propia divisa a la vez que el\\ncomercio cliente de BBVA recibe el abono de la venta en euros y sin\\ncoste adicional'],\n",
       " [21,\n",
       "  0.05263157894736842,\n",
       "  ' Además de aplicaciones\\ndisponibles en el TPV Android, que permiten gestionar de forma\\nautomática y en un proceso 100% digital el reembolso del IVA (TaxFree)\\na clientes no residentes en la Unión Europea']]"
      ]
     },
     "execution_count": 44,
     "metadata": {},
     "output_type": "execute_result"
    }
   ],
   "source": [
    "# ordenamos el resumen por indices\n",
    "\n",
    "oraciones"
   ]
  },
  {
   "cell_type": "code",
   "execution_count": 45,
   "metadata": {},
   "outputs": [
    {
     "name": "stdout",
     "output_type": "stream",
     "text": [
      "Los clientes de BBVA del sector de la hostelería en España que\n",
      "dispongan de Terminales Punto de Venta (TPV) físicos de última\n",
      "generación, pueden descargar la nueva aplicación BBVA Smart Business\n",
      "Lite\n",
      " Además de aplicaciones\n",
      "disponibles en el TPV Android, que permiten gestionar de forma\n",
      "automática y en un proceso 100% digital el reembolso del IVA (TaxFree)\n",
      "a clientes no residentes en la Unión Europea\n",
      "  A esto hay que añadir\n",
      "el servicio DCC (Dynamic Currency Conversion), otra solución que\n",
      "facilita las compras de los turistas internacionales realizadas con\n",
      "tarjeta VISA o Mastercard, pagar en su propia divisa a la vez que el\n",
      "comercio cliente de BBVA recibe el abono de la venta en euros y sin\n",
      "coste adicional\n",
      "\n",
      "Por otro lado, el banco también ha añadido la\n",
      "aplicación de Paack, empresa líder en logística de ‘última milla’ \n",
      "\n",
      "Gracias a esta ‘app’ y sin necesidad de disponer de una tienda\n",
      "‘online’, se facilita a los comercios la gestión de los servicios de\n",
      "transporte y paquetería\n"
     ]
    }
   ],
   "source": [
    "# Ordenar la lista por el primer elemento de cada sublista\n",
    "\n",
    "oraciones_ord = sorted(oraciones, key=lambda X: X[0])\n",
    "\n",
    "# imprimir la lista ordenada\n",
    "\n",
    "for item in oraciones_ord:\n",
    "    print(item[2])"
   ]
  },
  {
   "cell_type": "code",
   "execution_count": null,
   "metadata": {},
   "outputs": [],
   "source": []
  },
  {
   "cell_type": "code",
   "execution_count": null,
   "metadata": {},
   "outputs": [],
   "source": []
  }
 ],
 "metadata": {
  "kernelspec": {
   "display_name": "Python 3",
   "language": "python",
   "name": "python3"
  },
  "language_info": {
   "codemirror_mode": {
    "name": "ipython",
    "version": 3
   },
   "file_extension": ".py",
   "mimetype": "text/x-python",
   "name": "python",
   "nbconvert_exporter": "python",
   "pygments_lexer": "ipython3",
   "version": "3.10.13"
  }
 },
 "nbformat": 4,
 "nbformat_minor": 2
}
