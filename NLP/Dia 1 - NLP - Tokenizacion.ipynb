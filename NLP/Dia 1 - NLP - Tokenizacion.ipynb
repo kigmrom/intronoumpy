{
 "cells": [
  {
   "cell_type": "markdown",
   "metadata": {},
   "source": [
    "## Tokenizacion\n",
    "\n",
    "\n"
   ]
  },
  {
   "cell_type": "code",
   "execution_count": 1,
   "metadata": {},
   "outputs": [
    {
     "name": "stdout",
     "output_type": "stream",
     "text": [
      "['Hola,', 'materia', 'de', 'Inteligencia', 'Artificial', '¿Cómo', 'están?']\n"
     ]
    }
   ],
   "source": [
    "texto=\"Hola, materia de Inteligencia Artificial ¿Cómo están?\"\n",
    "tokens=texto.split()\n",
    "print(tokens)"
   ]
  },
  {
   "cell_type": "code",
   "execution_count": 2,
   "metadata": {},
   "outputs": [
    {
     "name": "stdout",
     "output_type": "stream",
     "text": [
      "hola, materia de inteligencia artificial ¿cómo están?\n",
      "['hola,', 'materia', 'de', 'inteligencia', 'artificial', '¿cómo', 'están?']\n"
     ]
    }
   ],
   "source": [
    "# encontrar las palabras diferentes para tokenizar\n",
    "\n",
    "texto=\"Hola, materia de Inteligencia Artificial ¿Cómo están?\"\n",
    "texto=texto.lower()\n",
    "print(texto)\n",
    "\n",
    "tokens=texto.split()\n",
    "print(tokens)\n"
   ]
  },
  {
   "cell_type": "code",
   "execution_count": 13,
   "metadata": {},
   "outputs": [],
   "source": [
    "# stop words en español (palabras de parada)\n",
    "# palabras que no aportan significado\n",
    "# stop_words=[\"de\",\"la\",\"que\",\"el\",\"en\",\"y\",\"a\",\"los\",\"se\",\"del\",\"las\",\"un\"]\n",
    "# texto=\"El gato es negro el perro es blanco\"\n",
    "\n",
    "# el, gato, es, negro, y, perro, blanco"
   ]
  },
  {
   "cell_type": "code",
   "execution_count": 5,
   "metadata": {},
   "outputs": [
    {
     "name": "stderr",
     "output_type": "stream",
     "text": [
      "[nltk_data] Downloading package stopwords to\n",
      "[nltk_data]     /home/codespace/nltk_data...\n",
      "[nltk_data]   Unzipping corpora/stopwords.zip.\n",
      "[nltk_data] Downloading package punkt to /home/codespace/nltk_data...\n",
      "[nltk_data]   Unzipping tokenizers/punkt.zip.\n"
     ]
    },
    {
     "data": {
      "text/plain": [
       "True"
      ]
     },
     "execution_count": 5,
     "metadata": {},
     "output_type": "execute_result"
    }
   ],
   "source": [
    "# primero instalar nltk\n",
    "#pip install nltk\n",
    "\n",
    "import nltk\n",
    "nltk.download('stopwords')\n",
    "nltk.download('punkt')\n"
   ]
  },
  {
   "cell_type": "code",
   "execution_count": 6,
   "metadata": {},
   "outputs": [],
   "source": [
    "from nltk.corpus import stopwords\n",
    "from nltk.tokenize import word_tokenize"
   ]
  },
  {
   "cell_type": "code",
   "execution_count": 9,
   "metadata": {},
   "outputs": [
    {
     "name": "stdout",
     "output_type": "stream",
     "text": [
      "{'cual', 'estados', 'habrías', 'tenemos', 'tuviésemos', 'más', 'con', 'estada', 'una', 'seamos', 'estarías', 'ya', 'habida', 'estadas', 'tendré', 'estado', 'estuviesen', 'de', 'habías', 'estaban', 'tuvo', 'habéis', 'tengas', 'tuvieseis', 'estabais', 'este', 'hubierais', 'fuisteis', 'estuviera', 'seas', 'tú', 'mí', 'cuando', 'fui', 'al', 'tuviéramos', 'éramos', 'hubo', 'otro', 'tendréis', 'ha', 'tenías', 'quienes', 'estemos', 'tendríamos', 'tendremos', 'tuvieran', 'le', 'fueron', 'algunas', 'somos', 'habíamos', 'qué', 'seré', 'tuvierais', 'el', 'yo', 'sin', 'esto', 'estando', 'soy', 'fue', 'estar', 'hubiera', 'estuvisteis', 'sean', 'estad', 'esté', 'estuvieseis', 'no', 'serías', 'teníamos', 'estas', 'míos', 'hubimos', 'sois', 'tanto', 'serás', 'estaríais', 'eras', 'fuiste', 'os', 'todos', 'tuya', 'como', 'estuvimos', 'les', 'estarán', 'vuestros', 'estuviste', 'estaré', 'hubieseis', 'ni', 'habríamos', 'estaríamos', 'poco', 'fuésemos', 'tengo', 'habremos', 'ante', 'otra', 'tenido', 'seríais', 'era', 'vuestro', 'tenga', 'los', 'tuyas', 'nosotras', 'tendrían', 'algo', 'esta', 'del', 'serán', 'tendría', 'hemos', 'tuviese', 'estarían', 'entre', 'sus', 'tuviesen', 'tuyos', 'la', 'habréis', 'han', 'has', 'hubiste', 'muy', 'estaba', 'suyos', 'sí', 'algunos', 'estuvieras', 'fuera', 'hay', 'habidas', 'estuvieses', 'estáis', 'tenían', 'mucho', 'esa', 'tendrán', 'pero', 'habido', 'tengan', 'vosotros', 'eres', 'estábamos', 'tenía', 'vosotras', 'vuestras', 'estarás', 'nada', 'he', 'ti', 'fuesen', 'en', 'tengamos', 'estabas', 'durante', 'hayáis', 'habríais', 'para', 'estuve', 'hasta', 'teníais', 'mías', 'fueras', 'tendrás', 'habrán', 'se', 'quien', 'sintiendo', 'fueseis', 'tu', 'estamos', 'fueran', 'tuvieses', 'sentidos', 'las', 'mío', 'suya', 'seríamos', 'tuvieron', 'otros', 'hube', 'eso', 'siente', 'erais', 'fuerais', 'habrían', 'eran', 'unos', 'estoy', 'tuvimos', 'un', 'estaréis', 'también', 'seréis', 'estos', 'tenida', 'fuese', 'hubisteis', 'y', 'estuviese', 'son', 'nuestra', 'desde', 'tengáis', 'es', 'que', 'tenidas', 'será', 'estéis', 'tuviera', 'hubieron', 'habré', 'esos', 'estuvo', 'mis', 'fueses', 'hubieses', 'su', 'fuéramos', 'nos', 'teniendo', 'habría', 'nuestro', 'nuestras', 'nosotros', 'hubieran', 'estuvieron', 'haya', 'sentida', 'estará', 'sentidas', 'donde', 'hubiese', 'suyo', 'muchos', 'habían', 'estás', 'tienes', 'estuviésemos', 'estaría', 'hayas', 'e', 'tendrá', 'ella', 'nuestros', 'serían', 'hubiésemos', 'todo', 'tienen', 'tuviste', 'contra', 'ellos', 'tiene', 'habrá', 'antes', 'estés', 'porque', 'mi', 'hubieras', 'habrás', 'estuvierais', 'habíais', 'él', 'tuve', 'estaremos', 'vuestra', 'tuvisteis', 'esas', 'ese', 'uno', 'había', 'habiendo', 'me', 'tendrías', 'hayan', 'sentid', 'estuviéramos', 'o', 'por', 'sería', 'hubiéramos', 'sobre', 'te', 'habidos', 'estén', 'lo', 'están', 'tenéis', 'tendríais', 'suyas', 'sea', 'mía', 'tened', 'tus', 'ellas', 'está', 'tuyo', 'seáis', 'a', 'hayamos', 'sentido', 'seremos', 'otras', 'tenidos', 'estuvieran', 'tuvieras', 'fuimos', 'hubiesen'}\n"
     ]
    }
   ],
   "source": [
    "stop_words=set(stopwords.words('spanish'))\n",
    "print(stop_words)"
   ]
  },
  {
   "cell_type": "code",
   "execution_count": 10,
   "metadata": {},
   "outputs": [
    {
     "name": "stdout",
     "output_type": "stream",
     "text": [
      "['hola', ',', 'materia', 'de', 'inteligencia', 'artificial', '¿cómo', 'están', '?']\n"
     ]
    }
   ],
   "source": [
    "# creamos los tokens\n",
    "\n",
    "tokens = word_tokenize(texto)\n",
    "print(tokens)"
   ]
  },
  {
   "cell_type": "code",
   "execution_count": 11,
   "metadata": {},
   "outputs": [
    {
     "name": "stdout",
     "output_type": "stream",
     "text": [
      "['hola', ',', 'materia', 'inteligencia', 'artificial', '¿cómo', '?']\n"
     ]
    }
   ],
   "source": [
    "texto_filtrado=[word for word in tokens if not word in stop_words]\n",
    "print(texto_filtrado)"
   ]
  },
  {
   "cell_type": "code",
   "execution_count": 12,
   "metadata": {},
   "outputs": [
    {
     "name": "stdout",
     "output_type": "stream",
     "text": [
      "['hola', ',', 'materia', 'inteligencia', 'artificial', '¿cómo', '?']\n"
     ]
    }
   ],
   "source": [
    "texto=texto.lower()\n",
    "tokens = word_tokenize(texto)\n",
    "texto_filtrado=[word for word in tokens if not word in stop_words]\n",
    "print(texto_filtrado)"
   ]
  },
  {
   "cell_type": "markdown",
   "metadata": {},
   "source": [
    "### Stemming y Lemmatizacion\n",
    "\n",
    "de donde surgen\n",
    "* las palabras similares se tratan como entidades separadas\n",
    "* alta dimensionalidad de los vectores resultantes\n",
    "\n",
    "Como solucionarlos\n",
    "* el stemming e suna tecnica mas simple que simplemente elimina los sufijos de las palabras\n",
    "* la lemmatizacion es una tecnica mas sofisticada que utiliza las reglas del lenguaje para obtener la base o raiz de una palabra"
   ]
  },
  {
   "cell_type": "code",
   "execution_count": 6,
   "metadata": {},
   "outputs": [],
   "source": [
    "# Stemming \n"
   ]
  },
  {
   "cell_type": "code",
   "execution_count": 13,
   "metadata": {},
   "outputs": [
    {
     "name": "stderr",
     "output_type": "stream",
     "text": [
      "[nltk_data] Downloading package wordnet to\n",
      "[nltk_data]     /home/codespace/nltk_data...\n"
     ]
    },
    {
     "data": {
      "text/plain": [
       "True"
      ]
     },
     "execution_count": 13,
     "metadata": {},
     "output_type": "execute_result"
    }
   ],
   "source": [
    "nltk.download('wordnet') # solo disponible en ingles"
   ]
  },
  {
   "cell_type": "code",
   "execution_count": 22,
   "metadata": {},
   "outputs": [
    {
     "name": "stdout",
     "output_type": "stream",
     "text": [
      "camin\n",
      "camin\n",
      "camin\n",
      "camin\n"
     ]
    }
   ],
   "source": [
    "from nltk.stem import SnowballStemmer\n",
    "\n",
    "# crear el stemmer en español\n",
    "\n",
    "stemmer = SnowballStemmer('spanish')\n",
    "\n",
    "# probar en la palabra corriendo\n",
    "\n",
    "print(stemmer.stem('caminando'))\n",
    "print(stemmer.stem('caminar'))\n",
    "print(stemmer.stem('camino')) \n",
    "print(stemmer.stem('caminaré'))"
   ]
  },
  {
   "cell_type": "markdown",
   "metadata": {},
   "source": [
    "Lemmatizacion\n",
    "\n",
    "pip install spacy -q\n",
    "\n",
    "!python -m spacy download es_core_news_sm -q"
   ]
  },
  {
   "cell_type": "code",
   "execution_count": 23,
   "metadata": {},
   "outputs": [
    {
     "name": "stdout",
     "output_type": "stream",
     "text": [
      "\n",
      "\u001b[1m[\u001b[0m\u001b[34;49mnotice\u001b[0m\u001b[1;39;49m]\u001b[0m\u001b[39;49m A new release of pip is available: \u001b[0m\u001b[31;49m24.0\u001b[0m\u001b[39;49m -> \u001b[0m\u001b[32;49m24.1.2\u001b[0m\n",
      "\u001b[1m[\u001b[0m\u001b[34;49mnotice\u001b[0m\u001b[1;39;49m]\u001b[0m\u001b[39;49m To update, run: \u001b[0m\u001b[32;49mpython3 -m pip install --upgrade pip\u001b[0m\n"
     ]
    }
   ],
   "source": [
    "!pip install spacy -q"
   ]
  },
  {
   "cell_type": "code",
   "execution_count": 24,
   "metadata": {},
   "outputs": [
    {
     "name": "stdout",
     "output_type": "stream",
     "text": [
      "\n",
      "\u001b[1m[\u001b[0m\u001b[34;49mnotice\u001b[0m\u001b[1;39;49m]\u001b[0m\u001b[39;49m A new release of pip is available: \u001b[0m\u001b[31;49m24.0\u001b[0m\u001b[39;49m -> \u001b[0m\u001b[32;49m24.1.2\u001b[0m\n",
      "\u001b[1m[\u001b[0m\u001b[34;49mnotice\u001b[0m\u001b[1;39;49m]\u001b[0m\u001b[39;49m To update, run: \u001b[0m\u001b[32;49mpython -m pip install --upgrade pip\u001b[0m\n",
      "\u001b[38;5;2m✔ Download and installation successful\u001b[0m\n",
      "You can now load the package via spacy.load('es_core_news_sm')\n"
     ]
    }
   ],
   "source": [
    "!python -m spacy download es_core_news_sm -q"
   ]
  },
  {
   "cell_type": "code",
   "execution_count": 26,
   "metadata": {},
   "outputs": [
    {
     "name": "stdout",
     "output_type": "stream",
     "text": [
      "caminar caminar\n",
      "caminando caminar\n",
      "caminaron caminar\n",
      "caminaba caminar\n",
      "caminó caminar\n",
      "caminaremos caminaremo\n",
      "caminaré caminar\n"
     ]
    }
   ],
   "source": [
    "import spacy\n",
    "# cargar modelo en español\n",
    "\n",
    "nlp=spacy.load('es_core_news_sm')\n",
    "\n",
    "#crear datos\n",
    "doc=nlp(\"caminar caminando caminaron caminaba caminó caminaremos caminaré\")\n",
    "\n",
    "#lematizar\n",
    "for token in doc: \n",
    "    print(token.text, token.lemma_)\n"
   ]
  },
  {
   "cell_type": "markdown",
   "metadata": {},
   "source": [
    "aplicaciones de stemming y lemmatizacion\n",
    "\n",
    "* asistentes virtuales y chatbots\n",
    "* analisis de sentimeintos\n",
    "* motores de busqueda\n",
    "* sistemas de recomendaciones\n",
    "* aplicaciones en publicidad online y etiquetas de redes sociales"
   ]
  },
  {
   "cell_type": "code",
   "execution_count": null,
   "metadata": {},
   "outputs": [],
   "source": []
  }
 ],
 "metadata": {
  "kernelspec": {
   "display_name": "Python 3",
   "language": "python",
   "name": "python3"
  },
  "language_info": {
   "codemirror_mode": {
    "name": "ipython",
    "version": 3
   },
   "file_extension": ".py",
   "mimetype": "text/x-python",
   "name": "python",
   "nbconvert_exporter": "python",
   "pygments_lexer": "ipython3",
   "version": "3.10.13"
  }
 },
 "nbformat": 4,
 "nbformat_minor": 2
}
