{
 "cells": [
  {
   "cell_type": "markdown",
   "metadata": {},
   "source": [
    "# Seaborn"
   ]
  },
  {
   "cell_type": "markdown",
   "metadata": {},
   "source": [
    "Importar Librerias\n",
    "\n",
    "> import numpy as np\n",
    "\n",
    "> import pandas as pd\n",
    "\n",
    "> import seaborn as sns\n",
    "\n",
    "> import matplotlib.pyplot as plt\n"
   ]
  },
  {
   "cell_type": "code",
   "execution_count": null,
   "metadata": {},
   "outputs": [],
   "source": []
  },
  {
   "cell_type": "markdown",
   "metadata": {},
   "source": [
    "#read csv for analysis\n",
    "\n",
    "> data=pd.read_csv('data/StudentsPerformance.csv')\n",
    "\n",
    "#we'll see the first five lines.\n",
    "\n",
    "> data.head()"
   ]
  },
  {
   "cell_type": "code",
   "execution_count": null,
   "metadata": {},
   "outputs": [],
   "source": []
  },
  {
   "cell_type": "markdown",
   "metadata": {},
   "source": [
    "we'll see the last five lines.\n",
    "\n",
    "> data.tail()"
   ]
  },
  {
   "cell_type": "code",
   "execution_count": null,
   "metadata": {},
   "outputs": [],
   "source": []
  },
  {
   "cell_type": "markdown",
   "metadata": {},
   "source": [
    "random data \n",
    "\n",
    "> data.sample(5)"
   ]
  },
  {
   "cell_type": "code",
   "execution_count": null,
   "metadata": {},
   "outputs": [],
   "source": []
  },
  {
   "cell_type": "markdown",
   "metadata": {},
   "source": [
    "extraer una fraccion del dataset\n",
    "\n",
    "> data.sample(frac=0.1)"
   ]
  },
  {
   "cell_type": "code",
   "execution_count": null,
   "metadata": {},
   "outputs": [],
   "source": []
  },
  {
   "cell_type": "markdown",
   "metadata": {},
   "source": [
    "#it is a process that shows the property value in the data set and shows the numbers in the register values.\n",
    "\n",
    "> data.info()"
   ]
  },
  {
   "cell_type": "code",
   "execution_count": null,
   "metadata": {},
   "outputs": [],
   "source": []
  },
  {
   "cell_type": "markdown",
   "metadata": {},
   "source": [
    "> data.iloc[:,0:3].dtypes"
   ]
  },
  {
   "cell_type": "code",
   "execution_count": null,
   "metadata": {},
   "outputs": [],
   "source": []
  },
  {
   "cell_type": "markdown",
   "metadata": {},
   "source": [
    "#It is a function that shows the analysis of numerical values.\n",
    "\n",
    "> data.describe()"
   ]
  },
  {
   "cell_type": "code",
   "execution_count": null,
   "metadata": {},
   "outputs": [],
   "source": []
  },
  {
   "cell_type": "markdown",
   "metadata": {},
   "source": [
    "#It shows the data types in the data set.\n",
    "\n",
    "> data.dtypes"
   ]
  },
  {
   "cell_type": "code",
   "execution_count": null,
   "metadata": {},
   "outputs": [],
   "source": []
  },
  {
   "cell_type": "markdown",
   "metadata": {},
   "source": [
    "control data\n",
    "\n",
    "> data.isnull().values.any()"
   ]
  },
  {
   "cell_type": "code",
   "execution_count": null,
   "metadata": {},
   "outputs": [],
   "source": []
  },
  {
   "cell_type": "markdown",
   "metadata": {},
   "source": [
    " all data control for null values\n",
    "\n",
    "> data.isnull().sum()"
   ]
  },
  {
   "cell_type": "code",
   "execution_count": null,
   "metadata": {},
   "outputs": [],
   "source": []
  },
  {
   "cell_type": "markdown",
   "metadata": {},
   "source": [
    "show columns\n",
    "> for i,col in enumerate(data.columns):\n",
    "\n",
    ">     print(i+1,\". column is \",col)"
   ]
  },
  {
   "cell_type": "code",
   "execution_count": null,
   "metadata": {},
   "outputs": [],
   "source": []
  },
  {
   "cell_type": "markdown",
   "metadata": {},
   "source": [
    "rename columns\n",
    "\n",
    "data.rename(columns=({'gender':'Gender','race/ethnicity':'Race/Ethnicity'\n",
    "                     ,'parental level of education':'Parental_Level_of_Education'\n",
    "                     ,'lunch':'Lunch','test preparation course':'Test_Preparation_Course'\n",
    "                      ,'math score':'Math_Score','reading score':'Reading_Score'\n",
    "                     ,'writing score':'Writing_Score'}),inplace=True)"
   ]
  },
  {
   "cell_type": "code",
   "execution_count": null,
   "metadata": {},
   "outputs": [],
   "source": []
  },
  {
   "cell_type": "markdown",
   "metadata": {},
   "source": [
    "show columns\n",
    "\n",
    "    for i,col in enumerate(data.columns):\n",
    "\n",
    "     print(i+1,\". column is \",col)"
   ]
  },
  {
   "cell_type": "code",
   "execution_count": null,
   "metadata": {},
   "outputs": [],
   "source": []
  },
  {
   "cell_type": "markdown",
   "metadata": {},
   "source": [
    "#show count Gender\n",
    "\n",
    "    data['Gender'].value_counts()"
   ]
  },
  {
   "cell_type": "code",
   "execution_count": null,
   "metadata": {},
   "outputs": [],
   "source": []
  },
  {
   "cell_type": "markdown",
   "metadata": {},
   "source": [
    "show Gender's unique\n",
    "\n",
    "    data['Gender'].unique()"
   ]
  },
  {
   "cell_type": "code",
   "execution_count": null,
   "metadata": {},
   "outputs": [],
   "source": []
  },
  {
   "cell_type": "markdown",
   "metadata": {},
   "source": [
    "\n",
    "# Bar Plot\n",
    "\n",
    "    sns.barplot(x=data['Gender'].value_counts().index,y=data['Gender'].value_counts().values)\n",
    "    plt.title('Genders other rate')\n",
    "    plt.ylabel('Rates')\n",
    "    plt.legend(loc=0)\n",
    "    plt.show()"
   ]
  },
  {
   "cell_type": "code",
   "execution_count": null,
   "metadata": {},
   "outputs": [],
   "source": []
  },
  {
   "cell_type": "markdown",
   "metadata": {},
   "source": [
    "\n",
    "\n",
    "    sns.set(style='whitegrid')\n",
    "    ax=sns.barplot(x=data['Gender'].value_counts().index,y=data['Gender'].value_counts().values,palette=\"Blues_d\",hue=['female','male'])\n",
    "    plt.legend(loc=8)\n",
    "    plt.xlabel('Gender')\n",
    "    plt.ylabel('Frequency')\n",
    "    plt.title('Show of Gender Bar Plot')\n",
    "    plt.show()"
   ]
  },
  {
   "cell_type": "code",
   "execution_count": null,
   "metadata": {},
   "outputs": [],
   "source": []
  },
  {
   "cell_type": "markdown",
   "metadata": {},
   "source": [
    "plt.figure(figsize=(7,7))\n",
    "sns.barplot(x=data['Race/Ethnicity'].value_counts().index,\n",
    "              y=data['Race/Ethnicity'].value_counts().values)\n",
    "              \n",
    "plt.xlabel('Race/Ethnicity')\n",
    "plt.ylabel('Frequency')\n",
    "plt.title('Show of Race/Ethnicity Bar Plot')\n",
    "plt.show()"
   ]
  },
  {
   "cell_type": "code",
   "execution_count": null,
   "metadata": {},
   "outputs": [],
   "source": []
  },
  {
   "cell_type": "markdown",
   "metadata": {},
   "source": [
    "plt.figure(figsize=(10,7))\n",
    "\n",
    "sns.barplot(x = \"Parental_Level_of_Education\", y = \"Writing_Score\", hue = \"Gender\", data = data)\n",
    "\n",
    "plt.xticks(rotation=45)\n",
    "plt.show()"
   ]
  },
  {
   "cell_type": "code",
   "execution_count": null,
   "metadata": {},
   "outputs": [],
   "source": []
  },
  {
   "cell_type": "markdown",
   "metadata": {},
   "source": [
    "plt.figure(figsize=(12,7))\n",
    "sns.catplot(y=\"Gender\", x=\"Math_Score\",\n",
    "                 hue=\"Parental_Level_of_Education\",\n",
    "                 data=data, kind=\"bar\")\n",
    "plt.title('for Parental Level Of Education Gender & Math_Score')\n",
    "plt.show()"
   ]
  },
  {
   "cell_type": "code",
   "execution_count": null,
   "metadata": {},
   "outputs": [],
   "source": []
  },
  {
   "cell_type": "markdown",
   "metadata": {},
   "source": [
    "# Point Plot"
   ]
  },
  {
   "cell_type": "markdown",
   "metadata": {},
   "source": [
    "#Gender show point plot\n",
    "data['Race/Ethnicity'].unique()\n",
    "len(data[(data['Race/Ethnicity']=='group B')].Math_Score)\n",
    "f,ax1=plt.subplots(figsize=(25,10))\n",
    "sns.pointplot(x=np.arange(1,191),y=data[(data['Race/Ethnicity']=='group B')].Math_Score,color='lime',alpha=0.8)\n",
    "sns.pointplot(x=np.arange(1,191),y=data[(data['Race/Ethnicity']=='group B')].Reading_Score,color='red',alpha=0.5)\n",
    "#sns.pointplot(x=np.arange(1,191),y=data[(data['Race/Ethnicity']=='group B')].Math_Score,color='lime',alpha=0.8)\n",
    "plt.xlabel('Group B index State')\n",
    "plt.ylabel('Frequency')\n",
    "plt.title('Group B Math Score & Reading_Score')\n",
    "plt.xticks(rotation=90)\n",
    "plt.grid()\n",
    "plt.show()"
   ]
  },
  {
   "cell_type": "code",
   "execution_count": null,
   "metadata": {},
   "outputs": [],
   "source": []
  },
  {
   "cell_type": "markdown",
   "metadata": {},
   "source": [
    "ax = sns.pointplot(x=\"Reading_Score\", y=\"Writing_Score\", hue=\"Gender\",data=data,markers=[\"o\", \"x\"],linestyles=[\"-\", \"--\"])\n",
    "plt.xticks(rotation=90)\n",
    "plt.show()"
   ]
  },
  {
   "cell_type": "code",
   "execution_count": null,
   "metadata": {},
   "outputs": [],
   "source": []
  },
  {
   "cell_type": "markdown",
   "metadata": {},
   "source": [
    "# Joint Plot\n",
    "```python\n",
    "plt.figure(figsize=(10,10))\n",
    "sns.jointplot(x=np.arange(1,191),y=data[(data['Race/Ethnicity']=='group B')].Math_Score,color='lime',alpha=0.8)\n",
    "plt.xlabel('Group B index State')\n",
    "plt.ylabel('Frequency')\n",
    "plt.title('Group B Frequency Race/Ethnicity')\n",
    "plt.xticks(rotation=90)\n",
    "plt.tight_layout()\n",
    "plt.show()\n"
   ]
  },
  {
   "cell_type": "code",
   "execution_count": null,
   "metadata": {},
   "outputs": [],
   "source": []
  },
  {
   "cell_type": "markdown",
   "metadata": {},
   "source": [
    "```python\n",
    "plt.figure(figsize=(10,10))\n",
    "sns.jointplot(x=np.arange(1,191),y=data[(data['Race/Ethnicity']=='group B')].Math_Score,color='lime',kind='hex',alpha=0.8)\n",
    "plt.xlabel('Group B index State')\n",
    "plt.ylabel('Frequency')\n",
    "plt.title('Group B Frequency Race/Ethnicity')\n",
    "plt.xticks(rotation=90)\n",
    "plt.tight_layout()\n",
    "plt.show()"
   ]
  },
  {
   "cell_type": "code",
   "execution_count": null,
   "metadata": {},
   "outputs": [],
   "source": []
  },
  {
   "cell_type": "markdown",
   "metadata": {},
   "source": [
    "```python\n",
    "plt.figure(figsize=(10,10))\n",
    "sns.jointplot(x=np.arange(1,191),y=data[(data['Race/Ethnicity']=='group B')].Math_Score,color='lime',space=0,kind='kde')\n",
    "plt.xlabel('Group B index State')\n",
    "plt.ylabel('Frequency')\n",
    "plt.title('Group B Frequency Race/Ethnicity')\n",
    "plt.xticks(rotation=90)\n",
    "plt.tight_layout()\n",
    "plt.show()"
   ]
  },
  {
   "cell_type": "code",
   "execution_count": null,
   "metadata": {},
   "outputs": [],
   "source": []
  },
  {
   "cell_type": "markdown",
   "metadata": {},
   "source": [
    "# Pie Chart"
   ]
  },
  {
   "cell_type": "markdown",
   "metadata": {},
   "source": [
    "```python\n",
    "labels=data['Race/Ethnicity'].value_counts().index\n",
    "colors=['blue','red','yellow','green','brown']\n",
    "explode=[0,0,0.1,0,0]\n",
    "values=data['Race/Ethnicity'].value_counts().values\n",
    "\n",
    "#visualization\n",
    "plt.figure(figsize=(7,7))\n",
    "plt.pie(values,explode=explode,labels=labels,colors=colors,autopct='%1.1f%%')\n",
    "plt.title('Race/Ethnicity According Analysis',color='black',fontsize=10)\n",
    "plt.show()"
   ]
  },
  {
   "cell_type": "code",
   "execution_count": null,
   "metadata": {},
   "outputs": [],
   "source": []
  },
  {
   "cell_type": "markdown",
   "metadata": {},
   "source": [
    "# Lm Plot"
   ]
  },
  {
   "cell_type": "markdown",
   "metadata": {},
   "source": [
    "```python\n",
    "sns.lmplot(x='Math_Score',y='Reading_Score',data=data)\n",
    "plt.xlabel('Math Score')\n",
    "plt.ylabel('Reading Score')\n",
    "plt.title('Math Score vs Reading Score')\n",
    "plt.show()"
   ]
  },
  {
   "cell_type": "code",
   "execution_count": null,
   "metadata": {},
   "outputs": [],
   "source": []
  },
  {
   "cell_type": "markdown",
   "metadata": {},
   "source": [
    "```python\n",
    "sns.lmplot(x='Math_Score',y='Writing_Score',hue='Gender',data=data)\n",
    "plt.xlabel('Math Score')\n",
    "plt.ylabel('Writing Score')\n",
    "plt.title('Math Score vs Writing Score')\n",
    "plt.show()"
   ]
  },
  {
   "cell_type": "code",
   "execution_count": null,
   "metadata": {},
   "outputs": [],
   "source": []
  },
  {
   "cell_type": "markdown",
   "metadata": {},
   "source": [
    "# Kde Plot\n",
    "\n",
    "seaborn.kdeplot(data, data2=None, shade=False, vertical=False, kernel='gau', bw='scott', gridsize=100, cut=3, clip=None, legend=True, cumulative=False, shade_lowest=True, cbar=False, cbar_ax=None, cbar_kws=None, ax=None, **kwargs)\n",
    "\n",
    "data : 1d array-like\n",
    "data2: 1d array-like, optional\n",
    "shade : bool, optional\n",
    "vertical : bool, optional\n",
    "kernel : {‘gau’ | ‘cos’ | ‘biw’ | ‘epa’ | ‘tri’ | ‘triw’ }, optional\n",
    "cut : scalar, optional\n",
    "legend : bool, optional\n",
    "ax : matplotlib axes, optiona"
   ]
  },
  {
   "cell_type": "markdown",
   "metadata": {},
   "source": [
    "```python\n",
    "sns.kdeplot(data['Math_Score'])\n",
    "plt.xlabel('Values')\n",
    "plt.ylabel('Frequency')\n",
    "plt.title('Math Score Kde Plot System Analysis')\n",
    "plt.show()"
   ]
  },
  {
   "cell_type": "code",
   "execution_count": null,
   "metadata": {},
   "outputs": [],
   "source": []
  },
  {
   "cell_type": "markdown",
   "metadata": {},
   "source": [
    "```python\n",
    "sns.kdeplot(data['Reading_Score'],fill=True,color='r')\n",
    "sns.kdeplot(data['Writing_Score'],fill=True,color='b')\n",
    "plt.xlabel('Values')\n",
    "plt.ylabel('Frequency')\n",
    "plt.title('Reading Score vs Writing Score Kde Plot System Analysis')\n",
    "plt.show()"
   ]
  },
  {
   "cell_type": "code",
   "execution_count": null,
   "metadata": {},
   "outputs": [],
   "source": []
  },
  {
   "cell_type": "markdown",
   "metadata": {},
   "source": [
    "# Box Plot\n",
    "\n",
    "seaborn.boxplot(x=None, y=None, hue=None, data=None, order=None, hue_order=None, orient=None, color=None, palette=None, saturation=0.75, width=0.8, dodge=True, fliersize=5, linewidth=None, whis=1.5, notch=False, ax=None, **kwargs)\n",
    "\n",
    "x, y, hue : names of variables in data or vector data, optional\n",
    "data : DataFrame, array, or list of arrays, optional\n",
    "color : matplotlib color, optional\n",
    "dodge : bool, optional\n",
    "linewidth : float, optional\n",
    "ax : matplotlib Axes, optional"
   ]
  },
  {
   "cell_type": "markdown",
   "metadata": {},
   "source": [
    "```python\n",
    "sns.set(style='whitegrid')\n",
    "sns.boxplot(data['Math_Score'])\n",
    "plt.show()"
   ]
  },
  {
   "cell_type": "code",
   "execution_count": null,
   "metadata": {},
   "outputs": [],
   "source": []
  },
  {
   "cell_type": "markdown",
   "metadata": {},
   "source": [
    "```python\n",
    "sns.boxplot(x=data['Gender'],y=data['Math_Score'])\n",
    "plt.show()"
   ]
  },
  {
   "cell_type": "code",
   "execution_count": null,
   "metadata": {},
   "outputs": [],
   "source": []
  },
  {
   "cell_type": "markdown",
   "metadata": {},
   "source": [
    "```python\n",
    "sns.boxplot(x=data['Race/Ethnicity'],y=data['Writing_Score'],hue=data['Gender'],palette=\"Set3\")\n",
    "plt.show()"
   ]
  },
  {
   "cell_type": "code",
   "execution_count": null,
   "metadata": {},
   "outputs": [],
   "source": []
  },
  {
   "cell_type": "markdown",
   "metadata": {},
   "source": [
    "# Pair Plot\n",
    "\n",
    "seaborn.pairplot(data, hue=None, hue_order=None, palette=None, vars=None, x_vars=None, y_vars=None, kind='scatter', diag_kind='auto', markers=None, height=2.5, aspect=1, dropna=True, plot_kws=None, diag_kws=None, grid_kws=None, size=None)\n",
    "\n",
    "data : DataFrame\n",
    "hue : string (variable name), optional\n",
    "hue_order : list of strings\n",
    "palette : dict or seaborn color palette\n",
    "markers : single matplotlib marker code or list, optional\n",
    "dropna : boolean, optional\n",
    "height : scalar, optional"
   ]
  },
  {
   "cell_type": "code",
   "execution_count": null,
   "metadata": {},
   "outputs": [],
   "source": []
  },
  {
   "cell_type": "markdown",
   "metadata": {},
   "source": [
    "```python\n",
    "sns.pairplot(data)\n",
    "plt.show()"
   ]
  },
  {
   "cell_type": "code",
   "execution_count": null,
   "metadata": {},
   "outputs": [],
   "source": []
  },
  {
   "cell_type": "markdown",
   "metadata": {},
   "source": [
    "```python\n",
    "sns.pairplot(data,diag_kind='kde')\n",
    "plt.show()"
   ]
  },
  {
   "cell_type": "code",
   "execution_count": null,
   "metadata": {},
   "outputs": [],
   "source": []
  },
  {
   "cell_type": "markdown",
   "metadata": {},
   "source": [
    "```python\n",
    "sns.pairplot(data,kind='reg')\n",
    "plt.show()"
   ]
  },
  {
   "cell_type": "code",
   "execution_count": null,
   "metadata": {},
   "outputs": [],
   "source": []
  },
  {
   "cell_type": "markdown",
   "metadata": {},
   "source": [
    "```python\n",
    "sns.pairplot(data, hue=\"Reading_Score\")\n",
    "plt.show()"
   ]
  },
  {
   "cell_type": "code",
   "execution_count": null,
   "metadata": {},
   "outputs": [],
   "source": []
  },
  {
   "cell_type": "markdown",
   "metadata": {},
   "source": [
    "# Line Plot\n",
    "\n",
    "seaborn.lineplot(x=None, y=None, hue=None, size=None, style=None, data=None, palette=None, hue_order=None, hue_norm=None, sizes=None, size_order=None, size_norm=None, dashes=True, markers=None, style_order=None, units=None, estimator='mean', ci=95, n_boot=1000, sort=True, err_style='band', err_kws=None, legend='brief', ax=None, **kwargs)\n",
    "\n",
    "x, y : names of variables in data or vector data, optional\n",
    "hue : name of variables in data or vector data, optional\n",
    "size : name of variables in data or vector data, optional\n",
    "style : name of variables in data or vector data, optional\n",
    "data : DataFrame\n",
    "palette : palette name, list, or dict, optional"
   ]
  },
  {
   "cell_type": "markdown",
   "metadata": {},
   "source": [
    "```python\n",
    "data[data['Gender']=='male']['Math_Score'].value_counts().sort_index().plot.line(color='b')\n",
    "data[data['Gender']=='female']['Math_Score'].value_counts().sort_index().plot.line(color='r')\n",
    "plt.xlabel('Math_Score')\n",
    "plt.ylabel('Frequency')\n",
    "plt.title('Math_Score vs Frequency')\n",
    "plt.show()"
   ]
  },
  {
   "cell_type": "code",
   "execution_count": null,
   "metadata": {},
   "outputs": [],
   "source": []
  },
  {
   "cell_type": "markdown",
   "metadata": {},
   "source": [
    "```python\n",
    "sns.lineplot(x='Math_Score',y='Reading_Score',data=data)\n",
    "plt.show()"
   ]
  }
 ],
 "metadata": {
  "language_info": {
   "name": "python"
  }
 },
 "nbformat": 4,
 "nbformat_minor": 2
}
