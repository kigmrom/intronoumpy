{
 "cells": [
  {
   "cell_type": "markdown",
   "metadata": {},
   "source": [
    "# 01 Introduccion a NumPY"
   ]
  },
  {
   "cell_type": "markdown",
   "metadata": {},
   "source": [
    "### 1. Importar libreria numpy\n",
    "\n",
    ">>  _import numpy as np_\n"
   ]
  },
  {
   "cell_type": "code",
   "execution_count": null,
   "metadata": {},
   "outputs": [],
   "source": []
  },
  {
   "cell_type": "markdown",
   "metadata": {},
   "source": [
    "### 2. crear un array de numpy\n",
    "\n",
    "> _arr = [1,2,3,4]_ <br>\n",
    "> _numpy = np.array(arr)_"
   ]
  },
  {
   "cell_type": "code",
   "execution_count": null,
   "metadata": {},
   "outputs": [],
   "source": []
  },
  {
   "cell_type": "markdown",
   "metadata": {},
   "source": [
    "### 3.  Array bidimensional\n",
    "\n",
    "> _bi_arr = [[1,2],[3,4],[5,6]]_ <br>\n",
    ">  _np.array(bi_arr)_"
   ]
  },
  {
   "cell_type": "code",
   "execution_count": null,
   "metadata": {},
   "outputs": [],
   "source": []
  },
  {
   "cell_type": "markdown",
   "metadata": {},
   "source": [
    "### 4. Rangos de Numeros\n",
    "\n",
    "_print(np.arange(10))_\n",
    "\n",
    "_print(np.arange(1,10))_\n",
    "\n",
    "_print(np.arange(0,10,2))_"
   ]
  },
  {
   "cell_type": "code",
   "execution_count": null,
   "metadata": {},
   "outputs": [],
   "source": []
  },
  {
   "cell_type": "markdown",
   "metadata": {},
   "source": [
    "### 5. Vector de Ceros y Unos\n",
    "\n",
    "_print(np.zeros(3))_\n",
    "\n",
    "_print(np.ones(3))_"
   ]
  },
  {
   "cell_type": "code",
   "execution_count": null,
   "metadata": {},
   "outputs": [],
   "source": []
  },
  {
   "cell_type": "markdown",
   "metadata": {},
   "source": [
    "### 6. Matriz de ceros y unos\n",
    "_print(np.ones((3,4)))_"
   ]
  },
  {
   "cell_type": "code",
   "execution_count": null,
   "metadata": {},
   "outputs": [],
   "source": []
  },
  {
   "cell_type": "markdown",
   "metadata": {},
   "source": [
    "### 7. Matriz Identidad\n",
    "_print(np.eye(5))_"
   ]
  },
  {
   "cell_type": "code",
   "execution_count": null,
   "metadata": {},
   "outputs": [],
   "source": []
  },
  {
   "cell_type": "markdown",
   "metadata": {},
   "source": [
    "### 8. Dividir Rango en n valores\n",
    "\n",
    "_print(np.linspace(0,10,3))_  <br>\n",
    "\n",
    "_print(np.linspace(0,10,20))_"
   ]
  },
  {
   "cell_type": "code",
   "execution_count": null,
   "metadata": {},
   "outputs": [],
   "source": []
  },
  {
   "cell_type": "markdown",
   "metadata": {},
   "source": [
    "### 9. Numeros aleatorios\n",
    "_print(np.random.rand(10))_\n",
    "\n",
    "_print(np.random.rand(3,4))_\n",
    "\n",
    "_print(np.random.randn(10))_\n",
    "\n",
    "_print(np.random.randn(3,4))_\n",
    "\n",
    "_print(np.random.randint(1,100,10))_\n",
    "\n",
    "_print(np.random.randint(1,100,(2,3)))_\n"
   ]
  },
  {
   "cell_type": "code",
   "execution_count": null,
   "metadata": {},
   "outputs": [],
   "source": []
  },
  {
   "cell_type": "markdown",
   "metadata": {},
   "source": [
    "### 10. Numeros aleatorios con semilla\n",
    "\n",
    "_np.random.seed(42)_\n",
    "\n",
    "_print(np.random.rand(4))_"
   ]
  },
  {
   "cell_type": "code",
   "execution_count": null,
   "metadata": {},
   "outputs": [],
   "source": []
  }
 ],
 "metadata": {
  "language_info": {
   "name": "python"
  }
 },
 "nbformat": 4,
 "nbformat_minor": 2
}
